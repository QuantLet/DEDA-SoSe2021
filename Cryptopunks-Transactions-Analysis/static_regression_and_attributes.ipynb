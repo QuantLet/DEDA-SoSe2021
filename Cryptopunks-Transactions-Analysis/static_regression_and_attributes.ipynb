{
 "cells": [
  {
   "cell_type": "markdown",
   "id": "R4pxiyj_N2jN",
   "metadata": {
    "id": "R4pxiyj_N2jN"
   },
   "source": [
    "## Install, Imports and Helper Functions"
   ]
  },
  {
   "cell_type": "code",
   "execution_count": 96,
   "id": "5b5lI8wXM7bF",
   "metadata": {
    "colab": {
     "base_uri": "https://localhost:8080/"
    },
    "id": "5b5lI8wXM7bF",
    "outputId": "7667dd25-6303-4e11-dbd6-134b7f8c82a5"
   },
   "outputs": [
    {
     "name": "stdout",
     "output_type": "stream",
     "text": [
      "Requirement already satisfied: linearmodels in c:\\users\\julia\\anaconda3\\lib\\site-packages (4.24)\n",
      "Requirement already satisfied: property-cached>=1.6.3 in c:\\users\\julia\\anaconda3\\lib\\site-packages (from linearmodels) (1.6.4)\n",
      "Requirement already satisfied: scipy>=1.2 in c:\\users\\julia\\anaconda3\\lib\\site-packages (from linearmodels) (1.6.2)\n",
      "Requirement already satisfied: patsy in c:\\users\\julia\\anaconda3\\lib\\site-packages (from linearmodels) (0.5.1)\n",
      "Requirement already satisfied: Cython>=0.29.21 in c:\\users\\julia\\anaconda3\\lib\\site-packages (from linearmodels) (0.29.23)\n",
      "Requirement already satisfied: statsmodels>=0.11 in c:\\users\\julia\\anaconda3\\lib\\site-packages (from linearmodels) (0.12.2)\n",
      "Requirement already satisfied: numpy>=1.16 in c:\\users\\julia\\anaconda3\\lib\\site-packages (from linearmodels) (1.20.1)\n",
      "Requirement already satisfied: pandas>=0.24 in c:\\users\\julia\\anaconda3\\lib\\site-packages (from linearmodels) (1.2.4)\n",
      "Requirement already satisfied: mypy-extensions>=0.4 in c:\\users\\julia\\anaconda3\\lib\\site-packages (from linearmodels) (0.4.3)\n",
      "Requirement already satisfied: pyhdfe>=0.1 in c:\\users\\julia\\anaconda3\\lib\\site-packages (from linearmodels) (0.1.0)\n",
      "Requirement already satisfied: python-dateutil>=2.7.3 in c:\\users\\julia\\anaconda3\\lib\\site-packages (from pandas>=0.24->linearmodels) (2.8.1)\n",
      "Requirement already satisfied: pytz>=2017.3 in c:\\users\\julia\\anaconda3\\lib\\site-packages (from pandas>=0.24->linearmodels) (2021.1)\n",
      "Requirement already satisfied: six>=1.5 in c:\\users\\julia\\anaconda3\\lib\\site-packages (from python-dateutil>=2.7.3->pandas>=0.24->linearmodels) (1.15.0)\n",
      "Requirement already satisfied: mlxtend in c:\\users\\julia\\anaconda3\\lib\\site-packages (0.18.0)\n",
      "Requirement already satisfied: matplotlib>=3.0.0 in c:\\users\\julia\\anaconda3\\lib\\site-packages (from mlxtend) (3.3.4)\n",
      "Requirement already satisfied: scikit-learn>=0.20.3 in c:\\users\\julia\\anaconda3\\lib\\site-packages (from mlxtend) (0.24.1)\n",
      "Requirement already satisfied: pandas>=0.24.2 in c:\\users\\julia\\anaconda3\\lib\\site-packages (from mlxtend) (1.2.4)\n",
      "Requirement already satisfied: setuptools in c:\\users\\julia\\anaconda3\\lib\\site-packages (from mlxtend) (52.0.0.post20210125)\n",
      "Requirement already satisfied: joblib>=0.13.2 in c:\\users\\julia\\anaconda3\\lib\\site-packages (from mlxtend) (1.0.1)\n",
      "Requirement already satisfied: scipy>=1.2.1 in c:\\users\\julia\\anaconda3\\lib\\site-packages (from mlxtend) (1.6.2)\n",
      "Requirement already satisfied: numpy>=1.16.2 in c:\\users\\julia\\anaconda3\\lib\\site-packages (from mlxtend) (1.20.1)\n",
      "Requirement already satisfied: python-dateutil>=2.1 in c:\\users\\julia\\anaconda3\\lib\\site-packages (from matplotlib>=3.0.0->mlxtend) (2.8.1)\n",
      "Requirement already satisfied: cycler>=0.10 in c:\\users\\julia\\anaconda3\\lib\\site-packages (from matplotlib>=3.0.0->mlxtend) (0.10.0)\n",
      "Requirement already satisfied: pyparsing!=2.0.4,!=2.1.2,!=2.1.6,>=2.0.3 in c:\\users\\julia\\anaconda3\\lib\\site-packages (from matplotlib>=3.0.0->mlxtend) (2.4.7)\n",
      "Requirement already satisfied: pillow>=6.2.0 in c:\\users\\julia\\anaconda3\\lib\\site-packages (from matplotlib>=3.0.0->mlxtend) (8.2.0)\n",
      "Requirement already satisfied: kiwisolver>=1.0.1 in c:\\users\\julia\\anaconda3\\lib\\site-packages (from matplotlib>=3.0.0->mlxtend) (1.3.1)\n",
      "Requirement already satisfied: six in c:\\users\\julia\\anaconda3\\lib\\site-packages (from cycler>=0.10->matplotlib>=3.0.0->mlxtend) (1.15.0)\n",
      "Requirement already satisfied: pytz>=2017.3 in c:\\users\\julia\\anaconda3\\lib\\site-packages (from pandas>=0.24.2->mlxtend) (2021.1)\n",
      "Requirement already satisfied: threadpoolctl>=2.0.0 in c:\\users\\julia\\anaconda3\\lib\\site-packages (from scikit-learn>=0.20.3->mlxtend) (2.1.0)\n",
      "Requirement already satisfied: matplotlib-venn in c:\\users\\julia\\anaconda3\\lib\\site-packages (0.11.6)\n",
      "Requirement already satisfied: numpy in c:\\users\\julia\\anaconda3\\lib\\site-packages (from matplotlib-venn) (1.20.1)\n",
      "Requirement already satisfied: matplotlib in c:\\users\\julia\\anaconda3\\lib\\site-packages (from matplotlib-venn) (3.3.4)\n",
      "Requirement already satisfied: scipy in c:\\users\\julia\\anaconda3\\lib\\site-packages (from matplotlib-venn) (1.6.2)\n",
      "Requirement already satisfied: kiwisolver>=1.0.1 in c:\\users\\julia\\anaconda3\\lib\\site-packages (from matplotlib->matplotlib-venn) (1.3.1)\n",
      "Requirement already satisfied: python-dateutil>=2.1 in c:\\users\\julia\\anaconda3\\lib\\site-packages (from matplotlib->matplotlib-venn) (2.8.1)\n",
      "Requirement already satisfied: cycler>=0.10 in c:\\users\\julia\\anaconda3\\lib\\site-packages (from matplotlib->matplotlib-venn) (0.10.0)\n",
      "Requirement already satisfied: pyparsing!=2.0.4,!=2.1.2,!=2.1.6,>=2.0.3 in c:\\users\\julia\\anaconda3\\lib\\site-packages (from matplotlib->matplotlib-venn) (2.4.7)\n",
      "Requirement already satisfied: pillow>=6.2.0 in c:\\users\\julia\\anaconda3\\lib\\site-packages (from matplotlib->matplotlib-venn) (8.2.0)\n",
      "Requirement already satisfied: six in c:\\users\\julia\\anaconda3\\lib\\site-packages (from cycler>=0.10->matplotlib->matplotlib-venn) (1.15.0)\n",
      "Requirement already satisfied: lightgbm in c:\\users\\julia\\anaconda3\\lib\\site-packages (3.2.1)\n",
      "Requirement already satisfied: scipy in c:\\users\\julia\\anaconda3\\lib\\site-packages (from lightgbm) (1.6.2)\n",
      "Requirement already satisfied: numpy in c:\\users\\julia\\anaconda3\\lib\\site-packages (from lightgbm) (1.20.1)\n",
      "Requirement already satisfied: wheel in c:\\users\\julia\\anaconda3\\lib\\site-packages (from lightgbm) (0.36.2)\n",
      "Requirement already satisfied: scikit-learn!=0.22.0 in c:\\users\\julia\\anaconda3\\lib\\site-packages (from lightgbm) (0.24.1)\n",
      "Requirement already satisfied: joblib>=0.11 in c:\\users\\julia\\anaconda3\\lib\\site-packages (from scikit-learn!=0.22.0->lightgbm) (1.0.1)\n",
      "Requirement already satisfied: threadpoolctl>=2.0.0 in c:\\users\\julia\\anaconda3\\lib\\site-packages (from scikit-learn!=0.22.0->lightgbm) (2.1.0)\n",
      "Requirement already satisfied: prince in c:\\users\\julia\\anaconda3\\lib\\site-packages (0.7.1)\n",
      "Requirement already satisfied: scipy>=1.3.0 in c:\\users\\julia\\anaconda3\\lib\\site-packages (from prince) (1.6.2)\n",
      "Requirement already satisfied: scikit-learn>=0.22.1 in c:\\users\\julia\\anaconda3\\lib\\site-packages (from prince) (0.24.1)\n",
      "Requirement already satisfied: pandas>=1.0.3 in c:\\users\\julia\\anaconda3\\lib\\site-packages (from prince) (1.2.4)\n",
      "Requirement already satisfied: numpy>=1.17.1 in c:\\users\\julia\\anaconda3\\lib\\site-packages (from prince) (1.20.1)\n",
      "Requirement already satisfied: matplotlib>=3.0.2 in c:\\users\\julia\\anaconda3\\lib\\site-packages (from prince) (3.3.4)\n",
      "Requirement already satisfied: cycler>=0.10 in c:\\users\\julia\\anaconda3\\lib\\site-packages (from matplotlib>=3.0.2->prince) (0.10.0)\n",
      "Requirement already satisfied: python-dateutil>=2.1 in c:\\users\\julia\\anaconda3\\lib\\site-packages (from matplotlib>=3.0.2->prince) (2.8.1)\n",
      "Requirement already satisfied: pillow>=6.2.0 in c:\\users\\julia\\anaconda3\\lib\\site-packages (from matplotlib>=3.0.2->prince) (8.2.0)\n",
      "Requirement already satisfied: pyparsing!=2.0.4,!=2.1.2,!=2.1.6,>=2.0.3 in c:\\users\\julia\\anaconda3\\lib\\site-packages (from matplotlib>=3.0.2->prince) (2.4.7)\n",
      "Requirement already satisfied: kiwisolver>=1.0.1 in c:\\users\\julia\\anaconda3\\lib\\site-packages (from matplotlib>=3.0.2->prince) (1.3.1)\n",
      "Requirement already satisfied: six in c:\\users\\julia\\anaconda3\\lib\\site-packages (from cycler>=0.10->matplotlib>=3.0.2->prince) (1.15.0)\n",
      "Requirement already satisfied: pytz>=2017.3 in c:\\users\\julia\\anaconda3\\lib\\site-packages (from pandas>=1.0.3->prince) (2021.1)\n",
      "Requirement already satisfied: threadpoolctl>=2.0.0 in c:\\users\\julia\\anaconda3\\lib\\site-packages (from scikit-learn>=0.22.1->prince) (2.1.0)\n",
      "Requirement already satisfied: joblib>=0.11 in c:\\users\\julia\\anaconda3\\lib\\site-packages (from scikit-learn>=0.22.1->prince) (1.0.1)\n"
     ]
    }
   ],
   "source": [
    "!pip install linearmodels\n",
    "!pip install mlxtend\n",
    "!pip install matplotlib-venn\n",
    "!pip install lightgbm\n",
    "!pip install prince"
   ]
  },
  {
   "cell_type": "code",
   "execution_count": 97,
   "id": "cf5231d8",
   "metadata": {
    "id": "cf5231d8"
   },
   "outputs": [],
   "source": [
    "import pandas as pd\n",
    "import matplotlib.pyplot as plt\n",
    "from matplotlib_venn import venn3, venn3_circles\n",
    "\n",
    "from scipy import stats\n",
    "from linearmodels import PooledOLS\n",
    "from linearmodels import PanelOLS\n",
    "from linearmodels import RandomEffects\n",
    "\n",
    "from sklearn import metrics\n",
    "from sklearn.linear_model import LinearRegression\n",
    "from sklearn.linear_model import Lasso\n",
    "from sklearn.linear_model import LassoCV\n",
    "from sklearn.model_selection import train_test_split\n",
    "from sklearn.model_selection import cross_val_score\n",
    "from sklearn.model_selection import RepeatedKFold\n",
    "from sklearn.metrics import mean_squared_error\n",
    "from sklearn.decomposition import PCA\n",
    "\n",
    "import numpy as np\n",
    "from numpy import mean\n",
    "from numpy import std\n",
    "from numpy import absolute\n",
    "from numpy import arange\n",
    "\n",
    "import statsmodels.api as sm\n",
    "from statsmodels.tools.eval_measures import rmse\n",
    "from statsmodels.tools.eval_measures import meanabs\n",
    "\n",
    "from mlxtend.feature_selection import SequentialFeatureSelector as SFS\n",
    "from mlxtend.plotting import plot_sequential_feature_selection as plot_sfs\n",
    "import lightgbm as lgb\n",
    "import prince"
   ]
  },
  {
   "cell_type": "code",
   "execution_count": 71,
   "id": "bc7cc336",
   "metadata": {
    "id": "bc7cc336"
   },
   "outputs": [],
   "source": [
    "# Helper Function\n",
    "def fix_df(x):\n",
    "    x['punk_id'] = x['punk_id'].astype('category')\n",
    "    x['type'] = x['type'].astype('category')\n",
    "    x['from'] = x['from'].astype(str)\n",
    "    x['to'] = x['to'].astype(str)\n",
    "    x['date'] = pd.to_datetime(x['date'], format = '%Y.%m.%d')\n",
    "    \n",
    "    x['amount_in_eth'] = x['amount_in_eth'].astype(str)\n",
    "    x['amount_in_eth'] = x['amount_in_eth'].str.replace('Y', '')\n",
    "    x['amount_in_eth'] = x['amount_in_eth'].str.replace('Z', '')\n",
    "    x['amount_in_eth'] = x['amount_in_eth'].str.replace('M', '')\n",
    "    x['amount_in_eth'] = x['amount_in_eth'].str.replace('T', '')\n",
    "    x['amount_in_eth'] = x['amount_in_eth'].str.replace('B', '')\n",
    "    x['amount_in_eth'] = x['amount_in_eth'].replace(',', '', regex=True)\n",
    "    x['amount_in_eth'] = x['amount_in_eth'].astype(float)\n",
    "\n",
    "    x['amount_in_dol'] = x['amount_in_dol'].astype(str)\n",
    "    x['amount_in_dol'] = x['amount_in_dol'].str.replace('Y', '')\n",
    "    x['amount_in_dol'] = x['amount_in_dol'].str.replace('B', '')\n",
    "    x['amount_in_dol'] = x['amount_in_dol'].str.replace('T', '')\n",
    "    x['amount_in_dol'] = x['amount_in_dol'].str.replace('P', '')\n",
    "    x['amount_in_dol'] = x['amount_in_dol'].str.replace('Z', '')\n",
    "    x['amount_in_dol'] = x['amount_in_dol'].replace('<', '', regex=True)\n",
    "    x['amount_in_dol'] = x['amount_in_dol'].replace(',', '', regex=True)\n",
    "    x['amount_in_dol'] = x['amount_in_dol'].astype(float)\n",
    "    \n",
    "    x['amount_in_eth'] = x['amount_in_eth'].fillna(0)\n",
    "    x['amount_in_dol'] = x['amount_in_dol'].fillna(0)\n",
    "\n",
    "    return x\n",
    "\n",
    "def outlier_truncation(x, factor=1.5):\n",
    "    '''\n",
    "    Identifies outlier values based on the inter-quartile range IQR. \n",
    "    Corresponding outliers are truncated and set to a contant value equal to the IQR\n",
    "    times a factor, which, following Tuckey's rule, we set to 1.5 by default\n",
    "    \n",
    "        Parameters:\n",
    "            x (Pandas Series): A data frame column to scan for outliers\n",
    "            factor (float): An outlier is a value this many times the IQR above q3/below q1\n",
    "            \n",
    "        Returns:\n",
    "            Adjusted variable in which outliers are truncated\n",
    "    Source: https://github.com/Humboldt-WI/bads/blob/master/tutorials/4_nb_data_preparation.ipynb\n",
    "    '''\n",
    "    x_new = x.copy()\n",
    "    \n",
    "    # Calculate IQR\n",
    "    IQR = x.quantile(0.75) - x.quantile(0.25) \n",
    "    \n",
    "    # Define upper/lower bound\n",
    "    upper = x.quantile(0.75) + factor*IQR\n",
    "    lower = x.quantile(0.25) - factor*IQR\n",
    "    \n",
    "    # Truncation\n",
    "    x_new[x < lower] = lower\n",
    "    x_new[x > upper] = upper\n",
    "    \n",
    "    return x_new"
   ]
  },
  {
   "cell_type": "markdown",
   "id": "-kLnKTOg8DMp",
   "metadata": {
    "id": "-kLnKTOg8DMp"
   },
   "source": [
    "# Data Imports"
   ]
  },
  {
   "cell_type": "code",
   "execution_count": 72,
   "id": "3729e75d",
   "metadata": {
    "colab": {
     "base_uri": "https://localhost:8080/"
    },
    "id": "3729e75d",
    "outputId": "dc032df0-d000-4c06-e2a1-0b16cb9062dd"
   },
   "outputs": [
    {
     "name": "stdout",
     "output_type": "stream",
     "text": [
      "transaction head\n",
      "  punk_id           type      from   to       date  amount_in_eth  \\\n",
      "0                                                                   \n",
      "0       0  Bid Withdrawn  0x983ace  nan 2021-05-10          250.0   \n",
      "1       0            Bid  0x983ace  nan 2021-04-11          250.0   \n",
      "2       0  Bid Withdrawn  0xd7510a  nan 2021-03-03          100.0   \n",
      "3       0            Bid  0xd7510a  nan 2021-02-20          100.0   \n",
      "4       0  Bid Withdrawn  natealex  nan 2020-09-16           69.0   \n",
      "\n",
      "   amount_in_dol  \n",
      "0                 \n",
      "0      1030000.0  \n",
      "1       537615.0  \n",
      "2       160973.0  \n",
      "3       188897.0  \n",
      "4        25532.0  \n",
      "\n",
      "accessoires head\n",
      "   gender             acc_1         acc_2       acc_3 acc_4 acc_5 acc_6 acc_7\n",
      "0  Female  Green Eye Shadow       Earring  Blonde Bob  None  None  None  None\n",
      "1    Male             Smile        Mohawk        None  None  None  None  None\n",
      "2  Female         Wild Hair          None        None  None  None  None  None\n",
      "3    Male         Wild Hair  Nerd Glasses        Pipe  None  None  None  None\n",
      "4    Male        Big Shades     Wild Hair     Earring  Goat  None  None  None\n",
      "\n",
      "accessoires Dummy Encoded head\n",
      "   punk_id  Beanie  Choker  Pilot Helmet  Tiara  Orange Side  Buck Teeth  \\\n",
      "0        0       0       0             0      0            0           0   \n",
      "1        1       0       0             0      0            0           0   \n",
      "2        2       0       0             0      0            0           0   \n",
      "3        3       0       0             0      0            0           0   \n",
      "4        4       0       0             0      0            0           0   \n",
      "\n",
      "   Welding Goggles  Pigtails  Pink With Hat  ...  Regular Shades  \\\n",
      "0                0         0              0  ...               0   \n",
      "1                0         0              0  ...               0   \n",
      "2                0         0              0  ...               0   \n",
      "3                0         0              0  ...               0   \n",
      "4                0         0              0  ...               0   \n",
      "\n",
      "   Horned Rim Glasses  Big Shades  Nerd Glasses  Black Lipstick  Mole  \\\n",
      "0                   0           0             0               0     0   \n",
      "1                   0           0             0               0     0   \n",
      "2                   0           0             0               0     0   \n",
      "3                   0           0             1               0     0   \n",
      "4                   0           1             0               0     0   \n",
      "\n",
      "   Purple Lipstick  Hot Lipstick  Cigarette  Earring  \n",
      "0                0             0          0        1  \n",
      "1                0             0          0        0  \n",
      "2                0             0          0        0  \n",
      "3                0             0          0        0  \n",
      "4                0             0          0        1  \n",
      "\n",
      "[5 rows x 88 columns]\n",
      "\n"
     ]
    }
   ],
   "source": [
    "# Read Transactions\n",
    "file = 'https://raw.githubusercontent.com/kalinakalina/DEDA_Cryptopunks/main/data/transaction.csv'\n",
    "df_tr = pd.read_csv(file, header = None, index_col = 0)\n",
    "df_tr.columns = ['type', 'from', 'to', 'date', 'punk_id', 'amount_in_eth', 'amount_in_dol']\n",
    "df_tr = df_tr[ ['punk_id'] + [ col for col in df_tr.columns if col != 'punk_id' ] ]\n",
    "df_tr = fix_df(df_tr)\n",
    "print('transaction head')\n",
    "print(df_tr.head())\n",
    "print()\n",
    "\n",
    "# Read Accessoires\n",
    "file2 = 'https://raw.githubusercontent.com/kalinakalina/DEDA_Cryptopunks/main/data/accessories.csv'\n",
    "df_acc = pd.read_csv(file2, header = None, sep='\\n')\n",
    "df_acc = df_acc[0].str.split(',', expand=True)\n",
    "df_acc.drop(0, axis=1, inplace=True)\n",
    "\n",
    "dict={1:'gender', \n",
    "      2:  'acc_1',\n",
    "      3:'acc_2', \n",
    "      4: 'acc_3',\n",
    "      5:'acc_4',\n",
    "      6: 'acc_5',\n",
    "      7:'acc_6',\n",
    "      8:'acc_7'}\n",
    "df_acc.rename(columns=dict,\n",
    "          inplace=True)\n",
    "print('accessoires head')\n",
    "print(df_acc.head())\n",
    "print()\n",
    "\n",
    "#Read Dummy Encoded Accessoires\n",
    "file3 = 'https://raw.githubusercontent.com/kalinakalina/DEDA_Cryptopunks/main/data/accessories_transformed_full.csv'\n",
    "acc = pd.read_csv(file3, index_col = 0)\n",
    "acc['punk_id'] = acc.index\n",
    "acc = acc[ ['punk_id'] + [ col for col in acc.columns if col != 'punk_id' ] ]\n",
    "print('accessoires Dummy Encoded head')\n",
    "print(acc.head())\n",
    "print()"
   ]
  },
  {
   "cell_type": "code",
   "execution_count": 73,
   "id": "eab25d2d",
   "metadata": {
    "id": "eab25d2d"
   },
   "outputs": [],
   "source": [
    "types = df_acc['gender']\n",
    "types_dummies = pd.get_dummies(types)\n",
    "types_dummies['punk_id'] = types_dummies.index\n",
    "types_dummies = types_dummies[ ['punk_id'] + [ col for col in types_dummies.columns if col != 'punk_id' ] ]"
   ]
  },
  {
   "cell_type": "markdown",
   "id": "ZvDWM_GUOBc4",
   "metadata": {
    "id": "ZvDWM_GUOBc4"
   },
   "source": [
    "# Data Preperation\n",
    "\n",
    "\n"
   ]
  },
  {
   "cell_type": "code",
   "execution_count": 74,
   "id": "8GRcRRg0OKuF",
   "metadata": {
    "colab": {
     "base_uri": "https://localhost:8080/"
    },
    "id": "8GRcRRg0OKuF",
    "outputId": "4a67edcd-7a4b-4658-d2fe-c503efe12df0"
   },
   "outputs": [
    {
     "name": "stdout",
     "output_type": "stream",
     "text": [
      "<class 'pandas.core.frame.DataFrame'>\n",
      "RangeIndex: 10000 entries, 0 to 9999\n",
      "Data columns (total 2 columns):\n",
      " #   Column         Non-Null Count  Dtype   \n",
      "---  ------         --------------  -----   \n",
      " 0   punk_id        10000 non-null  category\n",
      " 1   amount_in_dol  10000 non-null  float64 \n",
      "dtypes: category(1), float64(1)\n",
      "memory usage: 433.9 KB\n",
      "None\n",
      "         amount_in_dol  Alien  Ape  Female  Male  Zombie  Beanie  Choker  \\\n",
      "punk_id                                                                    \n",
      "0          1176.000000      0    0       1     0       0     0.0     0.0   \n",
      "1         13855.666667      0    0       0     1       0     0.0     0.0   \n",
      "2             0.000000      0    0       1     0       0     0.0     0.0   \n",
      "3             0.000000      0    0       0     1       0     0.0     0.0   \n",
      "4             0.000000      0    0       0     1       0     0.0     0.0   \n",
      "\n",
      "         Pilot Helmet  Tiara  ...  Regular Shades  Horned Rim Glasses  \\\n",
      "punk_id                       ...                                       \n",
      "0                 0.0    0.0  ...             0.0                 0.0   \n",
      "1                 0.0    0.0  ...             0.0                 0.0   \n",
      "2                 0.0    0.0  ...             0.0                 0.0   \n",
      "3                 0.0    0.0  ...             0.0                 0.0   \n",
      "4                 0.0    0.0  ...             0.0                 0.0   \n",
      "\n",
      "         Big Shades  Nerd Glasses  Black Lipstick  Mole  Purple Lipstick  \\\n",
      "punk_id                                                                    \n",
      "0               0.0           0.0             0.0   0.0              0.0   \n",
      "1               0.0           0.0             0.0   0.0              0.0   \n",
      "2               0.0           0.0             0.0   0.0              0.0   \n",
      "3               0.0           1.0             0.0   0.0              0.0   \n",
      "4               1.0           0.0             0.0   0.0              0.0   \n",
      "\n",
      "         Hot Lipstick  Cigarette  Earring  \n",
      "punk_id                                    \n",
      "0                 0.0        0.0      1.0  \n",
      "1                 0.0        0.0      0.0  \n",
      "2                 0.0        0.0      0.0  \n",
      "3                 0.0        0.0      0.0  \n",
      "4                 0.0        0.0      1.0  \n",
      "\n",
      "[5 rows x 93 columns]\n"
     ]
    }
   ],
   "source": [
    "#Average Sale Price for all Punks\n",
    "sales = df_tr[df_tr['type'].str.contains(\"Sold\")].reset_index(drop=True)\n",
    "sales = sales.drop(['from', 'to', 'type', 'amount_in_eth'], axis=1)\n",
    "sales = sales.groupby(['punk_id'])['amount_in_dol'].mean().reset_index()\n",
    "sales = sales.fillna(0)\n",
    "print(sales.info())\n",
    "\n",
    "## Join accessoires and prices\n",
    "df = pd.merge(sales, types_dummies, on=\"punk_id\", how='left')\n",
    "df = pd.merge(df, acc, on=\"punk_id\", how='left')\n",
    "\n",
    "df = df.set_index(['punk_id'])\n",
    "df = df.fillna(0)\n",
    "print(df.head())\n",
    "\n",
    "y = df['amount_in_dol']\n",
    "y = y.round(decimals=-2)\n",
    "\n",
    "X = df.iloc[:,1:]\n",
    "X = X.astype(int)\n",
    "\n",
    "#X = sm.add_constant(X)\n",
    "\n",
    "X_train, X_test, y_train, y_test = train_test_split(X, y, test_size=0.3, random_state=0)"
   ]
  },
  {
   "cell_type": "code",
   "execution_count": 75,
   "id": "E8eWjWgl9CVz",
   "metadata": {
    "id": "E8eWjWgl9CVz"
   },
   "outputs": [],
   "source": [
    "#Average Sale Price Without Punks that have 0 as average price (unsold)\n",
    "sales_na = df_tr[df_tr['type'].str.contains(\"Sold\")].reset_index(drop=True)\n",
    "sales_na = sales_na.drop(['from', 'to', 'type', 'amount_in_eth'], axis=1)\n",
    "sales_na = sales_na.groupby(['punk_id'])['amount_in_dol'].mean().reset_index()\n",
    "sales_na.dropna(axis = 0, how='any', inplace=True)\n",
    "\n",
    "df_na = pd.merge(sales_na, types_dummies, on=\"punk_id\", how='left')\n",
    "df_na= pd.merge(df_na, acc, on=\"punk_id\", how='left')\n",
    "df_na = df_na.set_index(['punk_id'])\n",
    "df_na.fillna(0, inplace=True)\n",
    "\n",
    "y_na = df_na['amount_in_dol']\n",
    "y_na = y_na.round(decimals=-2)\n",
    "\n",
    "X_na = df_na.iloc[:,1:]\n",
    "X_na = X_na.astype(int)\n",
    "#X_na = sm.add_constant(X_na)\n",
    "\n",
    "X_na_train, X_na_test, y_na_train, y_na_test = train_test_split(X_na, y_na, test_size=0.3, random_state=0)"
   ]
  },
  {
   "cell_type": "code",
   "execution_count": 76,
   "id": "pm4ECK2f_zHj",
   "metadata": {
    "colab": {
     "base_uri": "https://localhost:8080/"
    },
    "id": "pm4ECK2f_zHj",
    "outputId": "e436a114-3d9c-4d3d-ca59-383102880844"
   },
   "outputs": [
    {
     "name": "stdout",
     "output_type": "stream",
     "text": [
      "<class 'pandas.core.frame.DataFrame'>\n",
      "RangeIndex: 10000 entries, 0 to 9999\n",
      "Data columns (total 2 columns):\n",
      " #   Column         Non-Null Count  Dtype   \n",
      "---  ------         --------------  -----   \n",
      " 0   punk_id        10000 non-null  category\n",
      " 1   amount_in_dol  10000 non-null  float64 \n",
      "dtypes: category(1), float64(1)\n",
      "memory usage: 433.9 KB\n",
      "None\n",
      "sales Na\n",
      "<class 'pandas.core.frame.DataFrame'>\n",
      "Int64Index: 5591 entries, 0 to 9998\n",
      "Data columns (total 2 columns):\n",
      " #   Column         Non-Null Count  Dtype   \n",
      "---  ------         --------------  -----   \n",
      " 0   punk_id        5591 non-null   category\n",
      " 1   amount_in_dol  5591 non-null   float64 \n",
      "dtypes: category(1), float64(1)\n",
      "memory usage: 434.4 KB\n",
      "None\n"
     ]
    }
   ],
   "source": [
    "print(sales.info())\n",
    "\n",
    "print('sales Na')\n",
    "print(sales_na.info())"
   ]
  },
  {
   "cell_type": "markdown",
   "id": "8aehazMU21Ho",
   "metadata": {
    "id": "8aehazMU21Ho"
   },
   "source": [
    "# Linear Regression including all data\n",
    "Trained and tested on data that only non sales that average at 0."
   ]
  },
  {
   "cell_type": "code",
   "execution_count": 77,
   "id": "nq0jms6ByCcQ",
   "metadata": {
    "colab": {
     "base_uri": "https://localhost:8080/"
    },
    "id": "nq0jms6ByCcQ",
    "outputId": "af2e37a4-26b5-4589-a1bd-9d386c1e6a80"
   },
   "outputs": [
    {
     "name": "stdout",
     "output_type": "stream",
     "text": [
      "Result for Linear Regression \n",
      "\n",
      "Test R^2:  0.18332660467067163\n",
      "Adjusted Rsquared Train:  0.172\n",
      "Test R^2:  0.1690698441801125\n",
      "Adjusted Rsquared Test:  0.143\n",
      "Mean Absolute Error: 22802.392\n",
      "Mean Squared Error: 5022183806.464\n",
      "Root Mean Squared Error: 70867.368\n"
     ]
    }
   ],
   "source": [
    "lin_model = LinearRegression()\n",
    "lin_model.fit(X_train, y_train)\n",
    "lin_y_pred = lin_model.predict(X_test)\n",
    "\n",
    "print('Result for Linear Regression \\n')\n",
    "print('Test R^2: ', lin_model.score(X_train, y_train))\n",
    "\n",
    "print('Adjusted Rsquared Train: ', (1 - (1-lin_model.score(X_train, y_train))*(len(y_train)-1)/(len(y_train)-X_train.shape[1]-1)).round(decimals=3))\n",
    "print('Test R^2: ', lin_model.score(X_test, y_test))\n",
    "print('Adjusted Rsquared Test: ', (1 - (1-lin_model.score(X_test, y_test))*(len(y_test)-1)/(len(y_test)-X_test.shape[1]-1)).round(decimals=3))\n",
    "print('Mean Absolute Error:', metrics.mean_absolute_error(y_test, lin_y_pred).round(decimals=3))\n",
    "print('Mean Squared Error:', metrics.mean_squared_error(y_test, lin_y_pred).round(decimals=3))\n",
    "print('Root Mean Squared Error:', np.sqrt(metrics.mean_squared_error(y_test, lin_y_pred)).round(decimals=3))"
   ]
  },
  {
   "cell_type": "code",
   "execution_count": 78,
   "id": "PT9mu763Gxns",
   "metadata": {
    "colab": {
     "base_uri": "https://localhost:8080/"
    },
    "id": "PT9mu763Gxns",
    "outputId": "feb204e8-d852-4c41-eaa2-7e78afdd30e8"
   },
   "outputs": [
    {
     "name": "stdout",
     "output_type": "stream",
     "text": [
      "Mean Absolute Error: 22819.13765060718\n",
      "Root Mean Squared Error: 70866.7418137348\n",
      "\n",
      "                            OLS Regression Results                            \n",
      "==============================================================================\n",
      "Dep. Variable:          amount_in_dol   R-squared:                       0.183\n",
      "Model:                            OLS   Adj. R-squared:                  0.173\n",
      "Method:                 Least Squares   F-statistic:                     17.04\n",
      "Date:                Tue, 13 Jul 2021   Prob (F-statistic):          5.74e-235\n",
      "Time:                        21:25:12   Log-Likelihood:                -86324.\n",
      "No. Observations:                7000   AIC:                         1.728e+05\n",
      "Df Residuals:                    6908   BIC:                         1.735e+05\n",
      "Df Model:                          91                                         \n",
      "Covariance Type:            nonrobust                                         \n",
      "========================================================================================\n",
      "                           coef    std err          t      P>|t|      [0.025      0.975]\n",
      "----------------------------------------------------------------------------------------\n",
      "Alien                  9.34e+05   2.81e+04     33.188      0.000    8.79e+05    9.89e+05\n",
      "Ape                   2.186e+04   1.31e+04      1.665      0.096   -3877.457    4.76e+04\n",
      "Female                6283.7814   4664.560      1.347      0.178   -2860.191    1.54e+04\n",
      "Male                  4723.9306   4558.258      1.036      0.300   -4211.657    1.37e+04\n",
      "Zombie                9.995e+04   8356.190     11.961      0.000    8.36e+04    1.16e+05\n",
      "Beanie                3.411e+04   1.05e+04      3.241      0.001    1.35e+04    5.47e+04\n",
      "Choker                  1.9e+04   9745.790      1.950      0.051    -102.245    3.81e+04\n",
      "Pilot Helmet          2.623e+04   1.01e+04      2.594      0.010    6409.528    4.61e+04\n",
      "Tiara                 8218.5575   9666.943      0.850      0.395   -1.07e+04    2.72e+04\n",
      "Orange Side           5.164e+04   9397.865      5.495      0.000    3.32e+04    7.01e+04\n",
      "Buck Teeth            1.789e+04   8147.045      2.196      0.028    1921.166    3.39e+04\n",
      "Welding Goggles      -1116.7930   7802.079     -0.143      0.886   -1.64e+04    1.42e+04\n",
      "Pigtails              2.433e+04   8407.288      2.894      0.004    7850.530    4.08e+04\n",
      "Pink With Hat          1.51e+04   8468.422      1.783      0.075   -1498.572    3.17e+04\n",
      "Top Hat               1.975e+04   7544.399      2.617      0.009    4956.161    3.45e+04\n",
      "Spots                 8027.8932   6436.200      1.247      0.212   -4589.037    2.06e+04\n",
      "Rosy Cheeks            155.2781   5769.762      0.027      0.979   -1.12e+04    1.15e+04\n",
      "Blonde Short          5420.8194   7401.133      0.732      0.464   -9087.677    1.99e+04\n",
      "Wild White Hair       1003.6826   7110.178      0.141      0.888   -1.29e+04    1.49e+04\n",
      "Cowboy Hat            7521.5645   7146.084      1.053      0.293   -6486.957    2.15e+04\n",
      "Wild Blonde           6128.7890   6942.795      0.883      0.377   -7481.223    1.97e+04\n",
      "Straight Hair Blonde  2616.6528   7627.041      0.343      0.732   -1.23e+04    1.76e+04\n",
      "Big Beard             3141.7539   5596.814      0.561      0.575   -7829.723    1.41e+04\n",
      "Red Mohawk            1840.7725   6543.018      0.281      0.778    -1.1e+04    1.47e+04\n",
      "Half Shaved           1853.4478   7100.161      0.261      0.794   -1.21e+04    1.58e+04\n",
      "Blonde Bob            1020.1664   6984.105      0.146      0.884   -1.27e+04    1.47e+04\n",
      "Vampire Hair          6332.2719   6821.385      0.928      0.353   -7039.739    1.97e+04\n",
      "Clown Hair Green      9608.7663   6816.241      1.410      0.159   -3753.162     2.3e+04\n",
      "Straight Hair Dark    4496.4481   7691.430      0.585      0.559   -1.06e+04    1.96e+04\n",
      "Straight Hair          723.6881   7007.716      0.103      0.918    -1.3e+04    1.45e+04\n",
      "Silver Chain          7474.2816   5686.263      1.314      0.189   -3672.541    1.86e+04\n",
      "Dark Hair             4559.5330   6751.210      0.675      0.499   -8674.913    1.78e+04\n",
      "Purple Hair            1.04e+04   6571.222      1.583      0.114   -2482.192    2.33e+04\n",
      "Gold Chain            1374.4772   5103.793      0.269      0.788   -8630.525    1.14e+04\n",
      "Medical Mask         -6632.2944   5047.896     -1.314      0.189   -1.65e+04    3263.133\n",
      "Tassle Hat            -288.2490   6796.173     -0.042      0.966   -1.36e+04     1.3e+04\n",
      "Fedora                4554.6463   6434.068      0.708      0.479   -8058.106    1.72e+04\n",
      "Police Cap           -8494.4751   5812.032     -1.462      0.144   -1.99e+04    2898.894\n",
      "Clown Nose             380.5638   4833.160      0.079      0.937   -9093.916    9855.044\n",
      "Smile                 5266.5162   4445.042      1.185      0.236   -3447.133     1.4e+04\n",
      "Cap Forward           1.522e+04   5394.212      2.821      0.005    4642.257    2.58e+04\n",
      "Hoodie                2.384e+04   5857.515      4.071      0.000    1.24e+04    3.53e+04\n",
      "Front Beard Dark       504.0233   5697.623      0.088      0.930   -1.07e+04    1.17e+04\n",
      "Frown                 7026.0688   4330.778      1.622      0.105   -1463.587    1.55e+04\n",
      "Purple Eye Shadow     1495.9145   4505.083      0.332      0.740   -7335.434    1.03e+04\n",
      "Handlebars           -1680.6145   4304.329     -0.390      0.696   -1.01e+04    6757.193\n",
      "Blue Eye Shadow       2915.5475   4494.665      0.649      0.517   -5895.377    1.17e+04\n",
      "Green Eye Shadow      2295.6516   4185.891      0.548      0.583   -5909.981    1.05e+04\n",
      "Vape                  1496.4839   4113.433      0.364      0.716   -6567.109    9560.077\n",
      "Front Beard           -274.8095   4242.654     -0.065      0.948   -8591.715    8042.096\n",
      "Chinstrap             4505.1584   4127.024      1.092      0.275   -3585.077    1.26e+04\n",
      "3D Glasses            2.708e+04   3992.180      6.783      0.000    1.93e+04    3.49e+04\n",
      "Luxurious Beard       2045.2593   4095.473      0.499      0.618   -5983.126    1.01e+04\n",
      "Mustache              1869.2080   4180.960      0.447      0.655   -6326.759    1.01e+04\n",
      "Normal Beard Black    1128.9206   5322.913      0.212      0.832   -9305.625    1.16e+04\n",
      "Normal Beard          -423.8944   4005.952     -0.106      0.916   -8276.793    7429.004\n",
      "Eye Mask             -1635.0657   4146.924     -0.394      0.693   -9764.311    6494.179\n",
      "Goat                 -2719.2666   4136.308     -0.657      0.511   -1.08e+04    5389.170\n",
      "Do-rag                 538.1676   5614.187      0.096      0.924   -1.05e+04    1.15e+04\n",
      "Shaved Head            926.9905   5645.593      0.164      0.870   -1.01e+04     1.2e+04\n",
      "Muttonchops           -618.3655   3928.691     -0.157      0.875   -8319.807    7083.076\n",
      "Peak Spike           -1832.9924   5675.896     -0.323      0.747    -1.3e+04    9293.509\n",
      "Pipe                  2.398e+04   3911.575      6.131      0.000    1.63e+04    3.17e+04\n",
      "VR                    6886.5782   3810.266      1.807      0.071    -582.715    1.44e+04\n",
      "Cap                   2923.4947   5421.613      0.539      0.590   -7704.533    1.36e+04\n",
      "Small Shades          1.267e+04   3544.358      3.575      0.000    5723.502    1.96e+04\n",
      "Clown Eyes Green      2658.3296   3584.290      0.742      0.458   -4367.981    9684.640\n",
      "Clown Eyes Blue       2224.4949   3689.996      0.603      0.547   -5009.031    9458.021\n",
      "Headband             -1959.6948   5286.746     -0.371      0.711   -1.23e+04    8403.952\n",
      "Crazy Hair            6032.6882   5301.528      1.138      0.255   -4359.937    1.64e+04\n",
      "Knitted Cap          -3526.7939   4709.926     -0.749      0.454   -1.28e+04    5706.109\n",
      "Mohawk Dark            -25.0232   4581.440     -0.005      0.996   -9006.055    8956.009\n",
      "Mohawk                 980.9841   5234.778      0.187      0.851   -9280.791    1.12e+04\n",
      "Mohawk Thin             76.0534   4423.314      0.017      0.986   -8595.002    8747.109\n",
      "Frumpy Hair            323.0125   5213.603      0.062      0.951   -9897.253    1.05e+04\n",
      "Wild Hair             1051.1864   5194.139      0.202      0.840   -9130.924    1.12e+04\n",
      "Messy Hair           -1082.8259   5156.112     -0.210      0.834   -1.12e+04    9024.740\n",
      "Eye Patch             2360.7665   3279.543      0.720      0.472   -4068.145    8789.678\n",
      "Stringy Hair            -9.1699   5180.689     -0.002      0.999   -1.02e+04    1.01e+04\n",
      "Bandana                691.9929   5133.680      0.135      0.893   -9371.599    1.08e+04\n",
      "Classic Shades        5878.1424   3207.879      1.832      0.067    -410.286    1.22e+04\n",
      "Shadow Beard            32.3582   3138.475      0.010      0.992   -6120.019    6184.735\n",
      "Regular Shades         965.2060   3137.973      0.308      0.758   -5186.185    7116.597\n",
      "Horned Rim Glasses     677.3177   3071.553      0.221      0.825   -5343.870    6698.505\n",
      "Big Shades            5246.1310   3078.349      1.704      0.088    -788.379    1.13e+04\n",
      "Nerd Glasses          5939.8876   2946.365      2.016      0.044     164.106    1.17e+04\n",
      "Black Lipstick        -117.6309   3115.010     -0.038      0.970   -6224.009    5988.747\n",
      "Mole                  1455.7878   2773.099      0.525      0.600   -3980.340    6891.915\n",
      "Purple Lipstick        678.5604   3088.203      0.220      0.826   -5375.267    6732.388\n",
      "Hot Lipstick          3216.1539   3002.073      1.071      0.284   -2668.833    9101.141\n",
      "Cigarette             1299.6383   2296.710      0.566      0.572   -3202.619    5801.895\n",
      "Earring               1665.8485   1542.292      1.080      0.280   -1357.519    4689.216\n",
      "==============================================================================\n",
      "Omnibus:                    15772.557   Durbin-Watson:                   1.999\n",
      "Prob(Omnibus):                  0.000   Jarque-Bera (JB):        337123771.644\n",
      "Skew:                          20.590   Prob(JB):                         0.00\n",
      "Kurtosis:                    1077.317   Cond. No.                         39.6\n",
      "==============================================================================\n",
      "\n",
      "Notes:\n",
      "[1] Standard Errors assume that the covariance matrix of the errors is correctly specified.\n"
     ]
    }
   ],
   "source": [
    "regressor = sm.OLS(y_train, X_train).fit()\n",
    "y_pred = regressor.predict(X_test)\n",
    "print('Mean Absolute Error:', meanabs(y_test, y_pred))\n",
    "print('Root Mean Squared Error:', rmse(y_test, y_pred))\n",
    "print()\n",
    "print(regressor.summary())"
   ]
  },
  {
   "cell_type": "code",
   "execution_count": 79,
   "id": "aHRsxfosHHZb",
   "metadata": {
    "colab": {
     "base_uri": "https://localhost:8080/"
    },
    "id": "aHRsxfosHHZb",
    "outputId": "e9a2d5f6-c2e1-4927-ddbb-16354c9cec8e"
   },
   "outputs": [
    {
     "name": "stdout",
     "output_type": "stream",
     "text": [
      "Coefficients OLS with high significanz \n",
      " 3           Zombie\n",
      "4           Beanie\n",
      "6     Pilot Helmet\n",
      "8      Orange Side\n",
      "9       Buck Teeth\n",
      "11        Pigtails\n",
      "13         Top Hat\n",
      "39     Cap Forward\n",
      "40          Hoodie\n",
      "50      3D Glasses\n",
      "61            Pipe\n",
      "64    Small Shades\n",
      "84    Nerd Glasses\n",
      "Name: attr, dtype: object\n"
     ]
    }
   ],
   "source": [
    "tmp = (regressor.pvalues <= 0.05)[1:]\n",
    "tmp = pd.DataFrame(tmp)\n",
    "tmp.reset_index(level=0, inplace=True)\n",
    "tmp.rename(columns={0:'high_sig', 'index': 'attr'}, inplace=True )\n",
    "sigf = tmp.loc[tmp['high_sig'] == True, 'attr']\n",
    "print('Coefficients OLS with high significanz \\n', sigf)"
   ]
  },
  {
   "cell_type": "markdown",
   "id": "V-J92wGP-gS6",
   "metadata": {
    "id": "V-J92wGP-gS6"
   },
   "source": [
    "# Linear Regression without avg 0 Sales"
   ]
  },
  {
   "cell_type": "code",
   "execution_count": 80,
   "id": "m_I7zq5k-jhy",
   "metadata": {
    "colab": {
     "base_uri": "https://localhost:8080/"
    },
    "id": "m_I7zq5k-jhy",
    "outputId": "2f6e365a-cd85-4c46-b9db-1d5651994218"
   },
   "outputs": [
    {
     "name": "stdout",
     "output_type": "stream",
     "text": [
      "Result for Linear Regression \n",
      "\n",
      "Adjusted Rsquared Train:  0.245\n",
      "Test R^2:  0.236\n",
      "Adjusted Rsquared Test:  0.191\n",
      "Mean Absolute Error: 29376.813\n",
      "Mean Squared Error: 7608841885.931\n",
      "Root Mean Squared Error: 87228.676\n"
     ]
    }
   ],
   "source": [
    "lin_model_na = LinearRegression()\n",
    "lin_model_na.fit(X_na_train, y_na_train)\n",
    "lin_y_pred_na = lin_model_na.predict(X_na_test)\n",
    "\n",
    "print('Result for Linear Regression \\n')\n",
    "print('Adjusted Rsquared Train: ', (1 - (1-lin_model_na.score(X_na_train, y_na_train))*(len(y_na_train)-1)/(len(y_na_train)-X_na_train.shape[1]-1)).round(decimals=3))\n",
    "print('Test R^2: ', lin_model_na.score(X_na_test, y_na_test).round(decimals=3))\n",
    "print('Adjusted Rsquared Test: ', (1 - (1-lin_model_na.score(X_na_test, y_na_test))*(len(y_na_test)-1)/(len(y_na_test)-X_na_test.shape[1]-1)).round(decimals=3))\n",
    "print('Mean Absolute Error:', metrics.mean_absolute_error(y_na_test, lin_y_pred_na).round(decimals=3))\n",
    "print('Mean Squared Error:', metrics.mean_squared_error(y_na_test, lin_y_pred_na).round(decimals=3))\n",
    "print('Root Mean Squared Error:', np.sqrt(metrics.mean_squared_error(y_na_test, lin_y_pred_na)).round(decimals=3))"
   ]
  },
  {
   "cell_type": "code",
   "execution_count": 81,
   "id": "GXGwxyR8Zhcz",
   "metadata": {
    "colab": {
     "base_uri": "https://localhost:8080/"
    },
    "id": "GXGwxyR8Zhcz",
    "outputId": "ea4ba2af-a924-4fb8-f983-2940b9e4b8af"
   },
   "outputs": [
    {
     "name": "stdout",
     "output_type": "stream",
     "text": [
      "Coefficients OLS with high significanz \n",
      " 0                Ape\n",
      "3             Zombie\n",
      "4             Beanie\n",
      "5             Choker\n",
      "6       Pilot Helmet\n",
      "8        Orange Side\n",
      "9         Buck Teeth\n",
      "11          Pigtails\n",
      "12     Pink With Hat\n",
      "13           Top Hat\n",
      "39       Cap Forward\n",
      "40            Hoodie\n",
      "50        3D Glasses\n",
      "61              Pipe\n",
      "62                VR\n",
      "64      Small Shades\n",
      "79    Classic Shades\n",
      "83        Big Shades\n",
      "84      Nerd Glasses\n",
      "Name: attr, dtype: object\n"
     ]
    }
   ],
   "source": [
    "tmp = (regressor.pvalues <= 0.10)[1:]\n",
    "tmp = pd.DataFrame(tmp)\n",
    "tmp.reset_index(level=0, inplace=True)\n",
    "tmp.rename(columns={0:'high_sig', 'index': 'attr'}, inplace=True )\n",
    "sigf = tmp.loc[tmp['high_sig'] == True, 'attr']\n",
    "print('Coefficients OLS with high significanz \\n', sigf)"
   ]
  },
  {
   "cell_type": "markdown",
   "id": "6db6f3cf",
   "metadata": {
    "id": "6db6f3cf"
   },
   "source": [
    "# Linear Regression with Lasso Regularization"
   ]
  },
  {
   "cell_type": "code",
   "execution_count": 82,
   "id": "7b0eb75d",
   "metadata": {
    "colab": {
     "base_uri": "https://localhost:8080/"
    },
    "id": "7b0eb75d",
    "outputId": "f872df66-3b1b-44e6-cde8-e273f172207a"
   },
   "outputs": [
    {
     "name": "stderr",
     "output_type": "stream",
     "text": [
      "C:\\Users\\julia\\anaconda3\\lib\\site-packages\\sklearn\\linear_model\\_coordinate_descent.py:530: ConvergenceWarning: Objective did not converge. You might want to increase the number of iterations. Duality gap: 2545951353745.9062, tolerance: 2582034579.5857058\n",
      "  model = cd_fast.enet_coordinate_descent(\n"
     ]
    },
    {
     "name": "stdout",
     "output_type": "stream",
     "text": [
      "Result for LASSO \n",
      "\n",
      "Adjusted Rsquared Train:  0.172\n",
      "Test R^2:  0.16931646647199394\n",
      "Adjusted Rsquared Test:  0.143\n",
      "Mean Absolute Error: 22812.797\n",
      "Mean Squared Error: 5020693208.883\n",
      "Root Mean Squared Error: 70856.85\n",
      "\n",
      "Result for LASSO without avg 0 sales \n",
      "\n",
      "Adjusted Rsquared Train:  0.245\n",
      "Test R^2:  0.236\n",
      "Adjusted Rsquared Test:  0.191\n",
      "Mean Absolute Error: 29385.167\n",
      "Mean Squared Error: 7608780483.564\n",
      "Root Mean Squared Error: 87228.324\n"
     ]
    },
    {
     "name": "stderr",
     "output_type": "stream",
     "text": [
      "C:\\Users\\julia\\anaconda3\\lib\\site-packages\\sklearn\\linear_model\\_coordinate_descent.py:530: ConvergenceWarning: Objective did not converge. You might want to increase the number of iterations. Duality gap: 2233369494667.25, tolerance: 2530758495.3053913\n",
      "  model = cd_fast.enet_coordinate_descent(\n"
     ]
    }
   ],
   "source": [
    "opt_model = Lasso(alpha=0.84)\n",
    "opt_model.fit(X_train, y_train)\n",
    "lasso_y_pred = opt_model.predict(X_test)\n",
    "\n",
    "print('Result for LASSO \\n')\n",
    "print('Adjusted Rsquared Train: ', (1 - (1-opt_model.score(X_train, y_train))*(len(y_train)-1)/(len(y_train)-X_train.shape[1]-1)).round(decimals=3))\n",
    "print('Test R^2: ', opt_model.score(X_test, y_test))\n",
    "print('Adjusted Rsquared Test: ', (1 - (1-opt_model.score(X_test, y_test))*(len(y_test)-1)/(len(y_test)-X_test.shape[1]-1)).round(decimals=3))\n",
    "print('Mean Absolute Error:', metrics.mean_absolute_error(y_test, lasso_y_pred).round(decimals=3))\n",
    "print('Mean Squared Error:', metrics.mean_squared_error(y_test, lasso_y_pred).round(decimals=3))\n",
    "print('Root Mean Squared Error:', np.sqrt(metrics.mean_squared_error(y_test, lasso_y_pred)).round(decimals=3))\n",
    "\n",
    "opt_model_na = Lasso(alpha=0.84)\n",
    "opt_model_na.fit(X_na_train, y_na_train)\n",
    "lasso_y_pred_na = opt_model_na.predict(X_na_test)\n",
    "print()\n",
    "print('Result for LASSO without avg 0 sales \\n')\n",
    "print('Adjusted Rsquared Train: ', (1 - (1-opt_model_na.score(X_na_train, y_na_train))*(len(y_na_train)-1)/(len(y_na_train)-X_na_train.shape[1]-1)).round(decimals=3))\n",
    "print('Test R^2: ', opt_model_na.score(X_na_test, y_na_test).round(decimals=3))\n",
    "print('Adjusted Rsquared Test: ', (1 - (1-opt_model_na.score(X_na_test, y_na_test))*(len(y_na_test)-1)/(len(y_na_test)-X_na_test.shape[1]-1)).round(decimals=3))\n",
    "print('Mean Absolute Error:', metrics.mean_absolute_error(y_na_test, lasso_y_pred_na).round(decimals=3))\n",
    "print('Mean Squared Error:', metrics.mean_squared_error(y_na_test, lasso_y_pred_na).round(decimals=3))\n",
    "print('Root Mean Squared Error:', np.sqrt(metrics.mean_squared_error(y_na_test, lasso_y_pred_na)).round(decimals=3))"
   ]
  },
  {
   "cell_type": "code",
   "execution_count": 83,
   "id": "7b707aa5",
   "metadata": {
    "colab": {
     "base_uri": "https://localhost:8080/"
    },
    "id": "7b707aa5",
    "outputId": "1dced9b2-aa93-4861-e0c2-4cbb8ec81b22"
   },
   "outputs": [
    {
     "name": "stdout",
     "output_type": "stream",
     "text": [
      "Coefficients LASSO \n",
      "                Coefficient\n",
      "Alien         1.220746e+06\n",
      "Zombie        1.302557e+05\n",
      "Ape           9.114466e+04\n",
      "Orange Side   5.793707e+04\n",
      "3D Glasses    4.435628e+04\n",
      "...                    ...\n",
      "Police Cap   -9.715572e+03\n",
      "Headband     -9.881030e+03\n",
      "Bandana      -1.035325e+04\n",
      "Male         -1.101543e+04\n",
      "Medical Mask -1.822191e+04\n",
      "\n",
      "[92 rows x 1 columns]\n"
     ]
    }
   ],
   "source": [
    "coeff_df = pd.DataFrame(opt_model_na.coef_, X_na.columns, columns=['Coefficient'])\n",
    "coeff_df = coeff_df.sort_values(by=['Coefficient'], ascending=False)\n",
    "print('Coefficients LASSO \\n', coeff_df)\n",
    "coeff_lasso_top_20 = coeff_df.head(20).index"
   ]
  },
  {
   "cell_type": "markdown",
   "id": "KeK-t5jNRNhX",
   "metadata": {
    "id": "KeK-t5jNRNhX"
   },
   "source": [
    "# Step Wise Regression"
   ]
  },
  {
   "cell_type": "code",
   "execution_count": 84,
   "id": "yJ6wP57LUlig",
   "metadata": {
    "id": "yJ6wP57LUlig"
   },
   "outputs": [
    {
     "name": "stdout",
     "output_type": "stream",
     "text": [
      "best combination (r2: 0.049): ('Zombie', 'Beanie', 'Pilot Helmet', 'Orange Side', 'Buck Teeth', 'Pigtails', 'Pink With Hat', 'Top Hat', 'Spots', 'Wild Blonde', 'Clown Hair Green', 'Purple Hair', 'Police Cap', 'Clown Nose', 'Hoodie', 'Handlebars', 'Green Eye Shadow', 'Chinstrap', '3D Glasses', 'Goat', 'Shaved Head', 'Peak Spike', 'VR', 'Headband', 'Mohawk Dark', 'Frumpy Hair', 'Wild Hair', 'Messy Hair', 'Stringy Hair', 'Bandana', 'Classic Shades', 'Horned Rim Glasses', 'Big Shades', 'Nerd Glasses', 'Purple Lipstick', 'Earring')\n",
      "\n"
     ]
    },
    {
     "data": {
      "image/png": "[encoded data removed]",
      "text/plain": [
       "<Figure size 720x720 with 1 Axes>"
      ]
     },
     "metadata": {
      "needs_background": "light"
     },
     "output_type": "display_data"
    }
   ],
   "source": [
    "sfs = SFS(LinearRegression(),\n",
    "           forward=True, \n",
    "          k_features='best',\n",
    "           floating=False, \n",
    "           scoring='r2',\n",
    "           cv=3)\n",
    "\n",
    "sfs = sfs.fit(X_train, y_train)\n",
    "print('best combination (r2: %.3f): %s\\n' % (sfs.k_score_, sfs.k_feature_names_))\n",
    "fig1 = plot_sfs(sfs.get_metric_dict(), kind='std_err')\n",
    "plt.title('Sequential Forward Selection with best number of features (w. StdDev)')\n",
    "plt.grid()\n",
    "plt.show()\n",
    "#sfs.subsets_"
   ]
  },
  {
   "cell_type": "code",
   "execution_count": 85,
   "id": "Uu8KqXnw3USn",
   "metadata": {
    "colab": {
     "base_uri": "https://localhost:8080/",
     "height": 1000
    },
    "id": "Uu8KqXnw3USn",
    "outputId": "5ff3b0ea-33c8-4af1-f11c-69f1dff8d640"
   },
   "outputs": [
    {
     "name": "stdout",
     "output_type": "stream",
     "text": [
      "best combination (r2: 0.088): ('Male', 'Zombie', 'Orange Side', 'Pigtails', 'Top Hat', 'Wild Blonde', 'Smile', 'Hoodie', '3D Glasses', 'Knitted Cap')\n",
      "\n"
     ]
    },
    {
     "data": {
      "image/png": "[encoded data removed]",
      "text/plain": [
       "<Figure size 720x720 with 1 Axes>"
      ]
     },
     "metadata": {
      "needs_background": "light"
     },
     "output_type": "display_data"
    },
    {
     "name": "stdout",
     "output_type": "stream",
     "text": [
      "best combination (r2: 0.093): ('Male', 'Zombie', 'Orange Side', 'Buck Teeth', 'Pigtails', 'Pink With Hat', 'Top Hat', 'Cowboy Hat', 'Wild Blonde', 'Purple Hair', 'Smile', 'Hoodie', 'Blue Eye Shadow', '3D Glasses', 'Headband', 'Knitted Cap', 'Stringy Hair', 'Shadow Beard', 'Horned Rim Glasses', 'Black Lipstick')\n",
      "\n"
     ]
    },
    {
     "data": {
      "image/png": "[encoded data removed]",
      "text/plain": [
       "<Figure size 720x720 with 1 Axes>"
      ]
     },
     "metadata": {
      "needs_background": "light"
     },
     "output_type": "display_data"
    },
    {
     "name": "stdout",
     "output_type": "stream",
     "text": [
      "best combination (r2: 0.095): ('Male', 'Zombie', 'Orange Side', 'Buck Teeth', 'Pigtails', 'Pink With Hat', 'Top Hat', 'Cowboy Hat', 'Wild Blonde', 'Clown Hair Green', 'Straight Hair', 'Silver Chain', 'Purple Hair', 'Medical Mask', 'Police Cap', 'Clown Nose', 'Smile', 'Hoodie', 'Purple Eye Shadow', 'Blue Eye Shadow', '3D Glasses', 'Shaved Head', 'Headband', 'Knitted Cap', 'Mohawk', 'Stringy Hair', 'Shadow Beard', 'Horned Rim Glasses', 'Black Lipstick', 'Mole')\n",
      "\n"
     ]
    },
    {
     "data": {
      "image/png": "[encoded data removed]",
      "text/plain": [
       "<Figure size 720x720 with 1 Axes>"
      ]
     },
     "metadata": {
      "needs_background": "light"
     },
     "output_type": "display_data"
    },
    {
     "name": "stdout",
     "output_type": "stream",
     "text": [
      "best combination (r2: 0.095): ('Male', 'Zombie', 'Orange Side', 'Buck Teeth', 'Pigtails', 'Pink With Hat', 'Top Hat', 'Cowboy Hat', 'Wild Blonde', 'Clown Hair Green', 'Straight Hair', 'Silver Chain', 'Purple Hair', 'Medical Mask', 'Police Cap', 'Clown Nose', 'Smile', 'Hoodie', 'Purple Eye Shadow', 'Blue Eye Shadow', '3D Glasses', 'Shaved Head', 'Headband', 'Knitted Cap', 'Mohawk', 'Stringy Hair', 'Shadow Beard', 'Horned Rim Glasses', 'Black Lipstick', 'Mole')\n",
      "\n"
     ]
    },
    {
     "data": {
      "image/png": "[encoded data removed]",
      "text/plain": [
       "<Figure size 720x720 with 1 Axes>"
      ]
     },
     "metadata": {
      "needs_background": "light"
     },
     "output_type": "display_data"
    }
   ],
   "source": [
    "#10 features\n",
    "sfs2 = SFS(LinearRegression(),\n",
    "           forward=True, \n",
    "          k_features=10,\n",
    "           floating=False, \n",
    "           scoring='r2',\n",
    "           cv=3)\n",
    "\n",
    "sfs2 = sfs2.fit(X_na_train, y_na_train)\n",
    "print('best combination (r2: %.3f): %s\\n' % (sfs2.k_score_, sfs2.k_feature_names_))\n",
    "\n",
    "fig2 = plot_sfs(sfs2.get_metric_dict(), kind='std_err')\n",
    "\n",
    "\n",
    "plt.title('Sequential Forward Selection with 10 Features (w. StdDev)')\n",
    "plt.grid()\n",
    "plt.show()\n",
    "\n",
    "# 20 features\n",
    "sfsback_20= SFS(LinearRegression(),\n",
    "           forward=True, \n",
    "          k_features=20,\n",
    "           floating=False, \n",
    "           scoring='r2',\n",
    "           cv=3)\n",
    "\n",
    "sfsbackfit_20 = sfsback_20.fit(X_na_train, y_na_train)\n",
    "print('best combination (r2: %.3f): %s\\n' % (sfsbackfit_20.k_score_, sfsbackfit_20.k_feature_names_))\n",
    "fig_20 = plot_sfs(sfsbackfit_20.get_metric_dict(), kind='std_err')\n",
    "plt.title('Sequential Forward Selection with 20 features (w. StdDev)')\n",
    "plt.grid()\n",
    "plt.show()\n",
    "\n",
    "# 30 features\n",
    "sfsback = SFS(LinearRegression(),\n",
    "           forward=True, \n",
    "          k_features=30,\n",
    "           floating=False, \n",
    "           scoring='r2',\n",
    "           cv=3)\n",
    "\n",
    "sfsbackfit = sfsback.fit(X_na_train, y_na_train)\n",
    "print('best combination (r2: %.3f): %s\\n' % (sfsbackfit.k_score_, sfsbackfit.k_feature_names_))\n",
    "\n",
    "fig2 = plot_sfs(sfsbackfit.get_metric_dict(), kind='std_err')\n",
    "plt.title('Sequential Forward Selection with 30 features (w. StdDev)')\n",
    "plt.grid()\n",
    "plt.show()\n",
    "\n",
    "# 60 features\n",
    "sfsback = SFS(LinearRegression(),\n",
    "           forward=True, \n",
    "          k_features=60,\n",
    "           floating=False, \n",
    "           scoring='r2',\n",
    "           cv=3)\n",
    "\n",
    "sfs = sfs.fit(X_na_train, y_na_train)\n",
    "print('best combination (r2: %.3f): %s\\n' % (sfsbackfit.k_score_, sfsbackfit.k_feature_names_))\n",
    "fig2 = plot_sfs(sfsbackfit.get_metric_dict(), kind='std_err')\n",
    "plt.title('Sequential Forward Selection with 60 features (w. StdDev)')\n",
    "plt.grid()\n",
    "plt.show()"
   ]
  },
  {
   "cell_type": "code",
   "execution_count": 86,
   "id": "8nkKKQUcNMMt",
   "metadata": {
    "colab": {
     "base_uri": "https://localhost:8080/",
     "height": 692
    },
    "id": "8nkKKQUcNMMt",
    "outputId": "e447b917-71e4-41ce-e80e-3159efabc36c"
   },
   "outputs": [
    {
     "name": "stdout",
     "output_type": "stream",
     "text": [
      "best combination (r2: 0.093): ('Male', 'Zombie', 'Orange Side', 'Buck Teeth', 'Pigtails', 'Pink With Hat', 'Top Hat', 'Cowboy Hat', 'Wild Blonde', 'Purple Hair', 'Smile', 'Hoodie', 'Blue Eye Shadow', '3D Glasses', 'Headband', 'Knitted Cap', 'Stringy Hair', 'Shadow Beard', 'Horned Rim Glasses', 'Black Lipstick')\n",
      "\n"
     ]
    },
    {
     "data": {
      "image/png": "[encoded data removed]",
      "text/plain": [
       "<Figure size 720x720 with 1 Axes>"
      ]
     },
     "metadata": {
      "needs_background": "light"
     },
     "output_type": "display_data"
    },
    {
     "data": {
      "text/plain": [
       "<Figure size 720x720 with 0 Axes>"
      ]
     },
     "metadata": {},
     "output_type": "display_data"
    }
   ],
   "source": [
    "# 20 features\n",
    "sfsback_20= SFS(LinearRegression(),\n",
    "           forward=True, \n",
    "          k_features=20,\n",
    "           floating=False, \n",
    "           scoring='r2',\n",
    "           cv=3)\n",
    "\n",
    "sfsbackfit_20 = sfsback_20.fit(X_na_train, y_na_train)\n",
    "print('best combination (r2: %.3f): %s\\n' % (sfsbackfit_20.k_score_, sfsbackfit_20.k_feature_names_))\n",
    "fig_20 = plot_sfs(sfsbackfit_20.get_metric_dict(), kind='std_err')\n",
    "plt.title('Sequential Forward Selection with 20 features (w. StdDev)')\n",
    "plt.grid()\n",
    "plt.savefig('forward_selection', transparent =True)\n",
    "plt.show()\n",
    "\n",
    "# Picture Export\n",
    "# print('best combination (r2: %.3f): %s\\n' % (sfsbackfit_20.k_score_, sfsbackfit_20.k_feature_names_))\n",
    "# fig_20 = plot_sfs(sfsbackfit_20.get_metric_dict(), kind='std_err')\n",
    "# plt.title('Sequential Forward Selection with 20 features (w. StdDev)')\n",
    "# plt.grid()\n",
    "# plt.show()\n",
    "plt.savefig('foward_selection', transparent =True)"
   ]
  },
  {
   "cell_type": "markdown",
   "id": "0FDdVChGXjsx",
   "metadata": {
    "id": "0FDdVChGXjsx"
   },
   "source": [
    "# Visualization Feature Selection"
   ]
  },
  {
   "cell_type": "code",
   "execution_count": 87,
   "id": "93b2d801",
   "metadata": {},
   "outputs": [],
   "source": [
    "regressor = sm.OLS(y_na_train, X_na_train).fit()\n",
    "y_pred = regressor.predict(X_na_test)\n",
    "tmp = (regressor.pvalues <= 0.10)[1:]\n",
    "tmp = pd.DataFrame(tmp)\n",
    "tmp.reset_index(level=0, inplace=True)\n",
    "tmp.rename(columns={0:'high_sig', 'index': 'attr'}, inplace=True )\n",
    "sigf = tmp.loc[tmp['high_sig'] == True, 'attr']"
   ]
  },
  {
   "cell_type": "code",
   "execution_count": 88,
   "id": "396e253f",
   "metadata": {},
   "outputs": [
    {
     "name": "stdout",
     "output_type": "stream",
     "text": [
      "Coefficients LASSO \n",
      "                Coefficient\n",
      "Alien         1.220746e+06\n",
      "Zombie        1.302557e+05\n",
      "Ape           9.114466e+04\n",
      "Orange Side   5.793707e+04\n",
      "3D Glasses    4.435628e+04\n",
      "...                    ...\n",
      "Police Cap   -9.715572e+03\n",
      "Headband     -9.881030e+03\n",
      "Bandana      -1.035325e+04\n",
      "Male         -1.101543e+04\n",
      "Medical Mask -1.822191e+04\n",
      "\n",
      "[92 rows x 1 columns]\n"
     ]
    }
   ],
   "source": [
    "coeff_df = pd.DataFrame(opt_model_na.coef_, X_na.columns, columns=['Coefficient'])\n",
    "coeff_df = coeff_df.sort_values(by=['Coefficient'], ascending=False)\n",
    "print('Coefficients LASSO \\n', coeff_df)\n",
    "coeff_lasso_top_20 = coeff_df.head(20).index"
   ]
  },
  {
   "cell_type": "code",
   "execution_count": 89,
   "id": "u3PKz4rDYe_6",
   "metadata": {
    "colab": {
     "base_uri": "https://localhost:8080/",
     "height": 542
    },
    "id": "u3PKz4rDYe_6",
    "outputId": "518b597d-71f0-4bf3-eeb1-85165a4dcf52"
   },
   "outputs": [
    {
     "data": {
      "image/png": "[encoded data removed]",
      "text/plain": [
       "<Figure size 720x720 with 1 Axes>"
      ]
     },
     "metadata": {},
     "output_type": "display_data"
    }
   ],
   "source": [
    "set1 = set(coeff_lasso_top_20)\n",
    "set2 = set(sfsbackfit_20.k_feature_names_)\n",
    "set3 = set(sigf)\n",
    "venn3([set1, set2, set3], ('LASSO top 20 attributes', 'Stepwise Regression', 'Significant attributes p<0.10 in Linear Regression'))\n",
    "plt.title('Relation between the selected attributes')\n",
    "plt.rcParams['figure.figsize'] = [10, 10]\n",
    "plt.savefig('venn_diagram', transparent=True)\n",
    "plt.show()"
   ]
  },
  {
   "cell_type": "markdown",
   "id": "d328a287",
   "metadata": {
    "colab": {
     "base_uri": "https://localhost:8080/"
    },
    "id": "isPKro1ZqU4N",
    "outputId": "c668c1ad-94e5-4e9d-a14a-db5cabb6c67e"
   },
   "source": [
    "print(coeff_lasso_top_20)\n",
    "print(sfsbackfit_20.k_feature_names_)\n",
    "print(sigf)"
   ]
  },
  {
   "cell_type": "markdown",
   "id": "5657be68",
   "metadata": {},
   "source": [
    "# PCA\n",
    "https://www.datacamp.com/community/tutorials/principal-component-analysis-in-python"
   ]
  },
  {
   "cell_type": "code",
   "execution_count": 90,
   "id": "d7c4cfef",
   "metadata": {},
   "outputs": [
    {
     "name": "stdout",
     "output_type": "stream",
     "text": [
      "Explained variation per principal component: [0.15138485 0.05910375 0.04982078 0.03819791 0.02657165 0.02312207\n",
      " 0.02126798 0.0202364 ]\n",
      "\n",
      "Result for Linear Regression \n",
      "\n",
      "Test R^2:  0.005119489287785273\n",
      "Adjusted Rsquared Train:  0.003\n",
      "Test R^2:  0.0021959712527583886\n",
      "Adjusted Rsquared Test:  -0.003\n",
      "Mean Absolute Error: 28959.466\n",
      "Mean Squared Error: 9931627616.084\n",
      "Root Mean Squared Error: 99657.552\n"
     ]
    }
   ],
   "source": [
    "from sklearn.decomposition import PCA\n",
    "\n",
    "pca = PCA(n_components=8)\n",
    "pca_model = pca.fit(X_na_train)\n",
    "\n",
    "train = pca.transform(X_na_train)\n",
    "test = pca.transform(X_na_test)\n",
    "print('Explained variation per principal component: {}'.format(pca_model.explained_variance_ratio_))\n",
    "print()\n",
    "pca_lin_model = LinearRegression()\n",
    "pca_lin_model.fit(train, y_na_train)\n",
    "pca_lin_y_pred = pca_lin_model.predict(test)\n",
    "\n",
    "print('Result for Linear Regression with PCA \\n')\n",
    "print('Test R^2: ', pca_lin_model.score(train, y_na_train))\n",
    "\n",
    "print('Adjusted Rsquared Train: ', (1 - (1-pca_lin_model.score(train, y_na_train))*(len(y_na_train)-1)/(len(y_na_train)-train.shape[1]-1)).round(decimals=3))\n",
    "print('Test R^2: ', pca_lin_model.score(test, y_na_test))\n",
    "print('Adjusted Rsquared Test: ', (1 - (1-pca_lin_model.score(test, y_na_test))*(len(y_na_test)-1)/(len(y_na_test)-test.shape[1]-1)).round(decimals=3))\n",
    "print('Mean Absolute Error:', metrics.mean_absolute_error(y_na_test, pca_lin_y_pred).round(decimals=3))\n",
    "print('Mean Squared Error:', metrics.mean_squared_error(y_na_test, pca_lin_y_pred).round(decimals=3))\n",
    "print('Root Mean Squared Error:', np.sqrt(metrics.mean_squared_error(y_na_test, pca_lin_y_pred)).round(decimals=3))"
   ]
  },
  {
   "cell_type": "markdown",
   "id": "0c1be424",
   "metadata": {},
   "source": [
    "# MCA"
   ]
  },
  {
   "cell_type": "code",
   "execution_count": 98,
   "id": "aba26e93",
   "metadata": {},
   "outputs": [],
   "source": [
    "mca_acc = prince.MCA(\n",
    "     n_components=8,\n",
    "     n_iter=10,\n",
    "     copy=True,\n",
    "     check_input=True,\n",
    "     engine='auto',\n",
    "     random_state=42\n",
    " )\n",
    "mca_acc = mca_acc.fit(df_acc)\n",
    "#mca_acc.explained_inertia_"
   ]
  },
  {
   "cell_type": "code",
   "execution_count": 99,
   "id": "c95d79a2",
   "metadata": {},
   "outputs": [
    {
     "data": {
      "text/html": [
       "<div>\n",
       "<style scoped>\n",
       "    .dataframe tbody tr th:only-of-type {\n",
       "        vertical-align: middle;\n",
       "    }\n",
       "\n",
       "    .dataframe tbody tr th {\n",
       "        vertical-align: top;\n",
       "    }\n",
       "\n",
       "    .dataframe thead th {\n",
       "        text-align: right;\n",
       "    }\n",
       "</style>\n",
       "<table border=\"1\" class=\"dataframe\">\n",
       "  <thead>\n",
       "    <tr style=\"text-align: right;\">\n",
       "      <th></th>\n",
       "      <th>0</th>\n",
       "      <th>1</th>\n",
       "      <th>2</th>\n",
       "      <th>3</th>\n",
       "      <th>4</th>\n",
       "      <th>5</th>\n",
       "      <th>6</th>\n",
       "      <th>7</th>\n",
       "    </tr>\n",
       "    <tr>\n",
       "      <th>punk_id</th>\n",
       "      <th></th>\n",
       "      <th></th>\n",
       "      <th></th>\n",
       "      <th></th>\n",
       "      <th></th>\n",
       "      <th></th>\n",
       "      <th></th>\n",
       "      <th></th>\n",
       "    </tr>\n",
       "  </thead>\n",
       "  <tbody>\n",
       "    <tr>\n",
       "      <th>0</th>\n",
       "      <td>1.038836</td>\n",
       "      <td>0.013757</td>\n",
       "      <td>0.491787</td>\n",
       "      <td>-0.203250</td>\n",
       "      <td>-0.563574</td>\n",
       "      <td>-0.262089</td>\n",
       "      <td>-0.476637</td>\n",
       "      <td>-0.299301</td>\n",
       "    </tr>\n",
       "    <tr>\n",
       "      <th>1</th>\n",
       "      <td>-0.738621</td>\n",
       "      <td>0.155581</td>\n",
       "      <td>2.245116</td>\n",
       "      <td>-0.137410</td>\n",
       "      <td>1.143202</td>\n",
       "      <td>-0.091987</td>\n",
       "      <td>1.360325</td>\n",
       "      <td>1.928501</td>\n",
       "    </tr>\n",
       "    <tr>\n",
       "      <th>2</th>\n",
       "      <td>0.373272</td>\n",
       "      <td>0.144719</td>\n",
       "      <td>-0.207156</td>\n",
       "      <td>-1.046743</td>\n",
       "      <td>0.134286</td>\n",
       "      <td>-0.031461</td>\n",
       "      <td>-0.077573</td>\n",
       "      <td>-0.439775</td>\n",
       "    </tr>\n",
       "    <tr>\n",
       "      <th>3</th>\n",
       "      <td>-0.755384</td>\n",
       "      <td>0.075674</td>\n",
       "      <td>-0.109474</td>\n",
       "      <td>-0.807458</td>\n",
       "      <td>0.010501</td>\n",
       "      <td>-0.110404</td>\n",
       "      <td>0.163441</td>\n",
       "      <td>-0.754422</td>\n",
       "    </tr>\n",
       "    <tr>\n",
       "      <th>4</th>\n",
       "      <td>-0.210543</td>\n",
       "      <td>-0.175639</td>\n",
       "      <td>0.027385</td>\n",
       "      <td>0.388300</td>\n",
       "      <td>-0.442742</td>\n",
       "      <td>-0.005061</td>\n",
       "      <td>-0.254494</td>\n",
       "      <td>-0.047554</td>\n",
       "    </tr>\n",
       "  </tbody>\n",
       "</table>\n",
       "</div>"
      ],
      "text/plain": [
       "                0         1         2         3         4         5         6  \\\n",
       "punk_id                                                                         \n",
       "0        1.038836  0.013757  0.491787 -0.203250 -0.563574 -0.262089 -0.476637   \n",
       "1       -0.738621  0.155581  2.245116 -0.137410  1.143202 -0.091987  1.360325   \n",
       "2        0.373272  0.144719 -0.207156 -1.046743  0.134286 -0.031461 -0.077573   \n",
       "3       -0.755384  0.075674 -0.109474 -0.807458  0.010501 -0.110404  0.163441   \n",
       "4       -0.210543 -0.175639  0.027385  0.388300 -0.442742 -0.005061 -0.254494   \n",
       "\n",
       "                7  \n",
       "punk_id            \n",
       "0       -0.299301  \n",
       "1        1.928501  \n",
       "2       -0.439775  \n",
       "3       -0.754422  \n",
       "4       -0.047554  "
      ]
     },
     "execution_count": 99,
     "metadata": {},
     "output_type": "execute_result"
    }
   ],
   "source": [
    "mca_acc = mca_acc.transform(df_acc)\n",
    "mca_acc = pd.DataFrame(mca_acc)\n",
    "mca_acc.index.name='punk_id'\n",
    "mca_acc.head()"
   ]
  },
  {
   "cell_type": "code",
   "execution_count": 112,
   "id": "4506ec89",
   "metadata": {},
   "outputs": [
    {
     "data": {
      "text/html": [
       "<div>\n",
       "<style scoped>\n",
       "    .dataframe tbody tr th:only-of-type {\n",
       "        vertical-align: middle;\n",
       "    }\n",
       "\n",
       "    .dataframe tbody tr th {\n",
       "        vertical-align: top;\n",
       "    }\n",
       "\n",
       "    .dataframe thead th {\n",
       "        text-align: right;\n",
       "    }\n",
       "</style>\n",
       "<table border=\"1\" class=\"dataframe\">\n",
       "  <thead>\n",
       "    <tr style=\"text-align: right;\">\n",
       "      <th></th>\n",
       "      <th>amount_in_dol</th>\n",
       "      <th>0</th>\n",
       "      <th>1</th>\n",
       "      <th>2</th>\n",
       "      <th>3</th>\n",
       "      <th>4</th>\n",
       "      <th>5</th>\n",
       "      <th>6</th>\n",
       "      <th>7</th>\n",
       "    </tr>\n",
       "    <tr>\n",
       "      <th>punk_id</th>\n",
       "      <th></th>\n",
       "      <th></th>\n",
       "      <th></th>\n",
       "      <th></th>\n",
       "      <th></th>\n",
       "      <th></th>\n",
       "      <th></th>\n",
       "      <th></th>\n",
       "      <th></th>\n",
       "    </tr>\n",
       "  </thead>\n",
       "  <tbody>\n",
       "    <tr>\n",
       "      <th>0</th>\n",
       "      <td>1176.000000</td>\n",
       "      <td>1.038836</td>\n",
       "      <td>0.013757</td>\n",
       "      <td>0.491787</td>\n",
       "      <td>-0.203250</td>\n",
       "      <td>-0.563574</td>\n",
       "      <td>-0.262089</td>\n",
       "      <td>-0.476637</td>\n",
       "      <td>-0.299301</td>\n",
       "    </tr>\n",
       "    <tr>\n",
       "      <th>1</th>\n",
       "      <td>13855.666667</td>\n",
       "      <td>-0.738621</td>\n",
       "      <td>0.155581</td>\n",
       "      <td>2.245116</td>\n",
       "      <td>-0.137410</td>\n",
       "      <td>1.143202</td>\n",
       "      <td>-0.091987</td>\n",
       "      <td>1.360325</td>\n",
       "      <td>1.928501</td>\n",
       "    </tr>\n",
       "    <tr>\n",
       "      <th>14</th>\n",
       "      <td>256.666667</td>\n",
       "      <td>1.463228</td>\n",
       "      <td>-0.064317</td>\n",
       "      <td>0.225135</td>\n",
       "      <td>0.772147</td>\n",
       "      <td>0.963088</td>\n",
       "      <td>0.107214</td>\n",
       "      <td>0.115047</td>\n",
       "      <td>-0.152088</td>\n",
       "    </tr>\n",
       "    <tr>\n",
       "      <th>33</th>\n",
       "      <td>105.000000</td>\n",
       "      <td>-0.918254</td>\n",
       "      <td>0.017652</td>\n",
       "      <td>-0.393243</td>\n",
       "      <td>-0.331901</td>\n",
       "      <td>0.124072</td>\n",
       "      <td>0.012948</td>\n",
       "      <td>-0.444480</td>\n",
       "      <td>-0.394105</td>\n",
       "    </tr>\n",
       "    <tr>\n",
       "      <th>53</th>\n",
       "      <td>34707.500000</td>\n",
       "      <td>1.084065</td>\n",
       "      <td>-0.029405</td>\n",
       "      <td>0.670961</td>\n",
       "      <td>0.377360</td>\n",
       "      <td>-0.053969</td>\n",
       "      <td>-0.057157</td>\n",
       "      <td>-0.291037</td>\n",
       "      <td>-0.296336</td>\n",
       "    </tr>\n",
       "  </tbody>\n",
       "</table>\n",
       "</div>"
      ],
      "text/plain": [
       "         amount_in_dol         0         1         2         3         4  \\\n",
       "punk_id                                                                    \n",
       "0          1176.000000  1.038836  0.013757  0.491787 -0.203250 -0.563574   \n",
       "1         13855.666667 -0.738621  0.155581  2.245116 -0.137410  1.143202   \n",
       "14          256.666667  1.463228 -0.064317  0.225135  0.772147  0.963088   \n",
       "33          105.000000 -0.918254  0.017652 -0.393243 -0.331901  0.124072   \n",
       "53        34707.500000  1.084065 -0.029405  0.670961  0.377360 -0.053969   \n",
       "\n",
       "                5         6         7  \n",
       "punk_id                                \n",
       "0       -0.262089 -0.476637 -0.299301  \n",
       "1       -0.091987  1.360325  1.928501  \n",
       "14       0.107214  0.115047 -0.152088  \n",
       "33       0.012948 -0.444480 -0.394105  \n",
       "53      -0.057157 -0.291037 -0.296336  "
      ]
     },
     "execution_count": 112,
     "metadata": {},
     "output_type": "execute_result"
    }
   ],
   "source": [
    "df_mca = pd.merge(sales, mca_acc, on=\"punk_id\", how='left')\n",
    "df_mca = df_mca.set_index(['punk_id'])\n",
    "df_mca = df.fillna(0)\n",
    "df_mca.head()"
   ]
  },
  {
   "cell_type": "code",
   "execution_count": 114,
   "id": "08a24494",
   "metadata": {},
   "outputs": [],
   "source": [
    "y_mca = df_mca['amount_in_dol']\n",
    "y_mca = y_mca.round(decimals=-2)\n",
    "\n",
    "X_mca= df_mca.iloc[:,1:]\n",
    "X_mca = X_mca.astype(int)\n",
    "\n",
    "X_train_mca, X_test_mca, y_train_mca, y_test_mca = train_test_split(X_mca, y_mca, test_size=0.3, random_state=0)"
   ]
  },
  {
   "cell_type": "code",
   "execution_count": 115,
   "id": "c86b1661",
   "metadata": {},
   "outputs": [
    {
     "name": "stdout",
     "output_type": "stream",
     "text": [
      "Result for Linear Regression \n",
      "\n",
      "Test R^2:  0.006879408147928645\n",
      "Adjusted Rsquared Train:  0.005\n",
      "Test R^2:  0.0047746499623667615\n",
      "Adjusted Rsquared Test:  0.0\n",
      "Mean Absolute Error: 23242.971\n",
      "Mean Squared Error: 804039404.84\n",
      "Root Mean Squared Error: 28355.589\n"
     ]
    }
   ],
   "source": [
    "lin_model_mca = LinearRegression()\n",
    "lin_model_mca.fit(X_train_mca, y_train_mca)\n",
    "lin_y_pred_mca = lin_model_mca.predict(X_test_mca)\n",
    "\n",
    "print('Result for Linear Regression \\n')\n",
    "print('Test R^2: ', lin_model_mca.score(X_train_mca, y_train_mca))\n",
    "\n",
    "print('Adjusted Rsquared Train: ', (1 - (1-lin_model_mca.score(X_train_mca, y_train_mca))*(len(y_train_mca)-1)/(len(y_train_mca)-X_train_mca.shape[1]-1)).round(decimals=3))\n",
    "print('Test R^2: ', lin_model_mca.score(X_test_mca, y_test_mca))\n",
    "print('Adjusted Rsquared Test: ', (1 - (1-lin_model_mca.score(X_test_mca, y_test_mca))*(len(y_test_mca)-1)/(len(y_test_mca)-X_test_mca.shape[1]-1)).round(decimals=3))\n",
    "print('Mean Absolute Error:', metrics.mean_absolute_error(y_test_mca, lin_y_pred_mca).round(decimals=3))\n",
    "print('Mean Squared Error:', metrics.mean_squared_error(y_test_mca, lin_y_pred_mca).round(decimals=3))\n",
    "print('Root Mean Squared Error:', np.sqrt(metrics.mean_squared_error(y_test_mca, lin_y_pred_mca)).round(decimals=3))"
   ]
  },
  {
   "cell_type": "markdown",
   "id": "mAJjthLA2rR8",
   "metadata": {
    "id": "mAJjthLA2rR8"
   },
   "source": [
    "# LGBM Regessor Gradient Boosting\n",
    "Trained an testes on data that only has non null sales"
   ]
  },
  {
   "cell_type": "code",
   "execution_count": 91,
   "id": "UCDxxXKz1R7h",
   "metadata": {
    "colab": {
     "base_uri": "https://localhost:8080/"
    },
    "id": "UCDxxXKz1R7h",
    "outputId": "dcebb651-7bda-4467-90fd-2c49af094198"
   },
   "outputs": [
    {
     "name": "stdout",
     "output_type": "stream",
     "text": [
      "Result for LGB \n",
      "\n",
      "Adjusted Rsquared Train:  0.221\n",
      "Test R^2:  -0.006\n",
      "Adjusted Rsquared Test:  -0.064\n",
      "Mean Absolute Error: 28676.554\n",
      "Mean Squared Error: 10009730254.092\n",
      "Root Mean Squared Error: 100048.639\n"
     ]
    }
   ],
   "source": [
    "lgb_model = lgb.LGBMRegressor(\n",
    "    boosting_type= 'gbdt', \n",
    "    num_leaves=42, \n",
    "    n_estimators=100,\n",
    ")\n",
    "lgb_model.fit(X_na_train, y_na_train)\n",
    "lgb_y_pred = lgb_model.predict(X_na_test)\n",
    "\n",
    "print('Result for LGB \\n')\n",
    "\n",
    "print('Adjusted Rsquared Train: ', (1 - (1-lgb_model.score(X_na_train, y_na_train))*(len(y_na_train)-1)/(len(y_na_train)-X_na_train.shape[1]-1)).round(decimals=3))\n",
    "print('Test R^2: ', lgb_model.score(X_na_test, y_na_test).round(decimals=3))\n",
    "print('Adjusted Rsquared Test: ', (1 - (1-lgb_model.score(X_na_test, y_na_test))*(len(y_na_test)-1)/(len(y_na_test)-X_na_test.shape[1]-1)).round(decimals=3))\n",
    "print('Mean Absolute Error:', metrics.mean_absolute_error(y_na_test, lgb_y_pred).round(decimals=3))\n",
    "print('Mean Squared Error:', metrics.mean_squared_error(y_na_test, lgb_y_pred).round(decimals=3))\n",
    "print('Root Mean Squared Error:', np.sqrt(metrics.mean_squared_error(y_na_test, lgb_y_pred)).round(decimals=3))"
   ]
  },
  {
   "cell_type": "markdown",
   "id": "hZQUZxcoUysA",
   "metadata": {
    "id": "hZQUZxcoUysA"
   },
   "source": [
    "# Linear Regression without avg 0 sales and with outlier truncation"
   ]
  },
  {
   "cell_type": "code",
   "execution_count": 92,
   "id": "N_B1zc0kVMC5",
   "metadata": {
    "colab": {
     "base_uri": "https://localhost:8080/",
     "height": 0
    },
    "id": "N_B1zc0kVMC5",
    "outputId": "d0323675-677c-479f-d068-11b4bd95f972"
   },
   "outputs": [
    {
     "data": {
      "text/plain": [
       "<AxesSubplot:>"
      ]
     },
     "execution_count": 92,
     "metadata": {},
     "output_type": "execute_result"
    },
    {
     "data": {
      "image/png": "[encoded data removed]",
      "text/plain": [
       "<Figure size 720x720 with 1 Axes>"
      ]
     },
     "metadata": {
      "needs_background": "light"
     },
     "output_type": "display_data"
    }
   ],
   "source": [
    "sales = df_tr[df_tr['type'].str.contains(\"Sold\")].reset_index(drop=True)\n",
    "sales = sales.drop(['from', 'to', 'type', 'amount_in_eth'], axis=1)\n",
    "sales = sales.groupby(['punk_id'])['amount_in_dol'].mean().reset_index()\n",
    "sales.dropna(axis = 0, how='any', inplace=True)\n",
    "sales.boxplot()"
   ]
  },
  {
   "cell_type": "code",
   "execution_count": 93,
   "id": "LZkgFm2aYIdS",
   "metadata": {
    "colab": {
     "base_uri": "https://localhost:8080/",
     "height": 0
    },
    "id": "LZkgFm2aYIdS",
    "outputId": "c821f219-5eeb-4bf6-d6ff-f12ad13676f4"
   },
   "outputs": [
    {
     "data": {
      "text/plain": [
       "<AxesSubplot:>"
      ]
     },
     "execution_count": 93,
     "metadata": {},
     "output_type": "execute_result"
    },
    {
     "data": {
      "image/png": "[encoded data removed]",
      "text/plain": [
       "<Figure size 720x720 with 1 Axes>"
      ]
     },
     "metadata": {
      "needs_background": "light"
     },
     "output_type": "display_data"
    }
   ],
   "source": [
    "sales.amount_in_dol = outlier_truncation(sales.amount_in_dol)\n",
    "sales.boxplot()"
   ]
  },
  {
   "cell_type": "code",
   "execution_count": 94,
   "id": "QplkgvyWUxyh",
   "metadata": {
    "colab": {
     "base_uri": "https://localhost:8080/"
    },
    "id": "QplkgvyWUxyh",
    "outputId": "3060185b-0d45-41b8-d851-3ca0a8ce4db4"
   },
   "outputs": [
    {
     "name": "stdout",
     "output_type": "stream",
     "text": [
      "Result for Linear Regression with outlier truncation \n",
      "\n",
      "Adjusted Rsquared Train:  0.107\n",
      "Test R^2:  0.012\n",
      "Adjusted Rsquared Test:  -0.046\n",
      "Mean Absolute Error: 26879.068\n",
      "Mean Squared Error: 9829930533.24\n",
      "Root Mean Squared Error: 99146.006\n"
     ]
    }
   ],
   "source": [
    "## Join accessoires and prices\n",
    "df_na = pd.merge(sales, types_dummies, on=\"punk_id\", how='left')\n",
    "df_na= pd.merge(df_na, acc, on=\"punk_id\", how='left')\n",
    "df_na = df_na.set_index(['punk_id'])\n",
    "df_na.fillna(0, inplace=True)\n",
    "y = df_na['amount_in_dol']\n",
    "y = y.round(decimals=-2)\n",
    "\n",
    "X = df_na.iloc[:,1:]\n",
    "X = X.astype(int)\n",
    "\n",
    "X = sm.add_constant(X)\n",
    "\n",
    "X_na_train, X_na_test, y_na_train, x_na_test = train_test_split(X, y, test_size=0.3, random_state=0)\n",
    "\n",
    "lin_model_na = LinearRegression()\n",
    "lin_model_na.fit(X_na_train, y_na_train)\n",
    "lin_y_pred_na = lin_model_na.predict(X_na_test)\n",
    "\n",
    "print('Result for Linear Regression with outlier truncation \\n')\n",
    "print('Adjusted Rsquared Train: ', (1 - (1-lin_model_na.score(X_na_train, y_na_train))*(len(y_na_train)-1)/(len(y_na_train)-X_na_train.shape[1]-1)).round(decimals=3))\n",
    "print('Test R^2: ', lin_model_na.score(X_na_test, y_na_test).round(decimals=3))\n",
    "print('Adjusted Rsquared Test: ', (1 - (1-lin_model_na.score(X_na_test, y_na_test))*(len(y_na_test)-1)/(len(y_na_test)-X_na_test.shape[1]-1)).round(decimals=3))\n",
    "print('Mean Absolute Error:', metrics.mean_absolute_error(y_na_test, lin_y_pred_na).round(decimals=3))\n",
    "print('Mean Squared Error:', metrics.mean_squared_error(y_na_test, lin_y_pred_na).round(decimals=3))\n",
    "print('Root Mean Squared Error:', np.sqrt(metrics.mean_squared_error(y_na_test, lin_y_pred_na)).round(decimals=3))"
   ]
  }
 ],
 "metadata": {
  "colab": {
   "name": "stepwise_regression.ipynb",
   "provenance": [],
   "toc_visible": true
  },
  "kernelspec": {
   "display_name": "Python 3",
   "language": "python",
   "name": "python3"
  },
  "language_info": {
   "codemirror_mode": {
    "name": "ipython",
    "version": 3
   },
   "file_extension": ".py",
   "mimetype": "text/x-python",
   "name": "python",
   "nbconvert_exporter": "python",
   "pygments_lexer": "ipython3",
   "version": "3.8.8"
  }
 },
 "nbformat": 4,
 "nbformat_minor": 5
}
