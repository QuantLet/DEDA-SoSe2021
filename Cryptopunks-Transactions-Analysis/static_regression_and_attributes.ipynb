{
  "nbformat": 4,
  "nbformat_minor": 5,
  "metadata": {
    "colab": {
      "name": "stepwise_regression.ipynb",
      "provenance": []
    },
    "kernelspec": {
      "display_name": "Python 3",
      "language": "python",
      "name": "python3"
    },
    "language_info": {
      "codemirror_mode": {
        "name": "ipython",
        "version": 3
      },
      "file_extension": ".py",
      "mimetype": "text/x-python",
      "name": "python",
      "nbconvert_exporter": "python",
      "pygments_lexer": "ipython3",
      "version": "3.8.8"
    }
  },
  "cells": [
    {
      "cell_type": "markdown",
      "metadata": {
        "id": "R4pxiyj_N2jN"
      },
      "source": [
        "## Install, Imports and Helper Functions"
      ],
      "id": "R4pxiyj_N2jN"
    },
    {
      "cell_type": "code",
      "metadata": {
        "colab": {
          "base_uri": "https://localhost:8080/"
        },
        "id": "5b5lI8wXM7bF",
        "outputId": "9e412507-bf23-4c31-bf36-b2a49b029612"
      },
      "source": [
        "!pip install linearmodels\n",
        "!pip install mlxtend\n",
        "!pip install matplotlib-venn\n",
        "!pip install lightgbm\n",
        "!pip install prince"
      ],
      "id": "5b5lI8wXM7bF",
      "execution_count": 1,
      "outputs": [
        {
          "output_type": "stream",
          "text": [
            "Collecting linearmodels\n",
            "\u001b[?25l  Downloading https://files.pythonhosted.org/packages/b2/d6/75c6c953a98edaa85647c8b40a335e541c76a9095767382dee009c01e445/linearmodels-4.24-cp37-cp37m-manylinux1_x86_64.whl (1.5MB)\n",
            "\u001b[K     |████████████████████████████████| 1.5MB 7.6MB/s \n",
            "\u001b[?25hRequirement already satisfied: pandas>=0.24 in /usr/local/lib/python3.7/dist-packages (from linearmodels) (1.1.5)\n",
            "Requirement already satisfied: numpy>=1.16 in /usr/local/lib/python3.7/dist-packages (from linearmodels) (1.19.5)\n",
            "Collecting pyhdfe>=0.1\n",
            "  Downloading https://files.pythonhosted.org/packages/81/38/a53257196401029dd34c83c0528de22032d7b602e8bbcaa6d560040d42c2/pyhdfe-0.1.0-py3-none-any.whl\n",
            "Collecting property-cached>=1.6.3\n",
            "  Downloading https://files.pythonhosted.org/packages/5c/6c/94d8e520b20a2502e508e1c558f338061cf409cbee78fd6a3a5c6ae812bd/property_cached-1.6.4-py2.py3-none-any.whl\n",
            "Requirement already satisfied: scipy>=1.2 in /usr/local/lib/python3.7/dist-packages (from linearmodels) (1.4.1)\n",
            "Requirement already satisfied: patsy in /usr/local/lib/python3.7/dist-packages (from linearmodels) (0.5.1)\n",
            "Collecting mypy-extensions>=0.4\n",
            "  Downloading https://files.pythonhosted.org/packages/5c/eb/975c7c080f3223a5cdaff09612f3a5221e4ba534f7039db34c35d95fa6a5/mypy_extensions-0.4.3-py2.py3-none-any.whl\n",
            "Requirement already satisfied: Cython>=0.29.21 in /usr/local/lib/python3.7/dist-packages (from linearmodels) (0.29.23)\n",
            "Collecting statsmodels>=0.11\n",
            "\u001b[?25l  Downloading https://files.pythonhosted.org/packages/da/69/8eef30a6237c54f3c0b524140e2975f4b1eea3489b45eb3339574fc8acee/statsmodels-0.12.2-cp37-cp37m-manylinux1_x86_64.whl (9.5MB)\n",
            "\u001b[K     |████████████████████████████████| 9.5MB 29.9MB/s \n",
            "\u001b[?25hRequirement already satisfied: pytz>=2017.2 in /usr/local/lib/python3.7/dist-packages (from pandas>=0.24->linearmodels) (2018.9)\n",
            "Requirement already satisfied: python-dateutil>=2.7.3 in /usr/local/lib/python3.7/dist-packages (from pandas>=0.24->linearmodels) (2.8.1)\n",
            "Requirement already satisfied: six in /usr/local/lib/python3.7/dist-packages (from patsy->linearmodels) (1.15.0)\n",
            "Installing collected packages: pyhdfe, property-cached, mypy-extensions, statsmodels, linearmodels\n",
            "  Found existing installation: statsmodels 0.10.2\n",
            "    Uninstalling statsmodels-0.10.2:\n",
            "      Successfully uninstalled statsmodels-0.10.2\n",
            "Successfully installed linearmodels-4.24 mypy-extensions-0.4.3 property-cached-1.6.4 pyhdfe-0.1.0 statsmodels-0.12.2\n",
            "Requirement already satisfied: mlxtend in /usr/local/lib/python3.7/dist-packages (0.14.0)\n",
            "Requirement already satisfied: scikit-learn>=0.18 in /usr/local/lib/python3.7/dist-packages (from mlxtend) (0.22.2.post1)\n",
            "Requirement already satisfied: setuptools in /usr/local/lib/python3.7/dist-packages (from mlxtend) (57.0.0)\n",
            "Requirement already satisfied: matplotlib>=1.5.1 in /usr/local/lib/python3.7/dist-packages (from mlxtend) (3.2.2)\n",
            "Requirement already satisfied: pandas>=0.17.1 in /usr/local/lib/python3.7/dist-packages (from mlxtend) (1.1.5)\n",
            "Requirement already satisfied: scipy>=0.17 in /usr/local/lib/python3.7/dist-packages (from mlxtend) (1.4.1)\n",
            "Requirement already satisfied: numpy>=1.10.4 in /usr/local/lib/python3.7/dist-packages (from mlxtend) (1.19.5)\n",
            "Requirement already satisfied: joblib>=0.11 in /usr/local/lib/python3.7/dist-packages (from scikit-learn>=0.18->mlxtend) (1.0.1)\n",
            "Requirement already satisfied: python-dateutil>=2.1 in /usr/local/lib/python3.7/dist-packages (from matplotlib>=1.5.1->mlxtend) (2.8.1)\n",
            "Requirement already satisfied: cycler>=0.10 in /usr/local/lib/python3.7/dist-packages (from matplotlib>=1.5.1->mlxtend) (0.10.0)\n",
            "Requirement already satisfied: kiwisolver>=1.0.1 in /usr/local/lib/python3.7/dist-packages (from matplotlib>=1.5.1->mlxtend) (1.3.1)\n",
            "Requirement already satisfied: pyparsing!=2.0.4,!=2.1.2,!=2.1.6,>=2.0.1 in /usr/local/lib/python3.7/dist-packages (from matplotlib>=1.5.1->mlxtend) (2.4.7)\n",
            "Requirement already satisfied: pytz>=2017.2 in /usr/local/lib/python3.7/dist-packages (from pandas>=0.17.1->mlxtend) (2018.9)\n",
            "Requirement already satisfied: six>=1.5 in /usr/local/lib/python3.7/dist-packages (from python-dateutil>=2.1->matplotlib>=1.5.1->mlxtend) (1.15.0)\n",
            "Requirement already satisfied: matplotlib-venn in /usr/local/lib/python3.7/dist-packages (0.11.6)\n",
            "Requirement already satisfied: scipy in /usr/local/lib/python3.7/dist-packages (from matplotlib-venn) (1.4.1)\n",
            "Requirement already satisfied: matplotlib in /usr/local/lib/python3.7/dist-packages (from matplotlib-venn) (3.2.2)\n",
            "Requirement already satisfied: numpy in /usr/local/lib/python3.7/dist-packages (from matplotlib-venn) (1.19.5)\n",
            "Requirement already satisfied: pyparsing!=2.0.4,!=2.1.2,!=2.1.6,>=2.0.1 in /usr/local/lib/python3.7/dist-packages (from matplotlib->matplotlib-venn) (2.4.7)\n",
            "Requirement already satisfied: python-dateutil>=2.1 in /usr/local/lib/python3.7/dist-packages (from matplotlib->matplotlib-venn) (2.8.1)\n",
            "Requirement already satisfied: kiwisolver>=1.0.1 in /usr/local/lib/python3.7/dist-packages (from matplotlib->matplotlib-venn) (1.3.1)\n",
            "Requirement already satisfied: cycler>=0.10 in /usr/local/lib/python3.7/dist-packages (from matplotlib->matplotlib-venn) (0.10.0)\n",
            "Requirement already satisfied: six>=1.5 in /usr/local/lib/python3.7/dist-packages (from python-dateutil>=2.1->matplotlib->matplotlib-venn) (1.15.0)\n",
            "Requirement already satisfied: lightgbm in /usr/local/lib/python3.7/dist-packages (2.2.3)\n",
            "Requirement already satisfied: numpy in /usr/local/lib/python3.7/dist-packages (from lightgbm) (1.19.5)\n",
            "Requirement already satisfied: scipy in /usr/local/lib/python3.7/dist-packages (from lightgbm) (1.4.1)\n",
            "Requirement already satisfied: scikit-learn in /usr/local/lib/python3.7/dist-packages (from lightgbm) (0.22.2.post1)\n",
            "Requirement already satisfied: joblib>=0.11 in /usr/local/lib/python3.7/dist-packages (from scikit-learn->lightgbm) (1.0.1)\n",
            "Collecting prince\n",
            "  Downloading https://files.pythonhosted.org/packages/94/6c/491a3fabfd1ce75e285a4fe4200fccde5d83664733541a3a74c0b02e77fb/prince-0.7.1-py3-none-any.whl\n",
            "Requirement already satisfied: pandas>=1.0.3 in /usr/local/lib/python3.7/dist-packages (from prince) (1.1.5)\n",
            "Requirement already satisfied: scipy>=1.3.0 in /usr/local/lib/python3.7/dist-packages (from prince) (1.4.1)\n",
            "Requirement already satisfied: matplotlib>=3.0.2 in /usr/local/lib/python3.7/dist-packages (from prince) (3.2.2)\n",
            "Requirement already satisfied: numpy>=1.17.1 in /usr/local/lib/python3.7/dist-packages (from prince) (1.19.5)\n",
            "Requirement already satisfied: scikit-learn>=0.22.1 in /usr/local/lib/python3.7/dist-packages (from prince) (0.22.2.post1)\n",
            "Requirement already satisfied: pytz>=2017.2 in /usr/local/lib/python3.7/dist-packages (from pandas>=1.0.3->prince) (2018.9)\n",
            "Requirement already satisfied: python-dateutil>=2.7.3 in /usr/local/lib/python3.7/dist-packages (from pandas>=1.0.3->prince) (2.8.1)\n",
            "Requirement already satisfied: kiwisolver>=1.0.1 in /usr/local/lib/python3.7/dist-packages (from matplotlib>=3.0.2->prince) (1.3.1)\n",
            "Requirement already satisfied: cycler>=0.10 in /usr/local/lib/python3.7/dist-packages (from matplotlib>=3.0.2->prince) (0.10.0)\n",
            "Requirement already satisfied: pyparsing!=2.0.4,!=2.1.2,!=2.1.6,>=2.0.1 in /usr/local/lib/python3.7/dist-packages (from matplotlib>=3.0.2->prince) (2.4.7)\n",
            "Requirement already satisfied: joblib>=0.11 in /usr/local/lib/python3.7/dist-packages (from scikit-learn>=0.22.1->prince) (1.0.1)\n",
            "Requirement already satisfied: six>=1.5 in /usr/local/lib/python3.7/dist-packages (from python-dateutil>=2.7.3->pandas>=1.0.3->prince) (1.15.0)\n",
            "Installing collected packages: prince\n",
            "Successfully installed prince-0.7.1\n"
          ],
          "name": "stdout"
        }
      ]
    },
    {
      "cell_type": "code",
      "metadata": {
        "id": "cf5231d8",
        "outputId": "2be2cbd7-0802-4ecc-d13e-07444a68af5a",
        "colab": {
          "base_uri": "https://localhost:8080/"
        }
      },
      "source": [
        "import pandas as pd\n",
        "import matplotlib.pyplot as plt\n",
        "from matplotlib_venn import venn3, venn3_circles\n",
        "\n",
        "from scipy import stats\n",
        "from linearmodels import PooledOLS\n",
        "from linearmodels import PanelOLS\n",
        "from linearmodels import RandomEffects\n",
        "\n",
        "from sklearn import metrics\n",
        "from sklearn.linear_model import LinearRegression\n",
        "from sklearn.linear_model import Lasso\n",
        "from sklearn.linear_model import LassoCV\n",
        "from sklearn.model_selection import train_test_split\n",
        "from sklearn.model_selection import cross_val_score\n",
        "from sklearn.model_selection import RepeatedKFold\n",
        "from sklearn.metrics import mean_squared_error\n",
        "from sklearn.decomposition import PCA\n",
        "\n",
        "import numpy as np\n",
        "from numpy import mean\n",
        "from numpy import std\n",
        "from numpy import absolute\n",
        "from numpy import arange\n",
        "\n",
        "import statsmodels.api as sm\n",
        "from statsmodels.tools.eval_measures import rmse\n",
        "from statsmodels.tools.eval_measures import meanabs\n",
        "\n",
        "from mlxtend.feature_selection import SequentialFeatureSelector as SFS\n",
        "from mlxtend.plotting import plot_sequential_feature_selection as plot_sfs\n",
        "import lightgbm as lgb\n",
        "import prince"
      ],
      "id": "cf5231d8",
      "execution_count": 2,
      "outputs": [
        {
          "output_type": "stream",
          "text": [
            "/usr/local/lib/python3.7/dist-packages/sklearn/externals/joblib/__init__.py:15: FutureWarning: sklearn.externals.joblib is deprecated in 0.21 and will be removed in 0.23. Please import this functionality directly from joblib, which can be installed with: pip install joblib. If this warning is raised when loading pickled models, you may need to re-serialize those models with scikit-learn 0.21+.\n",
            "  warnings.warn(msg, category=FutureWarning)\n"
          ],
          "name": "stderr"
        }
      ]
    },
    {
      "cell_type": "code",
      "metadata": {
        "id": "bc7cc336"
      },
      "source": [
        "# Helper Function\n",
        "def fix_df(x):\n",
        "    x['punk_id'] = x['punk_id'].astype('category')\n",
        "    x['type'] = x['type'].astype('category')\n",
        "    x['from'] = x['from'].astype(str)\n",
        "    x['to'] = x['to'].astype(str)\n",
        "    x['date'] = pd.to_datetime(x['date'], format = '%Y.%m.%d')\n",
        "    \n",
        "    x['amount_in_eth'] = x['amount_in_eth'].astype(str)\n",
        "    x['amount_in_eth'] = x['amount_in_eth'].str.replace('Y', '')\n",
        "    x['amount_in_eth'] = x['amount_in_eth'].str.replace('Z', '')\n",
        "    x['amount_in_eth'] = x['amount_in_eth'].str.replace('M', '')\n",
        "    x['amount_in_eth'] = x['amount_in_eth'].str.replace('T', '')\n",
        "    x['amount_in_eth'] = x['amount_in_eth'].str.replace('B', '')\n",
        "    x['amount_in_eth'] = x['amount_in_eth'].replace(',', '', regex=True)\n",
        "    x['amount_in_eth'] = x['amount_in_eth'].astype(float)\n",
        "\n",
        "    x['amount_in_dol'] = x['amount_in_dol'].astype(str)\n",
        "    x['amount_in_dol'] = x['amount_in_dol'].str.replace('Y', '')\n",
        "    x['amount_in_dol'] = x['amount_in_dol'].str.replace('B', '')\n",
        "    x['amount_in_dol'] = x['amount_in_dol'].str.replace('T', '')\n",
        "    x['amount_in_dol'] = x['amount_in_dol'].str.replace('P', '')\n",
        "    x['amount_in_dol'] = x['amount_in_dol'].str.replace('Z', '')\n",
        "    x['amount_in_dol'] = x['amount_in_dol'].replace('<', '', regex=True)\n",
        "    x['amount_in_dol'] = x['amount_in_dol'].replace(',', '', regex=True)\n",
        "    x['amount_in_dol'] = x['amount_in_dol'].astype(float)\n",
        "    \n",
        "    x['amount_in_eth'] = x['amount_in_eth'].fillna(0)\n",
        "    x['amount_in_dol'] = x['amount_in_dol'].fillna(0)\n",
        "\n",
        "    return x\n",
        "\n",
        "def outlier_truncation(x, factor=1.5):\n",
        "    '''\n",
        "    Identifies outlier values based on the inter-quartile range IQR. \n",
        "    Corresponding outliers are truncated and set to a contant value equal to the IQR\n",
        "    times a factor, which, following Tuckey's rule, we set to 1.5 by default\n",
        "    \n",
        "        Parameters:\n",
        "            x (Pandas Series): A data frame column to scan for outliers\n",
        "            factor (float): An outlier is a value this many times the IQR above q3/below q1\n",
        "            \n",
        "        Returns:\n",
        "            Adjusted variable in which outliers are truncated\n",
        "    Source: https://github.com/Humboldt-WI/bads/blob/master/tutorials/4_nb_data_preparation.ipynb\n",
        "    '''\n",
        "    x_new = x.copy()\n",
        "    \n",
        "    # Calculate IQR\n",
        "    IQR = x.quantile(0.75) - x.quantile(0.25) \n",
        "    \n",
        "    # Define upper/lower bound\n",
        "    upper = x.quantile(0.75) + factor*IQR\n",
        "    lower = x.quantile(0.25) - factor*IQR\n",
        "    \n",
        "    # Truncation\n",
        "    x_new[x < lower] = lower\n",
        "    x_new[x > upper] = upper\n",
        "    \n",
        "    return x_new"
      ],
      "id": "bc7cc336",
      "execution_count": 3,
      "outputs": []
    },
    {
      "cell_type": "markdown",
      "metadata": {
        "id": "-kLnKTOg8DMp"
      },
      "source": [
        "# Data Imports"
      ],
      "id": "-kLnKTOg8DMp"
    },
    {
      "cell_type": "code",
      "metadata": {
        "colab": {
          "base_uri": "https://localhost:8080/"
        },
        "id": "3729e75d",
        "outputId": "6d3a7b18-555a-48c7-88e2-5579d590664a"
      },
      "source": [
        "# Read Transactions\n",
        "file = 'https://raw.githubusercontent.com/kalinakalina/DEDA_Cryptopunks/main/data/transaction.csv'\n",
        "df_tr = pd.read_csv(file, header = None, index_col = 0)\n",
        "df_tr.columns = ['type', 'from', 'to', 'date', 'punk_id', 'amount_in_eth', 'amount_in_dol']\n",
        "df_tr = df_tr[ ['punk_id'] + [ col for col in df_tr.columns if col != 'punk_id' ] ]\n",
        "df_tr = fix_df(df_tr)\n",
        "print('transaction head')\n",
        "print(df_tr.head())\n",
        "print()\n",
        "\n",
        "# Read Accessoires\n",
        "file2 = 'https://raw.githubusercontent.com/kalinakalina/DEDA_Cryptopunks/main/data/accessories.csv'\n",
        "df_acc = pd.read_csv(file2, header = None, sep='\\n')\n",
        "df_acc = df_acc[0].str.split(',', expand=True)\n",
        "df_acc.drop(0, axis=1, inplace=True)\n",
        "\n",
        "dict={1:'gender', \n",
        "      2:  'acc_1',\n",
        "      3:'acc_2', \n",
        "      4: 'acc_3',\n",
        "      5:'acc_4',\n",
        "      6: 'acc_5',\n",
        "      7:'acc_6',\n",
        "      8:'acc_7'}\n",
        "df_acc.rename(columns=dict,\n",
        "          inplace=True)\n",
        "print('accessoires head')\n",
        "print(df_acc.head())\n",
        "print()\n",
        "\n",
        "#Read Dummy Encoded Accessoires\n",
        "file3 = 'https://raw.githubusercontent.com/kalinakalina/DEDA_Cryptopunks/main/data/accessories_transformed_full.csv'\n",
        "acc = pd.read_csv(file3, index_col = 0)\n",
        "acc['punk_id'] = acc.index\n",
        "acc = acc[ ['punk_id'] + [ col for col in acc.columns if col != 'punk_id' ] ]\n",
        "print('accessoires Dummy Encoded head')\n",
        "print(acc.head())\n",
        "print()"
      ],
      "id": "3729e75d",
      "execution_count": 4,
      "outputs": [
        {
          "output_type": "stream",
          "text": [
            "transaction head\n",
            "  punk_id           type      from  ...       date amount_in_eth  amount_in_dol\n",
            "0                                   ...                                        \n",
            "0       0  Bid Withdrawn  0x983ace  ... 2021-05-10         250.0      1030000.0\n",
            "1       0            Bid  0x983ace  ... 2021-04-11         250.0       537615.0\n",
            "2       0  Bid Withdrawn  0xd7510a  ... 2021-03-03         100.0       160973.0\n",
            "3       0            Bid  0xd7510a  ... 2021-02-20         100.0       188897.0\n",
            "4       0  Bid Withdrawn  natealex  ... 2020-09-16          69.0        25532.0\n",
            "\n",
            "[5 rows x 7 columns]\n",
            "\n",
            "accessoires head\n",
            "   gender             acc_1         acc_2       acc_3 acc_4 acc_5 acc_6 acc_7\n",
            "0  Female  Green Eye Shadow       Earring  Blonde Bob  None  None  None  None\n",
            "1    Male             Smile        Mohawk        None  None  None  None  None\n",
            "2  Female         Wild Hair          None        None  None  None  None  None\n",
            "3    Male         Wild Hair  Nerd Glasses        Pipe  None  None  None  None\n",
            "4    Male        Big Shades     Wild Hair     Earring  Goat  None  None  None\n",
            "\n",
            "accessoires Dummy Encoded head\n",
            "   punk_id  Beanie  Choker  ...  Hot Lipstick  Cigarette  Earring\n",
            "0        0       0       0  ...             0          0        1\n",
            "1        1       0       0  ...             0          0        0\n",
            "2        2       0       0  ...             0          0        0\n",
            "3        3       0       0  ...             0          0        0\n",
            "4        4       0       0  ...             0          0        1\n",
            "\n",
            "[5 rows x 88 columns]\n",
            "\n"
          ],
          "name": "stdout"
        }
      ]
    },
    {
      "cell_type": "code",
      "metadata": {
        "id": "eab25d2d"
      },
      "source": [
        "types = df_acc['gender']\n",
        "types_dummies = pd.get_dummies(types)\n",
        "types_dummies['punk_id'] = types_dummies.index\n",
        "types_dummies = types_dummies[ ['punk_id'] + [ col for col in types_dummies.columns if col != 'punk_id' ] ]"
      ],
      "id": "eab25d2d",
      "execution_count": 5,
      "outputs": []
    },
    {
      "cell_type": "markdown",
      "metadata": {
        "id": "ZvDWM_GUOBc4"
      },
      "source": [
        "# Data Preperation\n",
        "\n",
        "\n"
      ],
      "id": "ZvDWM_GUOBc4"
    },
    {
      "cell_type": "code",
      "metadata": {
        "colab": {
          "base_uri": "https://localhost:8080/"
        },
        "id": "8GRcRRg0OKuF",
        "outputId": "04beb569-9c18-458a-9412-9db30789ab63"
      },
      "source": [
        "#Average Sale Price for all Punks\n",
        "sales = df_tr[df_tr['type'].str.contains(\"Sold\")].reset_index(drop=True)\n",
        "sales = sales.drop(['from', 'to', 'type', 'amount_in_eth'], axis=1)\n",
        "sales = sales.groupby(['punk_id'])['amount_in_dol'].mean().reset_index()\n",
        "sales = sales.fillna(0)\n",
        "print(sales.info())\n",
        "\n",
        "## Join accessoires and prices\n",
        "df = pd.merge(sales, types_dummies, on=\"punk_id\", how='left')\n",
        "df = pd.merge(df, acc, on=\"punk_id\", how='left')\n",
        "\n",
        "df = df.set_index(['punk_id'])\n",
        "df = df.fillna(0)\n",
        "print(df.head())\n",
        "\n",
        "y = df['amount_in_dol']\n",
        "y = y.round(decimals=-2)\n",
        "\n",
        "X = df.iloc[:,1:]\n",
        "X = X.astype(int)\n",
        "\n",
        "#X = sm.add_constant(X)\n",
        "\n",
        "X_train, X_test, y_train, y_test = train_test_split(X, y, test_size=0.3, random_state=0)"
      ],
      "id": "8GRcRRg0OKuF",
      "execution_count": 6,
      "outputs": [
        {
          "output_type": "stream",
          "text": [
            "<class 'pandas.core.frame.DataFrame'>\n",
            "RangeIndex: 10000 entries, 0 to 9999\n",
            "Data columns (total 2 columns):\n",
            " #   Column         Non-Null Count  Dtype   \n",
            "---  ------         --------------  -----   \n",
            " 0   punk_id        10000 non-null  category\n",
            " 1   amount_in_dol  10000 non-null  float64 \n",
            "dtypes: category(1), float64(1)\n",
            "memory usage: 495.9 KB\n",
            "None\n",
            "         amount_in_dol  Alien  Ape  ...  Hot Lipstick  Cigarette  Earring\n",
            "punk_id                             ...                                  \n",
            "0          1176.000000      0    0  ...           0.0        0.0      1.0\n",
            "1         13855.666667      0    0  ...           0.0        0.0      0.0\n",
            "2             0.000000      0    0  ...           0.0        0.0      0.0\n",
            "3             0.000000      0    0  ...           0.0        0.0      0.0\n",
            "4             0.000000      0    0  ...           0.0        0.0      1.0\n",
            "\n",
            "[5 rows x 93 columns]\n"
          ],
          "name": "stdout"
        }
      ]
    },
    {
      "cell_type": "code",
      "metadata": {
        "id": "E8eWjWgl9CVz"
      },
      "source": [
        "#Average Sale Price Without Punks that have 0 as average price (unsold)\n",
        "sales_na = df_tr[df_tr['type'].str.contains(\"Sold\")].reset_index(drop=True)\n",
        "sales_na = sales_na.drop(['from', 'to', 'type', 'amount_in_eth'], axis=1)\n",
        "sales_na = sales_na.groupby(['punk_id'])['amount_in_dol'].mean().reset_index()\n",
        "sales_na.dropna(axis = 0, how='any', inplace=True)\n",
        "\n",
        "df_na = pd.merge(sales_na, types_dummies, on=\"punk_id\", how='left')\n",
        "df_na= pd.merge(df_na, acc, on=\"punk_id\", how='left')\n",
        "df_na = df_na.set_index(['punk_id'])\n",
        "df_na.fillna(0, inplace=True)\n",
        "\n",
        "y_na = df_na['amount_in_dol']\n",
        "y_na = y_na.round(decimals=-2)\n",
        "\n",
        "X_na = df_na.iloc[:,1:]\n",
        "X_na = X_na.astype(int)\n",
        "#X_na = sm.add_constant(X_na)\n",
        "\n",
        "X_na_train, X_na_test, y_na_train, y_na_test = train_test_split(X_na, y_na, test_size=0.3, random_state=0)"
      ],
      "id": "E8eWjWgl9CVz",
      "execution_count": 7,
      "outputs": []
    },
    {
      "cell_type": "code",
      "metadata": {
        "colab": {
          "base_uri": "https://localhost:8080/"
        },
        "id": "pm4ECK2f_zHj",
        "outputId": "a57c64b2-ebe5-49f7-d519-b446fe76c085"
      },
      "source": [
        "print(sales.info())\n",
        "\n",
        "print('sales Na')\n",
        "print(sales_na.info())"
      ],
      "id": "pm4ECK2f_zHj",
      "execution_count": 8,
      "outputs": [
        {
          "output_type": "stream",
          "text": [
            "<class 'pandas.core.frame.DataFrame'>\n",
            "RangeIndex: 10000 entries, 0 to 9999\n",
            "Data columns (total 2 columns):\n",
            " #   Column         Non-Null Count  Dtype   \n",
            "---  ------         --------------  -----   \n",
            " 0   punk_id        10000 non-null  category\n",
            " 1   amount_in_dol  10000 non-null  float64 \n",
            "dtypes: category(1), float64(1)\n",
            "memory usage: 495.9 KB\n",
            "None\n",
            "sales Na\n",
            "<class 'pandas.core.frame.DataFrame'>\n",
            "Int64Index: 5591 entries, 0 to 9998\n",
            "Data columns (total 2 columns):\n",
            " #   Column         Non-Null Count  Dtype   \n",
            "---  ------         --------------  -----   \n",
            " 0   punk_id        5591 non-null   category\n",
            " 1   amount_in_dol  5591 non-null   float64 \n",
            "dtypes: category(1), float64(1)\n",
            "memory usage: 496.4 KB\n",
            "None\n"
          ],
          "name": "stdout"
        }
      ]
    },
    {
      "cell_type": "markdown",
      "metadata": {
        "id": "8aehazMU21Ho"
      },
      "source": [
        "# Linear Regression including all data\n",
        "Trained and tested on data that only non sales that average at 0."
      ],
      "id": "8aehazMU21Ho"
    },
    {
      "cell_type": "code",
      "metadata": {
        "colab": {
          "base_uri": "https://localhost:8080/"
        },
        "id": "nq0jms6ByCcQ",
        "outputId": "bb6457c4-160f-4ee4-c6c7-12ecafa10789"
      },
      "source": [
        "lin_model = LinearRegression()\n",
        "lin_model.fit(X_train, y_train)\n",
        "lin_y_pred = lin_model.predict(X_test)\n",
        "\n",
        "print('Result for Linear Regression \\n')\n",
        "print('Test R^2: ', lin_model.score(X_train, y_train))\n",
        "\n",
        "print('Adjusted Rsquared Train: ', (1 - (1-lin_model.score(X_train, y_train))*(len(y_train)-1)/(len(y_train)-X_train.shape[1]-1)).round(decimals=3))\n",
        "print('Test R^2: ', lin_model.score(X_test, y_test))\n",
        "print('Adjusted Rsquared Test: ', (1 - (1-lin_model.score(X_test, y_test))*(len(y_test)-1)/(len(y_test)-X_test.shape[1]-1)).round(decimals=3))\n",
        "print('Mean Absolute Error:', metrics.mean_absolute_error(y_test, lin_y_pred).round(decimals=3))\n",
        "print('Mean Squared Error:', metrics.mean_squared_error(y_test, lin_y_pred).round(decimals=3))\n",
        "print('Root Mean Squared Error:', np.sqrt(metrics.mean_squared_error(y_test, lin_y_pred)).round(decimals=3))"
      ],
      "id": "nq0jms6ByCcQ",
      "execution_count": 9,
      "outputs": [
        {
          "output_type": "stream",
          "text": [
            "Result for Linear Regression \n",
            "\n",
            "Test R^2:  0.18333648257215351\n",
            "Adjusted Rsquared Train:  0.172\n",
            "Test R^2:  0.1694334962790205\n",
            "Adjusted Rsquared Test:  0.143\n",
            "Mean Absolute Error: 22805.844\n",
            "Mean Squared Error: 5019985874.821\n",
            "Root Mean Squared Error: 70851.859\n"
          ],
          "name": "stdout"
        }
      ]
    },
    {
      "cell_type": "code",
      "metadata": {
        "id": "pj86fr_2rh9m",
        "outputId": "e39e5f7a-a919-44d6-8ff7-63eac8c3205b",
        "colab": {
          "base_uri": "https://localhost:8080/",
          "height": 313
        }
      },
      "source": [
        "lin_res = y_test - lin_y_pred\n",
        "plt.plot(y_test, lin_res, 'o', color='darkblue')\n",
        "plt.title(\"Linear Regression Residual Plot on Test Data\")\n",
        "plt.xlabel(\"Amount in Dollars\")\n",
        "plt.ylabel(\"Residual\")\n",
        "plt.xlim(0, 500000)"
      ],
      "id": "pj86fr_2rh9m",
      "execution_count": 16,
      "outputs": [
        {
          "output_type": "execute_result",
          "data": {
            "text/plain": [
              "(0.0, 500000.0)"
            ]
          },
          "metadata": {
            "tags": []
          },
          "execution_count": 16
        },
        {
          "output_type": "display_data",
          "data": {
            "image/png": "[encoded data removed]",
            "text/plain": [
              "<Figure size 432x288 with 1 Axes>"
            ]
          },
          "metadata": {
            "tags": [],
            "needs_background": "light"
          }
        }
      ]
    },
    {
      "cell_type": "code",
      "metadata": {
        "id": "PT9mu763Gxns"
      },
      "source": [
        "regressor = sm.OLS(y_train, X_train).fit()\n",
        "y_pred = regressor.predict(X_test)\n",
        "print('Mean Absolute Error:', meanabs(y_test, y_pred))\n",
        "print('Root Mean Squared Error:', rmse(y_test, y_pred))\n",
        "print()\n",
        "print(regressor.summary())"
      ],
      "id": "PT9mu763Gxns",
      "execution_count": null,
      "outputs": []
    },
    {
      "cell_type": "code",
      "metadata": {
        "colab": {
          "base_uri": "https://localhost:8080/"
        },
        "id": "aHRsxfosHHZb",
        "outputId": "e0d3cb9a-438e-4d51-e8b7-06e463d738cd"
      },
      "source": [
        "tmp = (regressor.pvalues <= 0.05)[1:]\n",
        "tmp = pd.DataFrame(tmp)\n",
        "tmp.reset_index(level=0, inplace=True)\n",
        "tmp.rename(columns={0:'high_sig', 'index': 'attr'}, inplace=True )\n",
        "sigf = tmp.loc[tmp['high_sig'] == True, 'attr']\n",
        "print('Coefficients OLS with high significanz \\n', sigf)"
      ],
      "id": "aHRsxfosHHZb",
      "execution_count": 12,
      "outputs": [
        {
          "output_type": "stream",
          "text": [
            "Coefficients OLS with high significanz \n",
            " 3           Zombie\n",
            "4           Beanie\n",
            "6     Pilot Helmet\n",
            "8      Orange Side\n",
            "9       Buck Teeth\n",
            "11        Pigtails\n",
            "13         Top Hat\n",
            "39     Cap Forward\n",
            "40          Hoodie\n",
            "50      3D Glasses\n",
            "61            Pipe\n",
            "64    Small Shades\n",
            "84    Nerd Glasses\n",
            "Name: attr, dtype: object\n"
          ],
          "name": "stdout"
        }
      ]
    },
    {
      "cell_type": "markdown",
      "metadata": {
        "id": "V-J92wGP-gS6"
      },
      "source": [
        "# Linear Regression without avg 0 Sales"
      ],
      "id": "V-J92wGP-gS6"
    },
    {
      "cell_type": "code",
      "metadata": {
        "colab": {
          "base_uri": "https://localhost:8080/"
        },
        "id": "m_I7zq5k-jhy",
        "outputId": "ec1f03e1-de54-4af6-bd75-8565e952d941"
      },
      "source": [
        "lin_model_na = LinearRegression()\n",
        "lin_model_na.fit(X_na_train, y_na_train)\n",
        "lin_y_pred_na = lin_model_na.predict(X_na_test)\n",
        "\n",
        "print('Result for Linear Regression \\n')\n",
        "print('Adjusted Rsquared Train: ', (1 - (1-lin_model_na.score(X_na_train, y_na_train))*(len(y_na_train)-1)/(len(y_na_train)-X_na_train.shape[1]-1)).round(decimals=3))\n",
        "print('Test R^2: ', lin_model_na.score(X_na_test, y_na_test).round(decimals=3))\n",
        "print('Adjusted Rsquared Test: ', (1 - (1-lin_model_na.score(X_na_test, y_na_test))*(len(y_na_test)-1)/(len(y_na_test)-X_na_test.shape[1]-1)).round(decimals=3))\n",
        "print('Mean Absolute Error:', metrics.mean_absolute_error(y_na_test, lin_y_pred_na).round(decimals=3))\n",
        "print('Mean Squared Error:', metrics.mean_squared_error(y_na_test, lin_y_pred_na).round(decimals=3))\n",
        "print('Root Mean Squared Error:', np.sqrt(metrics.mean_squared_error(y_na_test, lin_y_pred_na)).round(decimals=3))"
      ],
      "id": "m_I7zq5k-jhy",
      "execution_count": 15,
      "outputs": [
        {
          "output_type": "stream",
          "text": [
            "Result for Linear Regression \n",
            "\n",
            "Adjusted Rsquared Train:  0.245\n",
            "Test R^2:  0.235\n",
            "Adjusted Rsquared Test:  0.191\n",
            "Mean Absolute Error: 29380.312\n",
            "Mean Squared Error: 7609738731.07\n",
            "Root Mean Squared Error: 87233.816\n"
          ],
          "name": "stdout"
        }
      ]
    },
    {
      "cell_type": "code",
      "metadata": {
        "id": "W3LRhwvTr3KT",
        "outputId": "e2caf55f-b0c6-4763-9d62-1d9b23820279",
        "colab": {
          "base_uri": "https://localhost:8080/",
          "height": 313
        }
      },
      "source": [
        "res_na = y_na_test - lin_y_pred_na\n",
        "plt.plot(y_na_test, res_na, 'o', color='darkblue')\n",
        "plt.title(\"Linear Regression without Zero Sales Residual Plot on Test Data\")\n",
        "plt.xlabel(\"Amount in Dollars\")\n",
        "plt.ylabel(\"Residual\")\n",
        "plt.xlim(0, 500000)"
      ],
      "id": "W3LRhwvTr3KT",
      "execution_count": 19,
      "outputs": [
        {
          "output_type": "execute_result",
          "data": {
            "text/plain": [
              "(0.0, 500000.0)"
            ]
          },
          "metadata": {
            "tags": []
          },
          "execution_count": 19
        },
        {
          "output_type": "display_data",
          "data": {
            "image/png": "[encoded data removed]",
            "text/plain": [
              "<Figure size 432x288 with 1 Axes>"
            ]
          },
          "metadata": {
            "tags": [],
            "needs_background": "light"
          }
        }
      ]
    },
    {
      "cell_type": "code",
      "metadata": {
        "colab": {
          "base_uri": "https://localhost:8080/"
        },
        "id": "GXGwxyR8Zhcz",
        "outputId": "ea4ba2af-a924-4fb8-f983-2940b9e4b8af"
      },
      "source": [
        "tmp = (regressor.pvalues <= 0.10)[1:]\n",
        "tmp = pd.DataFrame(tmp)\n",
        "tmp.reset_index(level=0, inplace=True)\n",
        "tmp.rename(columns={0:'high_sig', 'index': 'attr'}, inplace=True )\n",
        "sigf = tmp.loc[tmp['high_sig'] == True, 'attr']\n",
        "print('Coefficients OLS with high significanz \\n', sigf)"
      ],
      "id": "GXGwxyR8Zhcz",
      "execution_count": null,
      "outputs": [
        {
          "output_type": "stream",
          "text": [
            "Coefficients OLS with high significanz \n",
            " 0                Ape\n",
            "3             Zombie\n",
            "4             Beanie\n",
            "5             Choker\n",
            "6       Pilot Helmet\n",
            "8        Orange Side\n",
            "9         Buck Teeth\n",
            "11          Pigtails\n",
            "12     Pink With Hat\n",
            "13           Top Hat\n",
            "39       Cap Forward\n",
            "40            Hoodie\n",
            "50        3D Glasses\n",
            "61              Pipe\n",
            "62                VR\n",
            "64      Small Shades\n",
            "79    Classic Shades\n",
            "83        Big Shades\n",
            "84      Nerd Glasses\n",
            "Name: attr, dtype: object\n"
          ],
          "name": "stdout"
        }
      ]
    },
    {
      "cell_type": "markdown",
      "metadata": {
        "id": "6db6f3cf"
      },
      "source": [
        "# Linear Regression with Lasso Regularization"
      ],
      "id": "6db6f3cf"
    },
    {
      "cell_type": "code",
      "metadata": {
        "colab": {
          "base_uri": "https://localhost:8080/"
        },
        "id": "7b0eb75d",
        "outputId": "7ec0b8bf-14b4-4d40-ced2-70e18fab3bdb"
      },
      "source": [
        "opt_model = Lasso(alpha=0.84)\n",
        "opt_model.fit(X_train, y_train)\n",
        "lasso_y_pred = opt_model.predict(X_test)\n",
        "\n",
        "print('Result for LASSO \\n')\n",
        "print('Adjusted Rsquared Train: ', (1 - (1-opt_model.score(X_train, y_train))*(len(y_train)-1)/(len(y_train)-X_train.shape[1]-1)).round(decimals=3))\n",
        "print('Test R^2: ', opt_model.score(X_test, y_test))\n",
        "print('Adjusted Rsquared Test: ', (1 - (1-opt_model.score(X_test, y_test))*(len(y_test)-1)/(len(y_test)-X_test.shape[1]-1)).round(decimals=3))\n",
        "print('Mean Absolute Error:', metrics.mean_absolute_error(y_test, lasso_y_pred).round(decimals=3))\n",
        "print('Mean Squared Error:', metrics.mean_squared_error(y_test, lasso_y_pred).round(decimals=3))\n",
        "print('Root Mean Squared Error:', np.sqrt(metrics.mean_squared_error(y_test, lasso_y_pred)).round(decimals=3))\n",
        "\n",
        "opt_model_na = Lasso(alpha=0.84)\n",
        "opt_model_na.fit(X_na_train, y_na_train)\n",
        "lasso_y_pred_na = opt_model_na.predict(X_na_test)\n",
        "print()\n",
        "print('Result for LASSO without avg 0 sales \\n')\n",
        "print('Adjusted Rsquared Train: ', (1 - (1-opt_model_na.score(X_na_train, y_na_train))*(len(y_na_train)-1)/(len(y_na_train)-X_na_train.shape[1]-1)).round(decimals=3))\n",
        "print('Test R^2: ', opt_model_na.score(X_na_test, y_na_test).round(decimals=3))\n",
        "print('Adjusted Rsquared Test: ', (1 - (1-opt_model_na.score(X_na_test, y_na_test))*(len(y_na_test)-1)/(len(y_na_test)-X_na_test.shape[1]-1)).round(decimals=3))\n",
        "print('Mean Absolute Error:', metrics.mean_absolute_error(y_na_test, lasso_y_pred_na).round(decimals=3))\n",
        "print('Mean Squared Error:', metrics.mean_squared_error(y_na_test, lasso_y_pred_na).round(decimals=3))\n",
        "print('Root Mean Squared Error:', np.sqrt(metrics.mean_squared_error(y_na_test, lasso_y_pred_na)).round(decimals=3))"
      ],
      "id": "7b0eb75d",
      "execution_count": 20,
      "outputs": [
        {
          "output_type": "stream",
          "text": [
            "/usr/local/lib/python3.7/dist-packages/sklearn/linear_model/_coordinate_descent.py:476: ConvergenceWarning: Objective did not converge. You might want to increase the number of iterations. Duality gap: 2545951353749.041, tolerance: 2582034579.5857005\n",
            "  positive)\n"
          ],
          "name": "stderr"
        },
        {
          "output_type": "stream",
          "text": [
            "Result for LASSO \n",
            "\n",
            "Adjusted Rsquared Train:  0.172\n",
            "Test R^2:  0.16931646647199594\n",
            "Adjusted Rsquared Test:  0.143\n",
            "Mean Absolute Error: 22812.797\n",
            "Mean Squared Error: 5020693208.883\n",
            "Root Mean Squared Error: 70856.85\n",
            "\n",
            "Result for LASSO without avg 0 sales \n",
            "\n",
            "Adjusted Rsquared Train:  0.245\n",
            "Test R^2:  0.236\n",
            "Adjusted Rsquared Test:  0.191\n",
            "Mean Absolute Error: 29385.167\n",
            "Mean Squared Error: 7608780483.564\n",
            "Root Mean Squared Error: 87228.324\n"
          ],
          "name": "stdout"
        },
        {
          "output_type": "stream",
          "text": [
            "/usr/local/lib/python3.7/dist-packages/sklearn/linear_model/_coordinate_descent.py:476: ConvergenceWarning: Objective did not converge. You might want to increase the number of iterations. Duality gap: 2233369494666.131, tolerance: 2530758495.305391\n",
            "  positive)\n"
          ],
          "name": "stderr"
        }
      ]
    },
    {
      "cell_type": "code",
      "metadata": {
        "id": "uvCxTG60tGYC",
        "outputId": "0af28125-a9dc-4ff6-a4f4-f024f635f36e",
        "colab": {
          "base_uri": "https://localhost:8080/",
          "height": 313
        }
      },
      "source": [
        "res_lasso = y_test - lasso_y_pred\n",
        "plt.plot(y_test, res_lasso, 'o', color='darkblue')\n",
        "plt.title(\"Linear Regression without Zero Sales Residual Plot on Test Data\")\n",
        "plt.xlabel(\"Amount in Dollars\")\n",
        "plt.ylabel(\"Residual\")\n",
        "plt.xlim(0, 500000)"
      ],
      "id": "uvCxTG60tGYC",
      "execution_count": 23,
      "outputs": [
        {
          "output_type": "execute_result",
          "data": {
            "text/plain": [
              "(0.0, 500000.0)"
            ]
          },
          "metadata": {
            "tags": []
          },
          "execution_count": 23
        },
        {
          "output_type": "display_data",
          "data": {
            "image/png": "[encoded data removed]",
            "text/plain": [
              "<Figure size 432x288 with 1 Axes>"
            ]
          },
          "metadata": {
            "tags": [],
            "needs_background": "light"
          }
        }
      ]
    },
    {
      "cell_type": "code",
      "metadata": {
        "colab": {
          "base_uri": "https://localhost:8080/"
        },
        "id": "7b707aa5",
        "outputId": "d16096ea-5327-4143-b284-eaa7070799df"
      },
      "source": [
        "coeff_df = pd.DataFrame(opt_model_na.coef_, X_na.columns, columns=['Coefficient'])\n",
        "coeff_df = coeff_df.sort_values(by=['Coefficient'], ascending=False)\n",
        "print('Coefficients LASSO \\n', coeff_df)\n",
        "coeff_lasso_top_20 = coeff_df.head(20).index"
      ],
      "id": "7b707aa5",
      "execution_count": 24,
      "outputs": [
        {
          "output_type": "stream",
          "text": [
            "Coefficients LASSO \n",
            "                Coefficient\n",
            "Alien         1.220746e+06\n",
            "Zombie        1.302557e+05\n",
            "Ape           9.114466e+04\n",
            "Orange Side   5.793707e+04\n",
            "3D Glasses    4.435628e+04\n",
            "...                    ...\n",
            "Police Cap   -9.715572e+03\n",
            "Headband     -9.881030e+03\n",
            "Bandana      -1.035325e+04\n",
            "Male         -1.101543e+04\n",
            "Medical Mask -1.822191e+04\n",
            "\n",
            "[92 rows x 1 columns]\n"
          ],
          "name": "stdout"
        }
      ]
    },
    {
      "cell_type": "markdown",
      "metadata": {
        "id": "KeK-t5jNRNhX"
      },
      "source": [
        "# Step Wise Regression"
      ],
      "id": "KeK-t5jNRNhX"
    },
    {
      "cell_type": "code",
      "metadata": {
        "id": "yJ6wP57LUlig",
        "outputId": "965f10bb-07b7-4f9c-9cb2-241952dc7cb0",
        "colab": {
          "base_uri": "https://localhost:8080/",
          "height": 350
        }
      },
      "source": [
        "sfs = SFS(LinearRegression(),\n",
        "           forward=True, \n",
        "          k_features='best',\n",
        "           floating=False, \n",
        "           scoring='r2',\n",
        "           cv=3)\n",
        "\n",
        "sfs = sfs.fit(X_train, y_train)\n",
        "print('best combination (r2: %.3f): %s\\n' % (sfs.k_score_, sfs.k_feature_names_))\n",
        "fig1 = plot_sfs(sfs.get_metric_dict(), kind='std_err')\n",
        "plt.title('Sequential Forward Selection with best number of features (w. StdDev)')\n",
        "plt.grid()\n",
        "plt.show()\n",
        "#sfs.subsets_"
      ],
      "id": "yJ6wP57LUlig",
      "execution_count": 25,
      "outputs": [
        {
          "output_type": "stream",
          "text": [
            "best combination (r2: 0.049): ('Zombie', 'Beanie', 'Pilot Helmet', 'Orange Side', 'Buck Teeth', 'Pigtails', 'Pink With Hat', 'Top Hat', 'Spots', 'Wild Blonde', 'Clown Hair Green', 'Purple Hair', 'Police Cap', 'Clown Nose', 'Hoodie', 'Handlebars', 'Green Eye Shadow', 'Chinstrap', '3D Glasses', 'Goat', 'Shaved Head', 'Peak Spike', 'VR', 'Headband', 'Mohawk Dark', 'Frumpy Hair', 'Wild Hair', 'Messy Hair', 'Stringy Hair', 'Bandana', 'Classic Shades', 'Horned Rim Glasses', 'Big Shades', 'Nerd Glasses', 'Purple Lipstick', 'Earring')\n",
            "\n"
          ],
          "name": "stdout"
        },
        {
          "output_type": "display_data",
          "data": {
            "image/png": "[encoded data removed]",
            "text/plain": [
              "<Figure size 432x288 with 1 Axes>"
            ]
          },
          "metadata": {
            "tags": [],
            "needs_background": "light"
          }
        }
      ]
    },
    {
      "cell_type": "code",
      "metadata": {
        "colab": {
          "base_uri": "https://localhost:8080/",
          "height": 1000
        },
        "id": "Uu8KqXnw3USn",
        "outputId": "5ff3b0ea-33c8-4af1-f11c-69f1dff8d640"
      },
      "source": [
        "#10 features\n",
        "sfs2 = SFS(LinearRegression(),\n",
        "           forward=True, \n",
        "          k_features=10,\n",
        "           floating=False, \n",
        "           scoring='r2',\n",
        "           cv=3)\n",
        "\n",
        "sfs2 = sfs2.fit(X_na_train, y_na_train)\n",
        "print('best combination (r2: %.3f): %s\\n' % (sfs2.k_score_, sfs2.k_feature_names_))\n",
        "\n",
        "fig2 = plot_sfs(sfs2.get_metric_dict(), kind='std_err')\n",
        "\n",
        "\n",
        "plt.title('Sequential Forward Selection with 10 Features (w. StdDev)')\n",
        "plt.grid()\n",
        "plt.show()\n",
        "\n",
        "# 20 features\n",
        "sfsback_20= SFS(LinearRegression(),\n",
        "           forward=True, \n",
        "          k_features=20,\n",
        "           floating=False, \n",
        "           scoring='r2',\n",
        "           cv=3)\n",
        "\n",
        "sfsbackfit_20 = sfsback_20.fit(X_na_train, y_na_train)\n",
        "print('best combination (r2: %.3f): %s\\n' % (sfsbackfit_20.k_score_, sfsbackfit_20.k_feature_names_))\n",
        "fig_20 = plot_sfs(sfsbackfit_20.get_metric_dict(), kind='std_err')\n",
        "plt.title('Sequential Forward Selection with 20 features (w. StdDev)')\n",
        "plt.grid()\n",
        "plt.show()\n",
        "\n",
        "# 30 features\n",
        "sfsback = SFS(LinearRegression(),\n",
        "           forward=True, \n",
        "          k_features=30,\n",
        "           floating=False, \n",
        "           scoring='r2',\n",
        "           cv=3)\n",
        "\n",
        "sfsbackfit = sfsback.fit(X_na_train, y_na_train)\n",
        "print('best combination (r2: %.3f): %s\\n' % (sfsbackfit.k_score_, sfsbackfit.k_feature_names_))\n",
        "\n",
        "fig2 = plot_sfs(sfsbackfit.get_metric_dict(), kind='std_err')\n",
        "plt.title('Sequential Forward Selection with 30 features (w. StdDev)')\n",
        "plt.grid()\n",
        "plt.show()\n",
        "\n",
        "# 60 features\n",
        "sfsback = SFS(LinearRegression(),\n",
        "           forward=True, \n",
        "          k_features=60,\n",
        "           floating=False, \n",
        "           scoring='r2',\n",
        "           cv=3)\n",
        "\n",
        "sfs = sfs.fit(X_na_train, y_na_train)\n",
        "print('best combination (r2: %.3f): %s\\n' % (sfsbackfit.k_score_, sfsbackfit.k_feature_names_))\n",
        "fig2 = plot_sfs(sfsbackfit.get_metric_dict(), kind='std_err')\n",
        "plt.title('Sequential Forward Selection with 60 features (w. StdDev)')\n",
        "plt.grid()\n",
        "plt.show()"
      ],
      "id": "Uu8KqXnw3USn",
      "execution_count": null,
      "outputs": [
        {
          "output_type": "stream",
          "text": [
            "best combination (r2: 0.088): ('Male', 'Zombie', 'Orange Side', 'Pigtails', 'Top Hat', 'Wild Blonde', 'Smile', 'Hoodie', '3D Glasses', 'Knitted Cap')\n",
            "\n"
          ],
          "name": "stdout"
        },
        {
          "output_type": "display_data",
          "data": {
            "image/png": "[encoded data removed]",
            "text/plain": [
              "<Figure size 720x720 with 1 Axes>"
            ]
          },
          "metadata": {
            "tags": [],
            "needs_background": "light"
          }
        },
        {
          "output_type": "stream",
          "text": [
            "best combination (r2: 0.093): ('Male', 'Zombie', 'Orange Side', 'Buck Teeth', 'Pigtails', 'Pink With Hat', 'Top Hat', 'Cowboy Hat', 'Wild Blonde', 'Purple Hair', 'Smile', 'Hoodie', 'Blue Eye Shadow', '3D Glasses', 'Headband', 'Knitted Cap', 'Stringy Hair', 'Shadow Beard', 'Horned Rim Glasses', 'Black Lipstick')\n",
            "\n"
          ],
          "name": "stdout"
        },
        {
          "output_type": "display_data",
          "data": {
            "image/png": "[encoded data removed]",
            "text/plain": [
              "<Figure size 720x720 with 1 Axes>"
            ]
          },
          "metadata": {
            "tags": [],
            "needs_background": "light"
          }
        },
        {
          "output_type": "stream",
          "text": [
            "best combination (r2: 0.095): ('Male', 'Zombie', 'Orange Side', 'Buck Teeth', 'Pigtails', 'Pink With Hat', 'Top Hat', 'Cowboy Hat', 'Wild Blonde', 'Clown Hair Green', 'Straight Hair', 'Silver Chain', 'Purple Hair', 'Medical Mask', 'Police Cap', 'Clown Nose', 'Smile', 'Hoodie', 'Purple Eye Shadow', 'Blue Eye Shadow', '3D Glasses', 'Shaved Head', 'Headband', 'Knitted Cap', 'Mohawk', 'Stringy Hair', 'Shadow Beard', 'Horned Rim Glasses', 'Black Lipstick', 'Mole')\n",
            "\n"
          ],
          "name": "stdout"
        },
        {
          "output_type": "display_data",
          "data": {
            "image/png": "[encoded data removed]",
            "text/plain": [
              "<Figure size 720x720 with 1 Axes>"
            ]
          },
          "metadata": {
            "tags": [],
            "needs_background": "light"
          }
        },
        {
          "output_type": "stream",
          "text": [
            "best combination (r2: 0.095): ('Male', 'Zombie', 'Orange Side', 'Buck Teeth', 'Pigtails', 'Pink With Hat', 'Top Hat', 'Cowboy Hat', 'Wild Blonde', 'Clown Hair Green', 'Straight Hair', 'Silver Chain', 'Purple Hair', 'Medical Mask', 'Police Cap', 'Clown Nose', 'Smile', 'Hoodie', 'Purple Eye Shadow', 'Blue Eye Shadow', '3D Glasses', 'Shaved Head', 'Headband', 'Knitted Cap', 'Mohawk', 'Stringy Hair', 'Shadow Beard', 'Horned Rim Glasses', 'Black Lipstick', 'Mole')\n",
            "\n"
          ],
          "name": "stdout"
        },
        {
          "output_type": "display_data",
          "data": {
            "image/png": "[encoded data removed]",
            "text/plain": [
              "<Figure size 720x720 with 1 Axes>"
            ]
          },
          "metadata": {
            "tags": [],
            "needs_background": "light"
          }
        }
      ]
    },
    {
      "cell_type": "code",
      "metadata": {
        "colab": {
          "base_uri": "https://localhost:8080/",
          "height": 692
        },
        "id": "8nkKKQUcNMMt",
        "outputId": "e447b917-71e4-41ce-e80e-3159efabc36c"
      },
      "source": [
        "# 20 features\n",
        "sfsback_20= SFS(LinearRegression(),\n",
        "           forward=True, \n",
        "          k_features=20,\n",
        "           floating=False, \n",
        "           scoring='r2',\n",
        "           cv=3)\n",
        "\n",
        "sfsbackfit_20 = sfsback_20.fit(X_na_train, y_na_train)\n",
        "print('best combination (r2: %.3f): %s\\n' % (sfsbackfit_20.k_score_, sfsbackfit_20.k_feature_names_))\n",
        "fig_20 = plot_sfs(sfsbackfit_20.get_metric_dict(), kind='std_err')\n",
        "plt.title('Sequential Forward Selection with 20 features (w. StdDev)')\n",
        "plt.grid()\n",
        "plt.savefig('forward_selection', transparent =True)\n",
        "plt.show()\n",
        "\n",
        "# Picture Export\n",
        "# print('best combination (r2: %.3f): %s\\n' % (sfsbackfit_20.k_score_, sfsbackfit_20.k_feature_names_))\n",
        "# fig_20 = plot_sfs(sfsbackfit_20.get_metric_dict(), kind='std_err')\n",
        "# plt.title('Sequential Forward Selection with 20 features (w. StdDev)')\n",
        "# plt.grid()\n",
        "# plt.show()\n",
        "plt.savefig('foward_selection', transparent =True)"
      ],
      "id": "8nkKKQUcNMMt",
      "execution_count": null,
      "outputs": [
        {
          "output_type": "stream",
          "text": [
            "best combination (r2: 0.093): ('Male', 'Zombie', 'Orange Side', 'Buck Teeth', 'Pigtails', 'Pink With Hat', 'Top Hat', 'Cowboy Hat', 'Wild Blonde', 'Purple Hair', 'Smile', 'Hoodie', 'Blue Eye Shadow', '3D Glasses', 'Headband', 'Knitted Cap', 'Stringy Hair', 'Shadow Beard', 'Horned Rim Glasses', 'Black Lipstick')\n",
            "\n"
          ],
          "name": "stdout"
        },
        {
          "output_type": "display_data",
          "data": {
            "image/png": "[encoded data removed]",
            "text/plain": [
              "<Figure size 720x720 with 1 Axes>"
            ]
          },
          "metadata": {
            "tags": [],
            "needs_background": "light"
          }
        },
        {
          "output_type": "display_data",
          "data": {
            "text/plain": [
              "<Figure size 720x720 with 0 Axes>"
            ]
          },
          "metadata": {
            "tags": []
          }
        }
      ]
    },
    {
      "cell_type": "markdown",
      "metadata": {
        "id": "0FDdVChGXjsx"
      },
      "source": [
        "# Visualization Feature Selection"
      ],
      "id": "0FDdVChGXjsx"
    },
    {
      "cell_type": "code",
      "metadata": {
        "id": "93b2d801"
      },
      "source": [
        "regressor = sm.OLS(y_na_train, X_na_train).fit()\n",
        "y_pred = regressor.predict(X_na_test)\n",
        "tmp = (regressor.pvalues <= 0.10)[1:]\n",
        "tmp = pd.DataFrame(tmp)\n",
        "tmp.reset_index(level=0, inplace=True)\n",
        "tmp.rename(columns={0:'high_sig', 'index': 'attr'}, inplace=True )\n",
        "sigf = tmp.loc[tmp['high_sig'] == True, 'attr']"
      ],
      "id": "93b2d801",
      "execution_count": null,
      "outputs": []
    },
    {
      "cell_type": "code",
      "metadata": {
        "id": "396e253f",
        "outputId": "0052ab91-c2ec-4196-f5c1-1db7c10049cc"
      },
      "source": [
        "coeff_df = pd.DataFrame(opt_model_na.coef_, X_na.columns, columns=['Coefficient'])\n",
        "coeff_df = coeff_df.sort_values(by=['Coefficient'], ascending=False)\n",
        "print('Coefficients LASSO \\n', coeff_df)\n",
        "coeff_lasso_top_20 = coeff_df.head(20).index"
      ],
      "id": "396e253f",
      "execution_count": null,
      "outputs": [
        {
          "output_type": "stream",
          "text": [
            "Coefficients LASSO \n",
            "                Coefficient\n",
            "Alien         1.220746e+06\n",
            "Zombie        1.302557e+05\n",
            "Ape           9.114466e+04\n",
            "Orange Side   5.793707e+04\n",
            "3D Glasses    4.435628e+04\n",
            "...                    ...\n",
            "Police Cap   -9.715572e+03\n",
            "Headband     -9.881030e+03\n",
            "Bandana      -1.035325e+04\n",
            "Male         -1.101543e+04\n",
            "Medical Mask -1.822191e+04\n",
            "\n",
            "[92 rows x 1 columns]\n"
          ],
          "name": "stdout"
        }
      ]
    },
    {
      "cell_type": "code",
      "metadata": {
        "colab": {
          "base_uri": "https://localhost:8080/",
          "height": 542
        },
        "id": "u3PKz4rDYe_6",
        "outputId": "518b597d-71f0-4bf3-eeb1-85165a4dcf52"
      },
      "source": [
        "set1 = set(coeff_lasso_top_20)\n",
        "set2 = set(sfsbackfit_20.k_feature_names_)\n",
        "set3 = set(sigf)\n",
        "venn3([set1, set2, set3], ('LASSO top 20 attributes', 'Stepwise Regression', 'Significant attributes p<0.10 in Linear Regression'))\n",
        "plt.title('Relation between the selected attributes')\n",
        "plt.rcParams['figure.figsize'] = [10, 10]\n",
        "plt.savefig('venn_diagram', transparent=True)\n",
        "plt.show()"
      ],
      "id": "u3PKz4rDYe_6",
      "execution_count": null,
      "outputs": [
        {
          "output_type": "display_data",
          "data": {
            "image/png": "[encoded data removed]",
            "text/plain": [
              "<Figure size 720x720 with 1 Axes>"
            ]
          },
          "metadata": {
            "tags": []
          }
        }
      ]
    },
    {
      "cell_type": "markdown",
      "metadata": {
        "id": "d328a287",
        "outputId": "c668c1ad-94e5-4e9d-a14a-db5cabb6c67e"
      },
      "source": [
        "print(coeff_lasso_top_20)\n",
        "print(sfsbackfit_20.k_feature_names_)\n",
        "print(sigf)"
      ],
      "id": "d328a287"
    },
    {
      "cell_type": "markdown",
      "metadata": {
        "id": "5657be68"
      },
      "source": [
        "# PCA\n",
        "https://www.datacamp.com/community/tutorials/principal-component-analysis-in-python"
      ],
      "id": "5657be68"
    },
    {
      "cell_type": "code",
      "metadata": {
        "id": "d7c4cfef",
        "outputId": "c55c84d0-4294-4cb7-efba-b2679d9e29ea"
      },
      "source": [
        "from sklearn.decomposition import PCA\n",
        "\n",
        "pca = PCA(n_components=8)\n",
        "pca_model = pca.fit(X_na_train)\n",
        "\n",
        "train = pca.transform(X_na_train)\n",
        "test = pca.transform(X_na_test)\n",
        "print('Explained variation per principal component: {}'.format(pca_model.explained_variance_ratio_))\n",
        "print()\n",
        "pca_lin_model = LinearRegression()\n",
        "pca_lin_model.fit(train, y_na_train)\n",
        "pca_lin_y_pred = pca_lin_model.predict(test)\n",
        "\n",
        "print('Result for Linear Regression with PCA \\n')\n",
        "print('Test R^2: ', pca_lin_model.score(train, y_na_train))\n",
        "\n",
        "print('Adjusted Rsquared Train: ', (1 - (1-pca_lin_model.score(train, y_na_train))*(len(y_na_train)-1)/(len(y_na_train)-train.shape[1]-1)).round(decimals=3))\n",
        "print('Test R^2: ', pca_lin_model.score(test, y_na_test))\n",
        "print('Adjusted Rsquared Test: ', (1 - (1-pca_lin_model.score(test, y_na_test))*(len(y_na_test)-1)/(len(y_na_test)-test.shape[1]-1)).round(decimals=3))\n",
        "print('Mean Absolute Error:', metrics.mean_absolute_error(y_na_test, pca_lin_y_pred).round(decimals=3))\n",
        "print('Mean Squared Error:', metrics.mean_squared_error(y_na_test, pca_lin_y_pred).round(decimals=3))\n",
        "print('Root Mean Squared Error:', np.sqrt(metrics.mean_squared_error(y_na_test, pca_lin_y_pred)).round(decimals=3))"
      ],
      "id": "d7c4cfef",
      "execution_count": null,
      "outputs": [
        {
          "output_type": "stream",
          "text": [
            "Explained variation per principal component: [0.15138485 0.05910375 0.04982078 0.03819791 0.02657165 0.02312207\n",
            " 0.02126798 0.0202364 ]\n",
            "\n",
            "Result for Linear Regression \n",
            "\n",
            "Test R^2:  0.005119489287785273\n",
            "Adjusted Rsquared Train:  0.003\n",
            "Test R^2:  0.0021959712527583886\n",
            "Adjusted Rsquared Test:  -0.003\n",
            "Mean Absolute Error: 28959.466\n",
            "Mean Squared Error: 9931627616.084\n",
            "Root Mean Squared Error: 99657.552\n"
          ],
          "name": "stdout"
        }
      ]
    },
    {
      "cell_type": "markdown",
      "metadata": {
        "id": "0c1be424"
      },
      "source": [
        "# MCA"
      ],
      "id": "0c1be424"
    },
    {
      "cell_type": "code",
      "metadata": {
        "id": "aba26e93"
      },
      "source": [
        "mca_acc = prince.MCA(\n",
        "     n_components=8,\n",
        "     n_iter=10,\n",
        "     copy=True,\n",
        "     check_input=True,\n",
        "     engine='auto',\n",
        "     random_state=42\n",
        " )\n",
        "mca_acc = mca_acc.fit(df_acc)\n",
        "#mca_acc.explained_inertia_"
      ],
      "id": "aba26e93",
      "execution_count": null,
      "outputs": []
    },
    {
      "cell_type": "code",
      "metadata": {
        "id": "c95d79a2",
        "outputId": "203d9860-61ba-404d-a1ad-ed6af14b255f"
      },
      "source": [
        "mca_acc = mca_acc.transform(df_acc)\n",
        "mca_acc = pd.DataFrame(mca_acc)\n",
        "mca_acc.index.name='punk_id'\n",
        "mca_acc.head()"
      ],
      "id": "c95d79a2",
      "execution_count": null,
      "outputs": [
        {
          "output_type": "execute_result",
          "data": {
            "text/html": [
              "<div>\n",
              "<style scoped>\n",
              "    .dataframe tbody tr th:only-of-type {\n",
              "        vertical-align: middle;\n",
              "    }\n",
              "\n",
              "    .dataframe tbody tr th {\n",
              "        vertical-align: top;\n",
              "    }\n",
              "\n",
              "    .dataframe thead th {\n",
              "        text-align: right;\n",
              "    }\n",
              "</style>\n",
              "<table border=\"1\" class=\"dataframe\">\n",
              "  <thead>\n",
              "    <tr style=\"text-align: right;\">\n",
              "      <th></th>\n",
              "      <th>0</th>\n",
              "      <th>1</th>\n",
              "      <th>2</th>\n",
              "      <th>3</th>\n",
              "      <th>4</th>\n",
              "      <th>5</th>\n",
              "      <th>6</th>\n",
              "      <th>7</th>\n",
              "    </tr>\n",
              "    <tr>\n",
              "      <th>punk_id</th>\n",
              "      <th></th>\n",
              "      <th></th>\n",
              "      <th></th>\n",
              "      <th></th>\n",
              "      <th></th>\n",
              "      <th></th>\n",
              "      <th></th>\n",
              "      <th></th>\n",
              "    </tr>\n",
              "  </thead>\n",
              "  <tbody>\n",
              "    <tr>\n",
              "      <th>0</th>\n",
              "      <td>1.038836</td>\n",
              "      <td>0.013757</td>\n",
              "      <td>0.491787</td>\n",
              "      <td>-0.203250</td>\n",
              "      <td>-0.563574</td>\n",
              "      <td>-0.262089</td>\n",
              "      <td>-0.476637</td>\n",
              "      <td>-0.299301</td>\n",
              "    </tr>\n",
              "    <tr>\n",
              "      <th>1</th>\n",
              "      <td>-0.738621</td>\n",
              "      <td>0.155581</td>\n",
              "      <td>2.245116</td>\n",
              "      <td>-0.137410</td>\n",
              "      <td>1.143202</td>\n",
              "      <td>-0.091987</td>\n",
              "      <td>1.360325</td>\n",
              "      <td>1.928501</td>\n",
              "    </tr>\n",
              "    <tr>\n",
              "      <th>2</th>\n",
              "      <td>0.373272</td>\n",
              "      <td>0.144719</td>\n",
              "      <td>-0.207156</td>\n",
              "      <td>-1.046743</td>\n",
              "      <td>0.134286</td>\n",
              "      <td>-0.031461</td>\n",
              "      <td>-0.077573</td>\n",
              "      <td>-0.439775</td>\n",
              "    </tr>\n",
              "    <tr>\n",
              "      <th>3</th>\n",
              "      <td>-0.755384</td>\n",
              "      <td>0.075674</td>\n",
              "      <td>-0.109474</td>\n",
              "      <td>-0.807458</td>\n",
              "      <td>0.010501</td>\n",
              "      <td>-0.110404</td>\n",
              "      <td>0.163441</td>\n",
              "      <td>-0.754422</td>\n",
              "    </tr>\n",
              "    <tr>\n",
              "      <th>4</th>\n",
              "      <td>-0.210543</td>\n",
              "      <td>-0.175639</td>\n",
              "      <td>0.027385</td>\n",
              "      <td>0.388300</td>\n",
              "      <td>-0.442742</td>\n",
              "      <td>-0.005061</td>\n",
              "      <td>-0.254494</td>\n",
              "      <td>-0.047554</td>\n",
              "    </tr>\n",
              "  </tbody>\n",
              "</table>\n",
              "</div>"
            ],
            "text/plain": [
              "                0         1         2         3         4         5         6  \\\n",
              "punk_id                                                                         \n",
              "0        1.038836  0.013757  0.491787 -0.203250 -0.563574 -0.262089 -0.476637   \n",
              "1       -0.738621  0.155581  2.245116 -0.137410  1.143202 -0.091987  1.360325   \n",
              "2        0.373272  0.144719 -0.207156 -1.046743  0.134286 -0.031461 -0.077573   \n",
              "3       -0.755384  0.075674 -0.109474 -0.807458  0.010501 -0.110404  0.163441   \n",
              "4       -0.210543 -0.175639  0.027385  0.388300 -0.442742 -0.005061 -0.254494   \n",
              "\n",
              "                7  \n",
              "punk_id            \n",
              "0       -0.299301  \n",
              "1        1.928501  \n",
              "2       -0.439775  \n",
              "3       -0.754422  \n",
              "4       -0.047554  "
            ]
          },
          "metadata": {
            "tags": []
          },
          "execution_count": 99
        }
      ]
    },
    {
      "cell_type": "code",
      "metadata": {
        "id": "4506ec89",
        "outputId": "1db518c9-21ec-4f26-f88a-5ed688a8177e"
      },
      "source": [
        "df_mca = pd.merge(sales, mca_acc, on=\"punk_id\", how='left')\n",
        "df_mca = df_mca.set_index(['punk_id'])\n",
        "df_mca = df.fillna(0)\n",
        "df_mca.head()"
      ],
      "id": "4506ec89",
      "execution_count": null,
      "outputs": [
        {
          "output_type": "execute_result",
          "data": {
            "text/html": [
              "<div>\n",
              "<style scoped>\n",
              "    .dataframe tbody tr th:only-of-type {\n",
              "        vertical-align: middle;\n",
              "    }\n",
              "\n",
              "    .dataframe tbody tr th {\n",
              "        vertical-align: top;\n",
              "    }\n",
              "\n",
              "    .dataframe thead th {\n",
              "        text-align: right;\n",
              "    }\n",
              "</style>\n",
              "<table border=\"1\" class=\"dataframe\">\n",
              "  <thead>\n",
              "    <tr style=\"text-align: right;\">\n",
              "      <th></th>\n",
              "      <th>amount_in_dol</th>\n",
              "      <th>0</th>\n",
              "      <th>1</th>\n",
              "      <th>2</th>\n",
              "      <th>3</th>\n",
              "      <th>4</th>\n",
              "      <th>5</th>\n",
              "      <th>6</th>\n",
              "      <th>7</th>\n",
              "    </tr>\n",
              "    <tr>\n",
              "      <th>punk_id</th>\n",
              "      <th></th>\n",
              "      <th></th>\n",
              "      <th></th>\n",
              "      <th></th>\n",
              "      <th></th>\n",
              "      <th></th>\n",
              "      <th></th>\n",
              "      <th></th>\n",
              "      <th></th>\n",
              "    </tr>\n",
              "  </thead>\n",
              "  <tbody>\n",
              "    <tr>\n",
              "      <th>0</th>\n",
              "      <td>1176.000000</td>\n",
              "      <td>1.038836</td>\n",
              "      <td>0.013757</td>\n",
              "      <td>0.491787</td>\n",
              "      <td>-0.203250</td>\n",
              "      <td>-0.563574</td>\n",
              "      <td>-0.262089</td>\n",
              "      <td>-0.476637</td>\n",
              "      <td>-0.299301</td>\n",
              "    </tr>\n",
              "    <tr>\n",
              "      <th>1</th>\n",
              "      <td>13855.666667</td>\n",
              "      <td>-0.738621</td>\n",
              "      <td>0.155581</td>\n",
              "      <td>2.245116</td>\n",
              "      <td>-0.137410</td>\n",
              "      <td>1.143202</td>\n",
              "      <td>-0.091987</td>\n",
              "      <td>1.360325</td>\n",
              "      <td>1.928501</td>\n",
              "    </tr>\n",
              "    <tr>\n",
              "      <th>14</th>\n",
              "      <td>256.666667</td>\n",
              "      <td>1.463228</td>\n",
              "      <td>-0.064317</td>\n",
              "      <td>0.225135</td>\n",
              "      <td>0.772147</td>\n",
              "      <td>0.963088</td>\n",
              "      <td>0.107214</td>\n",
              "      <td>0.115047</td>\n",
              "      <td>-0.152088</td>\n",
              "    </tr>\n",
              "    <tr>\n",
              "      <th>33</th>\n",
              "      <td>105.000000</td>\n",
              "      <td>-0.918254</td>\n",
              "      <td>0.017652</td>\n",
              "      <td>-0.393243</td>\n",
              "      <td>-0.331901</td>\n",
              "      <td>0.124072</td>\n",
              "      <td>0.012948</td>\n",
              "      <td>-0.444480</td>\n",
              "      <td>-0.394105</td>\n",
              "    </tr>\n",
              "    <tr>\n",
              "      <th>53</th>\n",
              "      <td>34707.500000</td>\n",
              "      <td>1.084065</td>\n",
              "      <td>-0.029405</td>\n",
              "      <td>0.670961</td>\n",
              "      <td>0.377360</td>\n",
              "      <td>-0.053969</td>\n",
              "      <td>-0.057157</td>\n",
              "      <td>-0.291037</td>\n",
              "      <td>-0.296336</td>\n",
              "    </tr>\n",
              "  </tbody>\n",
              "</table>\n",
              "</div>"
            ],
            "text/plain": [
              "         amount_in_dol         0         1         2         3         4  \\\n",
              "punk_id                                                                    \n",
              "0          1176.000000  1.038836  0.013757  0.491787 -0.203250 -0.563574   \n",
              "1         13855.666667 -0.738621  0.155581  2.245116 -0.137410  1.143202   \n",
              "14          256.666667  1.463228 -0.064317  0.225135  0.772147  0.963088   \n",
              "33          105.000000 -0.918254  0.017652 -0.393243 -0.331901  0.124072   \n",
              "53        34707.500000  1.084065 -0.029405  0.670961  0.377360 -0.053969   \n",
              "\n",
              "                5         6         7  \n",
              "punk_id                                \n",
              "0       -0.262089 -0.476637 -0.299301  \n",
              "1       -0.091987  1.360325  1.928501  \n",
              "14       0.107214  0.115047 -0.152088  \n",
              "33       0.012948 -0.444480 -0.394105  \n",
              "53      -0.057157 -0.291037 -0.296336  "
            ]
          },
          "metadata": {
            "tags": []
          },
          "execution_count": 112
        }
      ]
    },
    {
      "cell_type": "code",
      "metadata": {
        "id": "08a24494"
      },
      "source": [
        "y_mca = df_mca['amount_in_dol']\n",
        "y_mca = y_mca.round(decimals=-2)\n",
        "\n",
        "X_mca= df_mca.iloc[:,1:]\n",
        "X_mca = X_mca.astype(int)\n",
        "\n",
        "X_train_mca, X_test_mca, y_train_mca, y_test_mca = train_test_split(X_mca, y_mca, test_size=0.3, random_state=0)"
      ],
      "id": "08a24494",
      "execution_count": null,
      "outputs": []
    },
    {
      "cell_type": "code",
      "metadata": {
        "id": "c86b1661",
        "outputId": "d83273aa-9585-4579-f5ef-94b94f8da383"
      },
      "source": [
        "lin_model_mca = LinearRegression()\n",
        "lin_model_mca.fit(X_train_mca, y_train_mca)\n",
        "lin_y_pred_mca = lin_model_mca.predict(X_test_mca)\n",
        "\n",
        "print('Result for Linear Regression \\n')\n",
        "print('Test R^2: ', lin_model_mca.score(X_train_mca, y_train_mca))\n",
        "\n",
        "print('Adjusted Rsquared Train: ', (1 - (1-lin_model_mca.score(X_train_mca, y_train_mca))*(len(y_train_mca)-1)/(len(y_train_mca)-X_train_mca.shape[1]-1)).round(decimals=3))\n",
        "print('Test R^2: ', lin_model_mca.score(X_test_mca, y_test_mca))\n",
        "print('Adjusted Rsquared Test: ', (1 - (1-lin_model_mca.score(X_test_mca, y_test_mca))*(len(y_test_mca)-1)/(len(y_test_mca)-X_test_mca.shape[1]-1)).round(decimals=3))\n",
        "print('Mean Absolute Error:', metrics.mean_absolute_error(y_test_mca, lin_y_pred_mca).round(decimals=3))\n",
        "print('Mean Squared Error:', metrics.mean_squared_error(y_test_mca, lin_y_pred_mca).round(decimals=3))\n",
        "print('Root Mean Squared Error:', np.sqrt(metrics.mean_squared_error(y_test_mca, lin_y_pred_mca)).round(decimals=3))"
      ],
      "id": "c86b1661",
      "execution_count": null,
      "outputs": [
        {
          "output_type": "stream",
          "text": [
            "Result for Linear Regression \n",
            "\n",
            "Test R^2:  0.006879408147928645\n",
            "Adjusted Rsquared Train:  0.005\n",
            "Test R^2:  0.0047746499623667615\n",
            "Adjusted Rsquared Test:  0.0\n",
            "Mean Absolute Error: 23242.971\n",
            "Mean Squared Error: 804039404.84\n",
            "Root Mean Squared Error: 28355.589\n"
          ],
          "name": "stdout"
        }
      ]
    },
    {
      "cell_type": "markdown",
      "metadata": {
        "id": "mAJjthLA2rR8"
      },
      "source": [
        "# LGBM Regessor Gradient Boosting\n",
        "Trained an testes on data that only has non null sales"
      ],
      "id": "mAJjthLA2rR8"
    },
    {
      "cell_type": "code",
      "metadata": {
        "colab": {
          "base_uri": "https://localhost:8080/"
        },
        "id": "UCDxxXKz1R7h",
        "outputId": "dcebb651-7bda-4467-90fd-2c49af094198"
      },
      "source": [
        "lgb_model = lgb.LGBMRegressor(\n",
        "    boosting_type= 'gbdt', \n",
        "    num_leaves=42, \n",
        "    n_estimators=100,\n",
        ")\n",
        "lgb_model.fit(X_na_train, y_na_train)\n",
        "lgb_y_pred = lgb_model.predict(X_na_test)\n",
        "\n",
        "print('Result for LGB \\n')\n",
        "\n",
        "print('Adjusted Rsquared Train: ', (1 - (1-lgb_model.score(X_na_train, y_na_train))*(len(y_na_train)-1)/(len(y_na_train)-X_na_train.shape[1]-1)).round(decimals=3))\n",
        "print('Test R^2: ', lgb_model.score(X_na_test, y_na_test).round(decimals=3))\n",
        "print('Adjusted Rsquared Test: ', (1 - (1-lgb_model.score(X_na_test, y_na_test))*(len(y_na_test)-1)/(len(y_na_test)-X_na_test.shape[1]-1)).round(decimals=3))\n",
        "print('Mean Absolute Error:', metrics.mean_absolute_error(y_na_test, lgb_y_pred).round(decimals=3))\n",
        "print('Mean Squared Error:', metrics.mean_squared_error(y_na_test, lgb_y_pred).round(decimals=3))\n",
        "print('Root Mean Squared Error:', np.sqrt(metrics.mean_squared_error(y_na_test, lgb_y_pred)).round(decimals=3))"
      ],
      "id": "UCDxxXKz1R7h",
      "execution_count": null,
      "outputs": [
        {
          "output_type": "stream",
          "text": [
            "Result for LGB \n",
            "\n",
            "Adjusted Rsquared Train:  0.221\n",
            "Test R^2:  -0.006\n",
            "Adjusted Rsquared Test:  -0.064\n",
            "Mean Absolute Error: 28676.554\n",
            "Mean Squared Error: 10009730254.092\n",
            "Root Mean Squared Error: 100048.639\n"
          ],
          "name": "stdout"
        }
      ]
    },
    {
      "cell_type": "markdown",
      "metadata": {
        "id": "hZQUZxcoUysA"
      },
      "source": [
        "# Linear Regression without avg 0 sales and with outlier truncation"
      ],
      "id": "hZQUZxcoUysA"
    },
    {
      "cell_type": "code",
      "metadata": {
        "colab": {
          "base_uri": "https://localhost:8080/"
        },
        "id": "N_B1zc0kVMC5",
        "outputId": "d0323675-677c-479f-d068-11b4bd95f972"
      },
      "source": [
        "sales = df_tr[df_tr['type'].str.contains(\"Sold\")].reset_index(drop=True)\n",
        "sales = sales.drop(['from', 'to', 'type', 'amount_in_eth'], axis=1)\n",
        "sales = sales.groupby(['punk_id'])['amount_in_dol'].mean().reset_index()\n",
        "sales.dropna(axis = 0, how='any', inplace=True)\n",
        "sales.boxplot()"
      ],
      "id": "N_B1zc0kVMC5",
      "execution_count": null,
      "outputs": [
        {
          "output_type": "execute_result",
          "data": {
            "text/plain": [
              "<AxesSubplot:>"
            ]
          },
          "metadata": {
            "tags": []
          },
          "execution_count": 92
        },
        {
          "output_type": "display_data",
          "data": {
            "image/png": "[encoded data removed]",
            "text/plain": [
              "<Figure size 720x720 with 1 Axes>"
            ]
          },
          "metadata": {
            "tags": [],
            "needs_background": "light"
          }
        }
      ]
    },
    {
      "cell_type": "code",
      "metadata": {
        "colab": {
          "base_uri": "https://localhost:8080/"
        },
        "id": "LZkgFm2aYIdS",
        "outputId": "c821f219-5eeb-4bf6-d6ff-f12ad13676f4"
      },
      "source": [
        "sales.amount_in_dol = outlier_truncation(sales.amount_in_dol)\n",
        "sales.boxplot()"
      ],
      "id": "LZkgFm2aYIdS",
      "execution_count": null,
      "outputs": [
        {
          "output_type": "execute_result",
          "data": {
            "text/plain": [
              "<AxesSubplot:>"
            ]
          },
          "metadata": {
            "tags": []
          },
          "execution_count": 93
        },
        {
          "output_type": "display_data",
          "data": {
            "image/png": "[encoded data removed]",
            "text/plain": [
              "<Figure size 720x720 with 1 Axes>"
            ]
          },
          "metadata": {
            "tags": [],
            "needs_background": "light"
          }
        }
      ]
    },
    {
      "cell_type": "code",
      "metadata": {
        "colab": {
          "base_uri": "https://localhost:8080/"
        },
        "id": "QplkgvyWUxyh",
        "outputId": "3060185b-0d45-41b8-d851-3ca0a8ce4db4"
      },
      "source": [
        "## Join accessoires and prices\n",
        "df_na = pd.merge(sales, types_dummies, on=\"punk_id\", how='left')\n",
        "df_na= pd.merge(df_na, acc, on=\"punk_id\", how='left')\n",
        "df_na = df_na.set_index(['punk_id'])\n",
        "df_na.fillna(0, inplace=True)\n",
        "y = df_na['amount_in_dol']\n",
        "y = y.round(decimals=-2)\n",
        "\n",
        "X = df_na.iloc[:,1:]\n",
        "X = X.astype(int)\n",
        "\n",
        "X = sm.add_constant(X)\n",
        "\n",
        "X_na_train, X_na_test, y_na_train, x_na_test = train_test_split(X, y, test_size=0.3, random_state=0)\n",
        "\n",
        "lin_model_na = LinearRegression()\n",
        "lin_model_na.fit(X_na_train, y_na_train)\n",
        "lin_y_pred_na = lin_model_na.predict(X_na_test)\n",
        "\n",
        "print('Result for Linear Regression with outlier truncation \\n')\n",
        "print('Adjusted Rsquared Train: ', (1 - (1-lin_model_na.score(X_na_train, y_na_train))*(len(y_na_train)-1)/(len(y_na_train)-X_na_train.shape[1]-1)).round(decimals=3))\n",
        "print('Test R^2: ', lin_model_na.score(X_na_test, y_na_test).round(decimals=3))\n",
        "print('Adjusted Rsquared Test: ', (1 - (1-lin_model_na.score(X_na_test, y_na_test))*(len(y_na_test)-1)/(len(y_na_test)-X_na_test.shape[1]-1)).round(decimals=3))\n",
        "print('Mean Absolute Error:', metrics.mean_absolute_error(y_na_test, lin_y_pred_na).round(decimals=3))\n",
        "print('Mean Squared Error:', metrics.mean_squared_error(y_na_test, lin_y_pred_na).round(decimals=3))\n",
        "print('Root Mean Squared Error:', np.sqrt(metrics.mean_squared_error(y_na_test, lin_y_pred_na)).round(decimals=3))"
      ],
      "id": "QplkgvyWUxyh",
      "execution_count": null,
      "outputs": [
        {
          "output_type": "stream",
          "text": [
            "Result for Linear Regression with outlier truncation \n",
            "\n",
            "Adjusted Rsquared Train:  0.107\n",
            "Test R^2:  0.012\n",
            "Adjusted Rsquared Test:  -0.046\n",
            "Mean Absolute Error: 26879.068\n",
            "Mean Squared Error: 9829930533.24\n",
            "Root Mean Squared Error: 99146.006\n"
          ],
          "name": "stdout"
        }
      ]
    }
  ]
}