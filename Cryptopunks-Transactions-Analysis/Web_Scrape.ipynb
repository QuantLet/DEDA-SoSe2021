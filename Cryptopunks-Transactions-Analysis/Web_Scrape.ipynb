{
 "cells": [
  {
   "cell_type": "code",
   "execution_count": 17,
   "id": "c8dafe09",
   "metadata": {},
   "outputs": [],
   "source": [
    "import requests\n",
    "from requests import get\n",
    "from bs4 import BeautifulSoup\n",
    "import pandas as pd\n",
    "import numpy as np\n",
    "from collections import OrderedDict\n",
    "\n",
    "import re\n",
    "from time import sleep\n",
    "from random import randint"
   ]
  },
  {
   "cell_type": "code",
   "execution_count": 27,
   "id": "7dd4fe5d",
   "metadata": {},
   "outputs": [],
   "source": [
    "def fix_dollar(x):\n",
    "  x=str(x)\n",
    "  x=x.replace(')', '') \n",
    "  x=x.replace('(', '') \n",
    "  x=x.replace('$', '')\n",
    "  if 'M' in x:\n",
    "    x=float(x.replace('M', ''))\n",
    "    x=x*1000000\n",
    "    return x\n",
    "  if 'B' in x:\n",
    "    x=float(x.replace('B', ''))\n",
    "    x=x*1000000000\n",
    "  return x\n",
    "\n",
    "def fix_eth(x):\n",
    "  x=str(x)\n",
    "  x=x.replace('Ξ', '')\n",
    "  x=x.replace('<', '')\n",
    "  x=x.replace(',', '')\n",
    "  if 'K' in x:\n",
    "    x=float(x.replace('K', ''))\n",
    "    x=x*1000\n",
    "    return x\n",
    "  return x"
   ]
  },
  {
   "cell_type": "code",
   "execution_count": 29,
   "id": "944c58bc",
   "metadata": {},
   "outputs": [],
   "source": [
    "last_id = 9999\n",
    "headers = {\n",
    "    'User-Agent': 'Mozilla/5.0 (Windows NT 10.0; Win64; x64) AppleWebKit/537.36 (KHTML, like Gecko) Chrome/90.0.4430.93 Safari/537.36',\n",
    "    'From': 'danyal1921@gmail.com'\n",
    "}\n",
    "\n",
    "i= 7961\n",
    "while i<= last_id:\n",
    "  page = requests.get(\"https://www.larvalabs.com/cryptopunks/details/{}\".format(i), headers)\n",
    "  soup = BeautifulSoup(page.text, \"html.parser\")\n",
    "\n",
    "  tr_hist = soup.find_all('table')\n",
    "  df = pd.read_html(str(tr_hist))[0]\n",
    "  df['punk_nr']=i\n",
    "  df['Txn'] = pd.to_datetime(df['Txn'])\n",
    "    \n",
    "  if df.Amount.isna().all() ==True: #For cryptopunks with no bidding history, split the empty amount column and fetch the df\n",
    "    df.Amount.fillna('', inplace=True)\n",
    "    df[['price_in_eth', 'price_in_dollars']] = df['Amount'].str.split('-', n=1, expand=True).reindex([1,0], axis=1)\n",
    "    df.drop('Amount', axis=1, inplace=True)\n",
    "    df.to_csv('transaction.csv', header=None, mode='a')\n",
    "  \n",
    "  else: #For cryptopunks with bidding history, plit the string and convert the digits to float, then fetch the df\n",
    "    df[['price_in_eth', 'price_in_dollars']] = df['Amount'].str.split(' ', 1, expand=True)\n",
    "    df.price_in_eth = df.price_in_eth.apply(fix_eth)\n",
    "    df.price_in_dollars = df.price_in_dollars.apply(fix_dollar)\n",
    "    df.drop('Amount', axis=1, inplace=True)\n",
    "    df.to_csv('transaction.csv', header=None, mode='a')\n",
    "\n",
    "  newlist=[[]]\n",
    "  newlist[0].append(i)\n",
    "  name = soup.find('div', class_='col-md-10 col-md-offset-1 col-xs-12')\n",
    "  newlist[0].append(name.h4.a.text)\n",
    "    \n",
    "  for y in soup.find_all('div', class_='col-md-4')[1:]:\n",
    "    newlist[0].append(y.a.get_text())\n",
    "\n",
    "  x = pd.DataFrame(newlist)\n",
    "  x.to_csv('accessories.csv', header=None, mode='a', index=False)\n",
    "\n",
    "  sleep(randint(2,10))\n",
    "  i += 1"
   ]
  }
 ],
 "metadata": {
  "kernelspec": {
   "display_name": "Python 3",
   "language": "python",
   "name": "python3"
  },
  "language_info": {
   "codemirror_mode": {
    "name": "ipython",
    "version": 3
   },
   "file_extension": ".py",
   "mimetype": "text/x-python",
   "name": "python",
   "nbconvert_exporter": "python",
   "pygments_lexer": "ipython3",
   "version": "3.8.5"
  }
 },
 "nbformat": 4,
 "nbformat_minor": 5
}
