{
  "nbformat": 4,
  "nbformat_minor": 0,
  "metadata": {
    "colab": {
      "name": "eda_accessoires.ipynb",
      "provenance": [],
      "collapsed_sections": [],
      "toc_visible": true,
      "include_colab_link": true
    },
    "kernelspec": {
      "display_name": "Python 3",
      "language": "python",
      "name": "python3"
    },
    "language_info": {
      "codemirror_mode": {
        "name": "ipython",
        "version": 3
      },
      "file_extension": ".py",
      "mimetype": "text/x-python",
      "name": "python",
      "nbconvert_exporter": "python",
      "pygments_lexer": "ipython3",
      "version": "3.8.8"
    }
  },
  "cells": [
    {
      "cell_type": "markdown",
      "metadata": {
        "id": "view-in-github",
        "colab_type": "text"
      },
      "source": [
        "<a href=\"https://colab.research.google.com/github/kalinakalina/DEDA_Cryptopunks/blob/main/EDA_accessoires.ipynb\" target=\"_parent\"><img src=\"https://colab.research.google.com/assets/colab-badge.svg\" alt=\"Open In Colab\"/></a>"
      ]
    },
    {
      "cell_type": "code",
      "metadata": {
        "id": "4IyRvhzbhiVG"
      },
      "source": [
        "# imports\n",
        "import pandas as pd \n",
        "import requests\n",
        "from requests import get\n",
        "from bs4 import BeautifulSoup\n",
        "import numpy as np\n",
        "import seaborn as sns\n",
        "import matplotlib.pyplot as plt"
      ],
      "execution_count": null,
      "outputs": []
    },
    {
      "cell_type": "code",
      "metadata": {
        "id": "XYGV99IA4YRc"
      },
      "source": [
        "# helper functions\n",
        "def fix_eth(x):\n",
        "  x=str(x)\n",
        "  x=x.replace('Ξ', '')\n",
        "  x=x.replace('<', '')\n",
        "  x=x.replace(',', '')\n",
        "  if 'K' in x:\n",
        "    x=float(x.replace('K', ''))\n",
        "    x=x*1000\n",
        "    return x\n",
        "  return x"
      ],
      "execution_count": null,
      "outputs": []
    },
    {
      "cell_type": "code",
      "metadata": {
        "colab": {
          "base_uri": "https://localhost:8080/",
          "height": 199
        },
        "id": "4MXtXAEqhhrb",
        "outputId": "7322b504-0d5a-4313-e844-fa3e2ccdf639"
      },
      "source": [
        "# import transaction \n",
        "file = 'https://raw.githubusercontent.com/kalinakalina/DEDA_Cryptopunks/main/data/transaction.csv'\n",
        "dft = pd.read_csv(file, header = None, index_col = 0)\n",
        "dft.columns = ['type', 'from', 'to', 'date', 'punk_id', 'amount_in_eth', 'amount_in_dol']\n",
        "dft = dft[ ['punk_id'] + [ col for col in dft.columns if col != 'punk_id' ] ]\n",
        "dft.head()\n"
      ],
      "execution_count": null,
      "outputs": [
        {
          "output_type": "execute_result",
          "data": {
            "text/html": [
              "<div>\n",
              "<style scoped>\n",
              "    .dataframe tbody tr th:only-of-type {\n",
              "        vertical-align: middle;\n",
              "    }\n",
              "\n",
              "    .dataframe tbody tr th {\n",
              "        vertical-align: top;\n",
              "    }\n",
              "\n",
              "    .dataframe thead th {\n",
              "        text-align: right;\n",
              "    }\n",
              "</style>\n",
              "<table border=\"1\" class=\"dataframe\">\n",
              "  <thead>\n",
              "    <tr style=\"text-align: right;\">\n",
              "      <th></th>\n",
              "      <th>punk_id</th>\n",
              "      <th>type</th>\n",
              "      <th>from</th>\n",
              "      <th>to</th>\n",
              "      <th>date</th>\n",
              "      <th>amount_in_eth</th>\n",
              "      <th>amount_in_dol</th>\n",
              "    </tr>\n",
              "    <tr>\n",
              "      <th>0</th>\n",
              "      <th></th>\n",
              "      <th></th>\n",
              "      <th></th>\n",
              "      <th></th>\n",
              "      <th></th>\n",
              "      <th></th>\n",
              "      <th></th>\n",
              "    </tr>\n",
              "  </thead>\n",
              "  <tbody>\n",
              "    <tr>\n",
              "      <th>0</th>\n",
              "      <td>0</td>\n",
              "      <td>Bid Withdrawn</td>\n",
              "      <td>0x983ace</td>\n",
              "      <td>NaN</td>\n",
              "      <td>2021-05-10</td>\n",
              "      <td>250.0</td>\n",
              "      <td>1030000.0</td>\n",
              "    </tr>\n",
              "    <tr>\n",
              "      <th>1</th>\n",
              "      <td>0</td>\n",
              "      <td>Bid</td>\n",
              "      <td>0x983ace</td>\n",
              "      <td>NaN</td>\n",
              "      <td>2021-04-11</td>\n",
              "      <td>250.0</td>\n",
              "      <td>537,615</td>\n",
              "    </tr>\n",
              "    <tr>\n",
              "      <th>2</th>\n",
              "      <td>0</td>\n",
              "      <td>Bid Withdrawn</td>\n",
              "      <td>0xd7510a</td>\n",
              "      <td>NaN</td>\n",
              "      <td>2021-03-03</td>\n",
              "      <td>100.0</td>\n",
              "      <td>160,973</td>\n",
              "    </tr>\n",
              "    <tr>\n",
              "      <th>3</th>\n",
              "      <td>0</td>\n",
              "      <td>Bid</td>\n",
              "      <td>0xd7510a</td>\n",
              "      <td>NaN</td>\n",
              "      <td>2021-02-20</td>\n",
              "      <td>100.0</td>\n",
              "      <td>188,897</td>\n",
              "    </tr>\n",
              "    <tr>\n",
              "      <th>4</th>\n",
              "      <td>0</td>\n",
              "      <td>Bid Withdrawn</td>\n",
              "      <td>natealex</td>\n",
              "      <td>NaN</td>\n",
              "      <td>2020-09-16</td>\n",
              "      <td>69.0</td>\n",
              "      <td>25,532</td>\n",
              "    </tr>\n",
              "  </tbody>\n",
              "</table>\n",
              "</div>"
            ],
            "text/plain": [
              "   punk_id           type      from   to        date amount_in_eth  \\\n",
              "0                                                                    \n",
              "0        0  Bid Withdrawn  0x983ace  NaN  2021-05-10         250.0   \n",
              "1        0            Bid  0x983ace  NaN  2021-04-11         250.0   \n",
              "2        0  Bid Withdrawn  0xd7510a  NaN  2021-03-03         100.0   \n",
              "3        0            Bid  0xd7510a  NaN  2021-02-20         100.0   \n",
              "4        0  Bid Withdrawn  natealex  NaN  2020-09-16          69.0   \n",
              "\n",
              "  amount_in_dol  \n",
              "0                \n",
              "0     1030000.0  \n",
              "1       537,615  \n",
              "2       160,973  \n",
              "3       188,897  \n",
              "4        25,532  "
            ]
          },
          "metadata": {
            "tags": []
          },
          "execution_count": 13
        }
      ]
    },
    {
      "cell_type": "code",
      "metadata": {
        "colab": {
          "base_uri": "https://localhost:8080/",
          "height": 202
        },
        "id": "yHQeIoghfJw1",
        "outputId": "cf75b082-eb80-4168-b963-d8142f0bcc83"
      },
      "source": [
        "# import accessoires \n",
        "names=['gender', 'acc_1', 'acc_2', 'acc_3', 'acc_4', 'acc_5', 'acc_6', 'acc_7']\n",
        "file = 'https://raw.githubusercontent.com/kalinakalina/DEDA_Cryptopunks/main/data/accessories.csv'\n",
        "df = pd.read_csv(file, header=None, sep='\\n')\n",
        "df = df[0].str.split(',', expand=True)\n",
        "df.drop(0, axis=1, inplace=True)\n",
        "df.head()\n"
      ],
      "execution_count": null,
      "outputs": [
        {
          "output_type": "execute_result",
          "data": {
            "text/html": [
              "<div>\n",
              "<style scoped>\n",
              "    .dataframe tbody tr th:only-of-type {\n",
              "        vertical-align: middle;\n",
              "    }\n",
              "\n",
              "    .dataframe tbody tr th {\n",
              "        vertical-align: top;\n",
              "    }\n",
              "\n",
              "    .dataframe thead th {\n",
              "        text-align: right;\n",
              "    }\n",
              "</style>\n",
              "<table border=\"1\" class=\"dataframe\">\n",
              "  <thead>\n",
              "    <tr style=\"text-align: right;\">\n",
              "      <th></th>\n",
              "      <th>1</th>\n",
              "      <th>2</th>\n",
              "      <th>3</th>\n",
              "      <th>4</th>\n",
              "      <th>5</th>\n",
              "      <th>6</th>\n",
              "      <th>7</th>\n",
              "      <th>8</th>\n",
              "    </tr>\n",
              "  </thead>\n",
              "  <tbody>\n",
              "    <tr>\n",
              "      <th>0</th>\n",
              "      <td>Female</td>\n",
              "      <td>Green Eye Shadow</td>\n",
              "      <td>Earring</td>\n",
              "      <td>Blonde Bob</td>\n",
              "      <td>None</td>\n",
              "      <td>None</td>\n",
              "      <td>None</td>\n",
              "      <td>None</td>\n",
              "    </tr>\n",
              "    <tr>\n",
              "      <th>1</th>\n",
              "      <td>Male</td>\n",
              "      <td>Smile</td>\n",
              "      <td>Mohawk</td>\n",
              "      <td>None</td>\n",
              "      <td>None</td>\n",
              "      <td>None</td>\n",
              "      <td>None</td>\n",
              "      <td>None</td>\n",
              "    </tr>\n",
              "    <tr>\n",
              "      <th>2</th>\n",
              "      <td>Female</td>\n",
              "      <td>Wild Hair</td>\n",
              "      <td>None</td>\n",
              "      <td>None</td>\n",
              "      <td>None</td>\n",
              "      <td>None</td>\n",
              "      <td>None</td>\n",
              "      <td>None</td>\n",
              "    </tr>\n",
              "    <tr>\n",
              "      <th>3</th>\n",
              "      <td>Male</td>\n",
              "      <td>Wild Hair</td>\n",
              "      <td>Nerd Glasses</td>\n",
              "      <td>Pipe</td>\n",
              "      <td>None</td>\n",
              "      <td>None</td>\n",
              "      <td>None</td>\n",
              "      <td>None</td>\n",
              "    </tr>\n",
              "    <tr>\n",
              "      <th>4</th>\n",
              "      <td>Male</td>\n",
              "      <td>Big Shades</td>\n",
              "      <td>Wild Hair</td>\n",
              "      <td>Earring</td>\n",
              "      <td>Goat</td>\n",
              "      <td>None</td>\n",
              "      <td>None</td>\n",
              "      <td>None</td>\n",
              "    </tr>\n",
              "  </tbody>\n",
              "</table>\n",
              "</div>"
            ],
            "text/plain": [
              "        1                 2             3           4     5     6     7     8\n",
              "0  Female  Green Eye Shadow       Earring  Blonde Bob  None  None  None  None\n",
              "1    Male             Smile        Mohawk        None  None  None  None  None\n",
              "2  Female         Wild Hair          None        None  None  None  None  None\n",
              "3    Male         Wild Hair  Nerd Glasses        Pipe  None  None  None  None\n",
              "4    Male        Big Shades     Wild Hair     Earring  Goat  None  None  None"
            ]
          },
          "metadata": {
            "tags": []
          },
          "execution_count": 14
        }
      ]
    },
    {
      "cell_type": "code",
      "metadata": {
        "colab": {
          "base_uri": "https://localhost:8080/",
          "height": 202
        },
        "id": "Ah2FlVO1hNpl",
        "outputId": "96d7e386-b6c7-4d35-bb1b-9c3d10044c8c"
      },
      "source": [
        "dict={1:'gender', \n",
        "      2:  'acc_1',\n",
        "      3:'acc_2', \n",
        "      4: 'acc_3',\n",
        "      5:'acc_4',\n",
        "      6: 'acc_5',\n",
        "      7:'acc_6',\n",
        "      8:'acc_7'}\n",
        "df.rename(columns=dict,\n",
        "          inplace=True)\n",
        "  \n",
        "df.head()"
      ],
      "execution_count": null,
      "outputs": [
        {
          "output_type": "execute_result",
          "data": {
            "text/html": [
              "<div>\n",
              "<style scoped>\n",
              "    .dataframe tbody tr th:only-of-type {\n",
              "        vertical-align: middle;\n",
              "    }\n",
              "\n",
              "    .dataframe tbody tr th {\n",
              "        vertical-align: top;\n",
              "    }\n",
              "\n",
              "    .dataframe thead th {\n",
              "        text-align: right;\n",
              "    }\n",
              "</style>\n",
              "<table border=\"1\" class=\"dataframe\">\n",
              "  <thead>\n",
              "    <tr style=\"text-align: right;\">\n",
              "      <th></th>\n",
              "      <th>gender</th>\n",
              "      <th>acc_1</th>\n",
              "      <th>acc_2</th>\n",
              "      <th>acc_3</th>\n",
              "      <th>acc_4</th>\n",
              "      <th>acc_5</th>\n",
              "      <th>acc_6</th>\n",
              "      <th>acc_7</th>\n",
              "    </tr>\n",
              "  </thead>\n",
              "  <tbody>\n",
              "    <tr>\n",
              "      <th>0</th>\n",
              "      <td>Female</td>\n",
              "      <td>Green Eye Shadow</td>\n",
              "      <td>Earring</td>\n",
              "      <td>Blonde Bob</td>\n",
              "      <td>None</td>\n",
              "      <td>None</td>\n",
              "      <td>None</td>\n",
              "      <td>None</td>\n",
              "    </tr>\n",
              "    <tr>\n",
              "      <th>1</th>\n",
              "      <td>Male</td>\n",
              "      <td>Smile</td>\n",
              "      <td>Mohawk</td>\n",
              "      <td>None</td>\n",
              "      <td>None</td>\n",
              "      <td>None</td>\n",
              "      <td>None</td>\n",
              "      <td>None</td>\n",
              "    </tr>\n",
              "    <tr>\n",
              "      <th>2</th>\n",
              "      <td>Female</td>\n",
              "      <td>Wild Hair</td>\n",
              "      <td>None</td>\n",
              "      <td>None</td>\n",
              "      <td>None</td>\n",
              "      <td>None</td>\n",
              "      <td>None</td>\n",
              "      <td>None</td>\n",
              "    </tr>\n",
              "    <tr>\n",
              "      <th>3</th>\n",
              "      <td>Male</td>\n",
              "      <td>Wild Hair</td>\n",
              "      <td>Nerd Glasses</td>\n",
              "      <td>Pipe</td>\n",
              "      <td>None</td>\n",
              "      <td>None</td>\n",
              "      <td>None</td>\n",
              "      <td>None</td>\n",
              "    </tr>\n",
              "    <tr>\n",
              "      <th>4</th>\n",
              "      <td>Male</td>\n",
              "      <td>Big Shades</td>\n",
              "      <td>Wild Hair</td>\n",
              "      <td>Earring</td>\n",
              "      <td>Goat</td>\n",
              "      <td>None</td>\n",
              "      <td>None</td>\n",
              "      <td>None</td>\n",
              "    </tr>\n",
              "  </tbody>\n",
              "</table>\n",
              "</div>"
            ],
            "text/plain": [
              "   gender             acc_1         acc_2       acc_3 acc_4 acc_5 acc_6 acc_7\n",
              "0  Female  Green Eye Shadow       Earring  Blonde Bob  None  None  None  None\n",
              "1    Male             Smile        Mohawk        None  None  None  None  None\n",
              "2  Female         Wild Hair          None        None  None  None  None  None\n",
              "3    Male         Wild Hair  Nerd Glasses        Pipe  None  None  None  None\n",
              "4    Male        Big Shades     Wild Hair     Earring  Goat  None  None  None"
            ]
          },
          "metadata": {
            "tags": []
          },
          "execution_count": 15
        }
      ]
    },
    {
      "cell_type": "code",
      "metadata": {
        "colab": {
          "base_uri": "https://localhost:8080/"
        },
        "id": "mrylH87TjgU4",
        "outputId": "b23a0e1f-721b-4c9a-cb03-fdf938a77797"
      },
      "source": [
        "columns = df.select_dtypes(include=[object]).columns\n",
        "df[columns] = df[columns].astype('category')\n",
        "df.info()"
      ],
      "execution_count": null,
      "outputs": [
        {
          "output_type": "stream",
          "text": [
            "<class 'pandas.core.frame.DataFrame'>\n",
            "RangeIndex: 10000 entries, 0 to 9999\n",
            "Data columns (total 8 columns):\n",
            " #   Column  Non-Null Count  Dtype   \n",
            "---  ------  --------------  -----   \n",
            " 0   gender  10000 non-null  category\n",
            " 1   acc_1   9992 non-null   category\n",
            " 2   acc_2   9659 non-null   category\n",
            " 3   acc_3   6099 non-null   category\n",
            " 4   acc_4   1598 non-null   category\n",
            " 5   acc_5   178 non-null    category\n",
            " 6   acc_6   12 non-null     category\n",
            " 7   acc_7   1 non-null      category\n",
            "dtypes: category(8)\n",
            "memory usage: 90.9 KB\n"
          ],
          "name": "stdout"
        }
      ]
    },
    {
      "cell_type": "markdown",
      "metadata": {
        "id": "wbD2VahzOOp6"
      },
      "source": [
        "# Types & Attributes"
      ]
    },
    {
      "cell_type": "code",
      "metadata": {
        "colab": {
          "base_uri": "https://localhost:8080/"
        },
        "id": "7QTwgLrszNuz",
        "outputId": "c5ca5bfb-a95d-4382-da87-f8710c642a99"
      },
      "source": [
        "page = requests.get(\"https://www.larvalabs.com/cryptopunks/attributes\")\n",
        "soup = BeautifulSoup(page.text, \"html.parser\")\n",
        "\n",
        "tr_hist = soup.find_all('table')\n",
        "df_acc_types = pd.read_html(str(tr_hist))[0]\n",
        "df_acc_types = pd.DataFrame(df_acc_types.to_records())\n",
        "\n",
        "dict={'index':'index',\n",
        "      \"('Punk Types', 'Attribute')\":'types',\n",
        "      \"('Unnamed: 1_level_0', '#')\":'number',\n",
        "      \"('Unnamed: 2_level_0', 'Avail')\":'avail',\n",
        "      \"('Unnamed: 3_level_0', 'Avg Sale')\":\"avg_sale\",\n",
        "      \"('Unnamed: 4_level_0', 'Cheapest')\":'cheapest',\n",
        "      \"('Unnamed: 5_level_0', 'More Examples')\":'more_examples'}\n",
        "df_acc_types.rename(columns=dict,\n",
        "          inplace=True)\n",
        "df_acc_types.columns\n",
        "df.head()\n",
        "df_acc_types.avg_sale=df_acc_types.avg_sale.apply(fix_eth)\n",
        "df_acc_types.cheapest=df_acc_types.cheapest.apply(fix_eth)\n",
        "\n",
        "df_acc_types.avg_sale = df_acc_types.avg_sale.astype(np.float32)\n",
        "df_acc_types.cheapest = df_acc_types.cheapest.astype(np.float32)\n",
        "df_acc_types.types = df_acc_types.types.astype('category')\n",
        "df_acc_types.drop('more_examples', axis=1, inplace=True)\n",
        "df_acc_types.info()"
      ],
      "execution_count": null,
      "outputs": [
        {
          "output_type": "stream",
          "text": [
            "<class 'pandas.core.frame.DataFrame'>\n",
            "RangeIndex: 5 entries, 0 to 4\n",
            "Data columns (total 6 columns):\n",
            " #   Column    Non-Null Count  Dtype   \n",
            "---  ------    --------------  -----   \n",
            " 0   index     5 non-null      int64   \n",
            " 1   types     5 non-null      category\n",
            " 2   number    5 non-null      int64   \n",
            " 3   avail     5 non-null      int64   \n",
            " 4   avg_sale  5 non-null      float32 \n",
            " 5   cheapest  4 non-null      float32 \n",
            "dtypes: category(1), float32(2), int64(3)\n",
            "memory usage: 505.0 bytes\n"
          ],
          "name": "stdout"
        }
      ]
    },
    {
      "cell_type": "markdown",
      "metadata": {
        "id": "yPquvGpJ3xZN"
      },
      "source": [
        "# Feature explanation\n",
        "* number: the amount of crpytopunk that have this feature\n",
        "* avail: amount of crpytopunks currently available for sale\n",
        "* avg_sale: avg sale over the last 90 days\n",
        "* cheapest: cheapest punktwith this attribute that is currently for sale\n",
        "* more example: dropped as it is not readable like this"
      ]
    },
    {
      "cell_type": "code",
      "metadata": {
        "colab": {
          "base_uri": "https://localhost:8080/"
        },
        "id": "N0p-KHwk1RRR",
        "outputId": "8ccd55c4-e10b-41b5-9b91-e9e8c6a35b9e"
      },
      "source": [
        "# scraping attributes data and transforming it\n",
        "tr_hist = soup.find_all('table')\n",
        "df_acc_att = pd.read_html(str(tr_hist))[1]\n",
        "\n",
        "df_acc_att = pd.DataFrame(df_acc_att.to_records())\n",
        "df_acc_att.columns\n",
        "dict={'index':'index',\n",
        "      \"('Attributes', 'Attribute')\":'attributes',\n",
        "      \"('Unnamed: 1_level_0', '#')\":'number',\n",
        "      \"('Unnamed: 2_level_0', 'Avail')\":'avail',\n",
        "      \"('Unnamed: 3_level_0', 'Avg Sale')\":\"avg_sale\",\n",
        "      \"('Unnamed: 4_level_0', 'Cheapest')\":'cheapest',\n",
        "      \"('Unnamed: 5_level_0', 'More Examples')\":'more_examples'}\n",
        "df_acc_att.rename(columns=dict,\n",
        "          inplace=True)\n",
        "df_acc_att.columns\n",
        "\n",
        "df_acc_att.avg_sale=df_acc_att.avg_sale.apply(fix_eth)\n",
        "df_acc_att.cheapest=df_acc_att.cheapest.apply(fix_eth)\n",
        "\n",
        "df_acc_att.avg_sale = df_acc_att.avg_sale.astype(np.float32)\n",
        "df_acc_att.cheapest = df_acc_att.cheapest.astype(np.float32)\n",
        "df_acc_att.attributes = df_acc_att.attributes.astype('category')\n",
        "df_acc_att.drop('more_examples', axis=1, inplace=True)\n",
        "df_acc_att.info()"
      ],
      "execution_count": null,
      "outputs": [
        {
          "output_type": "stream",
          "text": [
            "<class 'pandas.core.frame.DataFrame'>\n",
            "RangeIndex: 87 entries, 0 to 86\n",
            "Data columns (total 6 columns):\n",
            " #   Column      Non-Null Count  Dtype   \n",
            "---  ------      --------------  -----   \n",
            " 0   index       87 non-null     int64   \n",
            " 1   attributes  87 non-null     category\n",
            " 2   number      87 non-null     int64   \n",
            " 3   avail       87 non-null     int64   \n",
            " 4   avg_sale    87 non-null     float32 \n",
            " 5   cheapest    87 non-null     float32 \n",
            "dtypes: category(1), float32(2), int64(3)\n",
            "memory usage: 5.7 KB\n"
          ],
          "name": "stdout"
        }
      ]
    },
    {
      "cell_type": "markdown",
      "metadata": {
        "id": "KxBCrK5s4yA9"
      },
      "source": [
        "# Graphical discovery for attributes"
      ]
    },
    {
      "cell_type": "code",
      "metadata": {
        "colab": {
          "base_uri": "https://localhost:8080/",
          "height": 415
        },
        "id": "4rdjUdHYzwPo",
        "outputId": "ab38095e-1f59-40c4-a65f-b443b523b270"
      },
      "source": [
        "df_acc_att.sort_values(by=['avg_sale'], ascending=False)"
      ],
      "execution_count": null,
      "outputs": [
        {
          "output_type": "execute_result",
          "data": {
            "text/html": [
              "<div>\n",
              "<style scoped>\n",
              "    .dataframe tbody tr th:only-of-type {\n",
              "        vertical-align: middle;\n",
              "    }\n",
              "\n",
              "    .dataframe tbody tr th {\n",
              "        vertical-align: top;\n",
              "    }\n",
              "\n",
              "    .dataframe thead th {\n",
              "        text-align: right;\n",
              "    }\n",
              "</style>\n",
              "<table border=\"1\" class=\"dataframe\">\n",
              "  <thead>\n",
              "    <tr style=\"text-align: right;\">\n",
              "      <th></th>\n",
              "      <th>index</th>\n",
              "      <th>attributes</th>\n",
              "      <th>number</th>\n",
              "      <th>avail</th>\n",
              "      <th>avg_sale</th>\n",
              "      <th>cheapest</th>\n",
              "    </tr>\n",
              "  </thead>\n",
              "  <tbody>\n",
              "    <tr>\n",
              "      <th>0</th>\n",
              "      <td>0</td>\n",
              "      <td>Beanie</td>\n",
              "      <td>44</td>\n",
              "      <td>11</td>\n",
              "      <td>156.000000</td>\n",
              "      <td>220.000000</td>\n",
              "    </tr>\n",
              "    <tr>\n",
              "      <th>2</th>\n",
              "      <td>2</td>\n",
              "      <td>Pilot Helmet</td>\n",
              "      <td>54</td>\n",
              "      <td>12</td>\n",
              "      <td>121.199997</td>\n",
              "      <td>130.000000</td>\n",
              "    </tr>\n",
              "    <tr>\n",
              "      <th>4</th>\n",
              "      <td>4</td>\n",
              "      <td>Orange Side</td>\n",
              "      <td>68</td>\n",
              "      <td>15</td>\n",
              "      <td>96.029999</td>\n",
              "      <td>65.559998</td>\n",
              "    </tr>\n",
              "    <tr>\n",
              "      <th>36</th>\n",
              "      <td>36</td>\n",
              "      <td>Hoodie</td>\n",
              "      <td>259</td>\n",
              "      <td>45</td>\n",
              "      <td>67.839996</td>\n",
              "      <td>52.000000</td>\n",
              "    </tr>\n",
              "    <tr>\n",
              "      <th>1</th>\n",
              "      <td>1</td>\n",
              "      <td>Choker</td>\n",
              "      <td>48</td>\n",
              "      <td>7</td>\n",
              "      <td>67.330002</td>\n",
              "      <td>75.000000</td>\n",
              "    </tr>\n",
              "    <tr>\n",
              "      <th>...</th>\n",
              "      <td>...</td>\n",
              "      <td>...</td>\n",
              "      <td>...</td>\n",
              "      <td>...</td>\n",
              "      <td>...</td>\n",
              "      <td>...</td>\n",
              "    </tr>\n",
              "    <tr>\n",
              "      <th>56</th>\n",
              "      <td>56</td>\n",
              "      <td>Peak Spike</td>\n",
              "      <td>303</td>\n",
              "      <td>36</td>\n",
              "      <td>21.559999</td>\n",
              "      <td>20.490000</td>\n",
              "    </tr>\n",
              "    <tr>\n",
              "      <th>68</th>\n",
              "      <td>68</td>\n",
              "      <td>Mohawk Thin</td>\n",
              "      <td>441</td>\n",
              "      <td>65</td>\n",
              "      <td>20.750000</td>\n",
              "      <td>18.500000</td>\n",
              "    </tr>\n",
              "    <tr>\n",
              "      <th>67</th>\n",
              "      <td>67</td>\n",
              "      <td>Mohawk</td>\n",
              "      <td>441</td>\n",
              "      <td>60</td>\n",
              "      <td>20.650000</td>\n",
              "      <td>17.850000</td>\n",
              "    </tr>\n",
              "    <tr>\n",
              "      <th>24</th>\n",
              "      <td>24</td>\n",
              "      <td>Straight Hair</td>\n",
              "      <td>151</td>\n",
              "      <td>35</td>\n",
              "      <td>20.610001</td>\n",
              "      <td>18.799999</td>\n",
              "    </tr>\n",
              "    <tr>\n",
              "      <th>53</th>\n",
              "      <td>53</td>\n",
              "      <td>Do-rag</td>\n",
              "      <td>300</td>\n",
              "      <td>52</td>\n",
              "      <td>20.570000</td>\n",
              "      <td>18.480000</td>\n",
              "    </tr>\n",
              "  </tbody>\n",
              "</table>\n",
              "<p>87 rows × 6 columns</p>\n",
              "</div>"
            ],
            "text/plain": [
              "    index     attributes  number  avail    avg_sale    cheapest\n",
              "0       0         Beanie      44     11  156.000000  220.000000\n",
              "2       2   Pilot Helmet      54     12  121.199997  130.000000\n",
              "4       4    Orange Side      68     15   96.029999   65.559998\n",
              "36     36         Hoodie     259     45   67.839996   52.000000\n",
              "1       1         Choker      48      7   67.330002   75.000000\n",
              "..    ...            ...     ...    ...         ...         ...\n",
              "56     56     Peak Spike     303     36   21.559999   20.490000\n",
              "68     68    Mohawk Thin     441     65   20.750000   18.500000\n",
              "67     67         Mohawk     441     60   20.650000   17.850000\n",
              "24     24  Straight Hair     151     35   20.610001   18.799999\n",
              "53     53         Do-rag     300     52   20.570000   18.480000\n",
              "\n",
              "[87 rows x 6 columns]"
            ]
          },
          "metadata": {
            "tags": []
          },
          "execution_count": 20
        }
      ]
    },
    {
      "cell_type": "code",
      "metadata": {
        "colab": {
          "base_uri": "https://localhost:8080/",
          "height": 403
        },
        "id": "poYDRJox16c4",
        "outputId": "6b0752b1-16a6-4ea3-aec4-fa92ec7e1dc0"
      },
      "source": [
        "df_acc_att.hist()"
      ],
      "execution_count": null,
      "outputs": [
        {
          "output_type": "execute_result",
          "data": {
            "text/plain": [
              "array([[<AxesSubplot:title={'center':'index'}>,\n",
              "        <AxesSubplot:title={'center':'number'}>],\n",
              "       [<AxesSubplot:title={'center':'avail'}>,\n",
              "        <AxesSubplot:title={'center':'avg_sale'}>],\n",
              "       [<AxesSubplot:title={'center':'cheapest'}>, <AxesSubplot:>]],\n",
              "      dtype=object)"
            ]
          },
          "metadata": {
            "tags": []
          },
          "execution_count": 21
        },
        {
          "output_type": "display_data",
          "data": {
            "image/png": "[encoded data removed]",
            "text/plain": [
              "<Figure size 432x288 with 6 Axes>"
            ]
          },
          "metadata": {
            "tags": [],
            "needs_background": "light"
          }
        }
      ]
    },
    {
      "cell_type": "code",
      "metadata": {
        "colab": {
          "base_uri": "https://localhost:8080/",
          "height": 352
        },
        "id": "jAjlZvsw3HdX",
        "outputId": "0ebc8993-d62a-48f2-c133-7fb62c42fd0e"
      },
      "source": [
        "sns.distplot(df_acc_att.avg_sale)\n",
        "plt.savefig('densityplot_sales', transparent=True)"
      ],
      "execution_count": null,
      "outputs": [
        {
          "output_type": "stream",
          "text": [
            "C:\\Users\\julia\\anaconda3\\lib\\site-packages\\seaborn\\distributions.py:2557: FutureWarning: `distplot` is a deprecated function and will be removed in a future version. Please adapt your code to use either `displot` (a figure-level function with similar flexibility) or `histplot` (an axes-level function for histograms).\n",
            "  warnings.warn(msg, FutureWarning)\n"
          ],
          "name": "stderr"
        },
        {
          "output_type": "display_data",
          "data": {
            "image/png": "[encoded data removed]",
            "text/plain": [
              "<Figure size 432x288 with 1 Axes>"
            ]
          },
          "metadata": {
            "tags": [],
            "needs_background": "light"
          }
        }
      ]
    },
    {
      "cell_type": "code",
      "metadata": {
        "colab": {
          "base_uri": "https://localhost:8080/",
          "height": 283
        },
        "id": "UkRidxXM48Q-",
        "outputId": "319a7651-9bb7-43f1-99a7-dba9e70d0195"
      },
      "source": [
        "df_acc_att.boxplot()"
      ],
      "execution_count": null,
      "outputs": [
        {
          "output_type": "execute_result",
          "data": {
            "text/plain": [
              "<AxesSubplot:>"
            ]
          },
          "metadata": {
            "tags": []
          },
          "execution_count": 23
        },
        {
          "output_type": "display_data",
          "data": {
            "image/png": "[encoded data removed]",
            "text/plain": [
              "<Figure size 432x288 with 1 Axes>"
            ]
          },
          "metadata": {
            "tags": [],
            "needs_background": "light"
          }
        }
      ]
    },
    {
      "cell_type": "code",
      "metadata": {
        "colab": {
          "base_uri": "https://localhost:8080/",
          "height": 297
        },
        "id": "T_99My-x5hV0",
        "outputId": "651200b2-a47b-4e32-e8cb-e6be7c471fbc"
      },
      "source": [
        "#number of punks that have the same feature compared to average sale price over time\n",
        "sns.lineplot(x=df_acc_att.number, y=df_acc_att.avg_sale)\n",
        "plt.savefig('All Sales', transparent=True)\n"
      ],
      "execution_count": null,
      "outputs": [
        {
          "output_type": "display_data",
          "data": {
            "image/png": "[encoded data removed]",
            "text/plain": [
              "<Figure size 432x288 with 1 Axes>"
            ]
          },
          "metadata": {
            "tags": [],
            "needs_background": "light"
          }
        }
      ]
    },
    {
      "cell_type": "code",
      "metadata": {
        "colab": {
          "base_uri": "https://localhost:8080/",
          "height": 297
        },
        "id": "2pMti-0iLsGX",
        "outputId": "4aa66643-2414-46f4-8242-3e0529cea50e"
      },
      "source": [
        "sns.lineplot(x=df_acc_att.avg_sale, y=df_acc_att.avail)"
      ],
      "execution_count": null,
      "outputs": [
        {
          "output_type": "execute_result",
          "data": {
            "text/plain": [
              "<AxesSubplot:xlabel='avg_sale', ylabel='avail'>"
            ]
          },
          "metadata": {
            "tags": []
          },
          "execution_count": 25
        },
        {
          "output_type": "display_data",
          "data": {
            "image/png": "[encoded data removed]",
            "text/plain": [
              "<Figure size 432x288 with 1 Axes>"
            ]
          },
          "metadata": {
            "tags": [],
            "needs_background": "light"
          }
        }
      ]
    },
    {
      "cell_type": "markdown",
      "metadata": {
        "id": "yAX8aMm3Ob-a"
      },
      "source": [
        "# Dummy Encode"
      ]
    },
    {
      "cell_type": "code",
      "metadata": {
        "id": "_nu73_hzLIbg"
      },
      "source": [
        "df_test=df.copy()\n",
        "list_att = df_acc_att.attributes"
      ],
      "execution_count": null,
      "outputs": []
    },
    {
      "cell_type": "code",
      "metadata": {
        "colab": {
          "base_uri": "https://localhost:8080/",
          "height": 133
        },
        "id": "gP5FoQafOs0Z",
        "outputId": "270625f3-256f-42b7-d829-913f59aed1d8"
      },
      "source": [
        "g = pd.DataFrame(columns=list_att)\n",
        "g.rename(columns={'index':'number'},\n",
        "          inplace=True)\n",
        "g"
      ],
      "execution_count": null,
      "outputs": [
        {
          "output_type": "execute_result",
          "data": {
            "text/html": [
              "<div>\n",
              "<style scoped>\n",
              "    .dataframe tbody tr th:only-of-type {\n",
              "        vertical-align: middle;\n",
              "    }\n",
              "\n",
              "    .dataframe tbody tr th {\n",
              "        vertical-align: top;\n",
              "    }\n",
              "\n",
              "    .dataframe thead th {\n",
              "        text-align: right;\n",
              "    }\n",
              "</style>\n",
              "<table border=\"1\" class=\"dataframe\">\n",
              "  <thead>\n",
              "    <tr style=\"text-align: right;\">\n",
              "      <th>attributes</th>\n",
              "      <th>Beanie</th>\n",
              "      <th>Choker</th>\n",
              "      <th>Pilot Helmet</th>\n",
              "      <th>Tiara</th>\n",
              "      <th>Orange Side</th>\n",
              "      <th>Buck Teeth</th>\n",
              "      <th>Welding Goggles</th>\n",
              "      <th>Pigtails</th>\n",
              "      <th>Pink With Hat</th>\n",
              "      <th>Top Hat</th>\n",
              "      <th>...</th>\n",
              "      <th>Regular Shades</th>\n",
              "      <th>Horned Rim Glasses</th>\n",
              "      <th>Big Shades</th>\n",
              "      <th>Nerd Glasses</th>\n",
              "      <th>Black Lipstick</th>\n",
              "      <th>Mole</th>\n",
              "      <th>Purple Lipstick</th>\n",
              "      <th>Hot Lipstick</th>\n",
              "      <th>Cigarette</th>\n",
              "      <th>Earring</th>\n",
              "    </tr>\n",
              "  </thead>\n",
              "  <tbody>\n",
              "  </tbody>\n",
              "</table>\n",
              "<p>0 rows × 87 columns</p>\n",
              "</div>"
            ],
            "text/plain": [
              "Empty DataFrame\n",
              "Columns: [Beanie, Choker, Pilot Helmet, Tiara, Orange Side, Buck Teeth, Welding Goggles, Pigtails, Pink With Hat, Top Hat, Spots, Rosy Cheeks, Blonde Short, Wild White Hair, Cowboy Hat, Wild Blonde, Straight Hair Blonde, Big Beard, Red Mohawk, Half Shaved, Blonde Bob, Vampire Hair, Clown Hair Green, Straight Hair Dark, Straight Hair, Silver Chain, Dark Hair, Purple Hair, Gold Chain, Medical Mask, Tassle Hat, Fedora, Police Cap, Clown Nose, Smile, Cap Forward, Hoodie, Front Beard Dark, Frown, Purple Eye Shadow, Handlebars, Blue Eye Shadow, Green Eye Shadow, Vape, Front Beard, Chinstrap, 3D Glasses, Luxurious Beard, Mustache, Normal Beard Black, Normal Beard, Eye Mask, Goat, Do-rag, Shaved Head, Muttonchops, Peak Spike, Pipe, VR, Cap, Small Shades, Clown Eyes Green, Clown Eyes Blue, Headband, Crazy Hair, Knitted Cap, Mohawk Dark, Mohawk, Mohawk Thin, Frumpy Hair, Wild Hair, Messy Hair, Eye Patch, Stringy Hair, Bandana, Classic Shades, Shadow Beard, Regular Shades, Horned Rim Glasses, Big Shades, Nerd Glasses, Black Lipstick, Mole, Purple Lipstick, Hot Lipstick, Cigarette, Earring]\n",
              "Index: []\n",
              "\n",
              "[0 rows x 87 columns]"
            ]
          },
          "metadata": {
            "tags": []
          },
          "execution_count": 29
        }
      ]
    },
    {
      "cell_type": "code",
      "metadata": {
        "id": "RuXX5KZpQoZd",
        "outputId": "03c098a9-430d-4943-d21e-d94e0d19e55c"
      },
      "source": [
        "df.loc[df.acc_1=='Earring', 'acc_1':'acc_7']\n",
        "if df.loc[1,:].str.contains('Smile').any():\n",
        "    print(\"TX is there\")\n",
        "x=g.copy()\n",
        "x"
      ],
      "execution_count": null,
      "outputs": [
        {
          "output_type": "execute_result",
          "data": {
            "text/html": [
              "<div>\n",
              "<style scoped>\n",
              "    .dataframe tbody tr th:only-of-type {\n",
              "        vertical-align: middle;\n",
              "    }\n",
              "\n",
              "    .dataframe tbody tr th {\n",
              "        vertical-align: top;\n",
              "    }\n",
              "\n",
              "    .dataframe thead th {\n",
              "        text-align: right;\n",
              "    }\n",
              "</style>\n",
              "<table border=\"1\" class=\"dataframe\">\n",
              "  <thead>\n",
              "    <tr style=\"text-align: right;\">\n",
              "      <th></th>\n",
              "      <th>acc_1</th>\n",
              "      <th>acc_2</th>\n",
              "      <th>acc_3</th>\n",
              "      <th>acc_4</th>\n",
              "      <th>acc_5</th>\n",
              "      <th>acc_6</th>\n",
              "      <th>acc_7</th>\n",
              "    </tr>\n",
              "  </thead>\n",
              "  <tbody>\n",
              "    <tr>\n",
              "      <th>45</th>\n",
              "      <td>Earring</td>\n",
              "      <td>Mole</td>\n",
              "      <td>NaN</td>\n",
              "      <td>NaN</td>\n",
              "      <td>NaN</td>\n",
              "      <td>NaN</td>\n",
              "      <td>NaN</td>\n",
              "    </tr>\n",
              "    <tr>\n",
              "      <th>63</th>\n",
              "      <td>Earring</td>\n",
              "      <td>Shaved Head</td>\n",
              "      <td>Small Shades</td>\n",
              "      <td>NaN</td>\n",
              "      <td>NaN</td>\n",
              "      <td>NaN</td>\n",
              "      <td>NaN</td>\n",
              "    </tr>\n",
              "    <tr>\n",
              "      <th>95</th>\n",
              "      <td>Earring</td>\n",
              "      <td>Mohawk</td>\n",
              "      <td>NaN</td>\n",
              "      <td>NaN</td>\n",
              "      <td>NaN</td>\n",
              "      <td>NaN</td>\n",
              "      <td>NaN</td>\n",
              "    </tr>\n",
              "    <tr>\n",
              "      <th>146</th>\n",
              "      <td>Earring</td>\n",
              "      <td>Mohawk</td>\n",
              "      <td>NaN</td>\n",
              "      <td>NaN</td>\n",
              "      <td>NaN</td>\n",
              "      <td>NaN</td>\n",
              "      <td>NaN</td>\n",
              "    </tr>\n",
              "    <tr>\n",
              "      <th>208</th>\n",
              "      <td>Earring</td>\n",
              "      <td>Shaved Head</td>\n",
              "      <td>3D Glasses</td>\n",
              "      <td>NaN</td>\n",
              "      <td>NaN</td>\n",
              "      <td>NaN</td>\n",
              "      <td>NaN</td>\n",
              "    </tr>\n",
              "    <tr>\n",
              "      <th>...</th>\n",
              "      <td>...</td>\n",
              "      <td>...</td>\n",
              "      <td>...</td>\n",
              "      <td>...</td>\n",
              "      <td>...</td>\n",
              "      <td>...</td>\n",
              "      <td>...</td>\n",
              "    </tr>\n",
              "    <tr>\n",
              "      <th>9787</th>\n",
              "      <td>Earring</td>\n",
              "      <td>Eye Patch</td>\n",
              "      <td>Mohawk Dark</td>\n",
              "      <td>NaN</td>\n",
              "      <td>NaN</td>\n",
              "      <td>NaN</td>\n",
              "      <td>NaN</td>\n",
              "    </tr>\n",
              "    <tr>\n",
              "      <th>9839</th>\n",
              "      <td>Earring</td>\n",
              "      <td>Knitted Cap</td>\n",
              "      <td>VR</td>\n",
              "      <td>NaN</td>\n",
              "      <td>NaN</td>\n",
              "      <td>NaN</td>\n",
              "      <td>NaN</td>\n",
              "    </tr>\n",
              "    <tr>\n",
              "      <th>9855</th>\n",
              "      <td>Earring</td>\n",
              "      <td>Headband</td>\n",
              "      <td>Small Shades</td>\n",
              "      <td>NaN</td>\n",
              "      <td>NaN</td>\n",
              "      <td>NaN</td>\n",
              "      <td>NaN</td>\n",
              "    </tr>\n",
              "    <tr>\n",
              "      <th>9870</th>\n",
              "      <td>Earring</td>\n",
              "      <td>Horned Rim Glasses</td>\n",
              "      <td>Cowboy Hat</td>\n",
              "      <td>NaN</td>\n",
              "      <td>NaN</td>\n",
              "      <td>NaN</td>\n",
              "      <td>NaN</td>\n",
              "    </tr>\n",
              "    <tr>\n",
              "      <th>9947</th>\n",
              "      <td>Earring</td>\n",
              "      <td>Goat</td>\n",
              "      <td>Knitted Cap</td>\n",
              "      <td>VR</td>\n",
              "      <td>NaN</td>\n",
              "      <td>NaN</td>\n",
              "      <td>NaN</td>\n",
              "    </tr>\n",
              "  </tbody>\n",
              "</table>\n",
              "<p>244 rows × 7 columns</p>\n",
              "</div>"
            ],
            "text/plain": [
              "        acc_1               acc_2         acc_3 acc_4 acc_5 acc_6 acc_7\n",
              "45    Earring                Mole           NaN   NaN   NaN   NaN   NaN\n",
              "63    Earring         Shaved Head  Small Shades   NaN   NaN   NaN   NaN\n",
              "95    Earring              Mohawk           NaN   NaN   NaN   NaN   NaN\n",
              "146   Earring              Mohawk           NaN   NaN   NaN   NaN   NaN\n",
              "208   Earring         Shaved Head    3D Glasses   NaN   NaN   NaN   NaN\n",
              "...       ...                 ...           ...   ...   ...   ...   ...\n",
              "9787  Earring           Eye Patch   Mohawk Dark   NaN   NaN   NaN   NaN\n",
              "9839  Earring         Knitted Cap            VR   NaN   NaN   NaN   NaN\n",
              "9855  Earring            Headband  Small Shades   NaN   NaN   NaN   NaN\n",
              "9870  Earring  Horned Rim Glasses    Cowboy Hat   NaN   NaN   NaN   NaN\n",
              "9947  Earring                Goat   Knitted Cap    VR   NaN   NaN   NaN\n",
              "\n",
              "[244 rows x 7 columns]"
            ]
          },
          "metadata": {
            "tags": []
          },
          "execution_count": 31
        }
      ]
    },
    {
      "cell_type": "code",
      "metadata": {
        "id": "s96Hi02cRYcf"
      },
      "source": [
        "for counter in range(df.shape[0]):\n",
        "  for i in g:\n",
        "    if df.loc[counter,:].str.contains(i).any():\n",
        "      x.loc[counter,i] = 1\n",
        "\n",
        "x.to_csv('accessories_transformed.csv', mode='w', index=False)    "
      ],
      "execution_count": null,
      "outputs": []
    }
  ]
}